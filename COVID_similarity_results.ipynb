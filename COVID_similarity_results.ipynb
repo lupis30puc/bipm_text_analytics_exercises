{
  "nbformat": 4,
  "nbformat_minor": 0,
  "metadata": {
    "colab": {
      "name": "COVID-similarity-results.ipynb",
      "provenance": [],
      "collapsed_sections": [
        "a-egQKdhsrnJ",
        "TobXDtYW5skm",
        "9XvZUOTA5ij3",
        "b0Px-rBl6jTP"
      ],
      "toc_visible": true,
      "include_colab_link": true
    },
    "kernelspec": {
      "name": "python3",
      "display_name": "Python 3"
    }
  },
  "cells": [
    {
      "cell_type": "markdown",
      "metadata": {
        "id": "view-in-github",
        "colab_type": "text"
      },
      "source": [
        "<a href=\"https://colab.research.google.com/github/lupis30puc/bipm_text_analytics_exercises/blob/main/COVID_similarity_results.ipynb\" target=\"_parent\"><img src=\"https://colab.research.google.com/assets/colab-badge.svg\" alt=\"Open In Colab\"/></a>"
      ]
    },
    {
      "cell_type": "code",
      "metadata": {
        "id": "ikl408nZWDX_"
      },
      "source": [
        "import pandas as pd\n",
        "import numpy as np\n",
        "import re\n",
        "import en_core_web_sm\n",
        "import csv\n",
        "import pickle\n",
        "from google.colab import files\n",
        "\n",
        "from gensim.parsing.preprocessing import STOPWORDS, strip_tags, strip_numeric, strip_punctuation, strip_multiple_whitespaces, remove_stopwords, strip_short, stem_text\n",
        "from nltk.corpus import stopwords\n",
        "\n",
        "from gensim.test.utils import common_texts, get_tmpfile\n",
        "from gensim.models.doc2vec import Doc2Vec, TaggedDocument\n",
        "from scipy.spatial.distance import cosine, cdist"
      ],
      "execution_count": null,
      "outputs": []
    },
    {
      "cell_type": "code",
      "metadata": {
        "id": "DzHzGFFN1hkU",
        "colab": {
          "base_uri": "https://localhost:8080/",
          "height": 34
        },
        "outputId": "99310289-0e55-44d1-af8b-177136ab3620"
      },
      "source": [
        "len(diabetes_df)"
      ],
      "execution_count": null,
      "outputs": [
        {
          "output_type": "execute_result",
          "data": {
            "text/plain": [
              "36"
            ]
          },
          "metadata": {
            "tags": []
          },
          "execution_count": 3
        }
      ]
    },
    {
      "cell_type": "code",
      "metadata": {
        "id": "xX5glO681RHD",
        "colab": {
          "base_uri": "https://localhost:8080/",
          "height": 632
        },
        "outputId": "183ad475-18ab-4814-c100-5110c4b8ee6e"
      },
      "source": [
        "diabetes_df= pickle.load(open('/content/diabetes_new_target.pkl 23.12.53', 'rb'))\n",
        "diabetes_df.head()"
      ],
      "execution_count": null,
      "outputs": [
        {
          "output_type": "execute_result",
          "data": {
            "text/html": [
              "<div>\n",
              "<style scoped>\n",
              "    .dataframe tbody tr th:only-of-type {\n",
              "        vertical-align: middle;\n",
              "    }\n",
              "\n",
              "    .dataframe tbody tr th {\n",
              "        vertical-align: top;\n",
              "    }\n",
              "\n",
              "    .dataframe thead th {\n",
              "        text-align: right;\n",
              "    }\n",
              "</style>\n",
              "<table border=\"1\" class=\"dataframe\">\n",
              "  <thead>\n",
              "    <tr style=\"text-align: right;\">\n",
              "      <th></th>\n",
              "      <th>index</th>\n",
              "      <th>publish_time</th>\n",
              "      <th>title</th>\n",
              "      <th>abstract</th>\n",
              "      <th>cord_uid</th>\n",
              "      <th>doi</th>\n",
              "      <th>journal</th>\n",
              "      <th>url</th>\n",
              "      <th>pdf_json_files</th>\n",
              "      <th>date</th>\n",
              "      <th>body_text</th>\n",
              "      <th>target_or_not</th>\n",
              "    </tr>\n",
              "  </thead>\n",
              "  <tbody>\n",
              "    <tr>\n",
              "      <th>0</th>\n",
              "      <td>5</td>\n",
              "      <td>2020-03-11</td>\n",
              "      <td>The 24-Form Tai Chi Improves Anxiety and Depre...</td>\n",
              "      <td>anxieti depss coronari heart chd pcutan corona...</td>\n",
              "      <td>bc6i5izr</td>\n",
              "      <td>10.3389/fphys.2020.00149</td>\n",
              "      <td>Front Physiol</td>\n",
              "      <td>https://www.ncbi.nlm.nih.gov/pmc/articles/PMC7...</td>\n",
              "      <td>document_parses/pdf_json/4989f4d799ed70346c882...</td>\n",
              "      <td>2020-03-11</td>\n",
              "      <td>Coronavirus disease 2019 (COVID -19) has been ...</td>\n",
              "      <td>second most similar</td>\n",
              "    </tr>\n",
              "    <tr>\n",
              "      <th>1</th>\n",
              "      <td>8</td>\n",
              "      <td>2020-04-22</td>\n",
              "      <td>Wirtschaft unter Schock — Finanzpolitik hält d...</td>\n",
              "      <td>accord lead gman econom institut gman economi ...</td>\n",
              "      <td>17xwt5tk</td>\n",
              "      <td>10.1007/s10273-020-2629-z</td>\n",
              "      <td>Wirtschaftsdienst</td>\n",
              "      <td>https://www.ncbi.nlm.nih.gov/pmc/articles/PMC7...</td>\n",
              "      <td>NaN</td>\n",
              "      <td>2020-04-22</td>\n",
              "      <td>SARS-CoV-2 (COVID-19) emerged in December 2019...</td>\n",
              "      <td>target</td>\n",
              "    </tr>\n",
              "    <tr>\n",
              "      <th>2</th>\n",
              "      <td>12</td>\n",
              "      <td>2020-05-06</td>\n",
              "      <td>Practical Considerations When Performing Neuro...</td>\n",
              "      <td>led wid short pson equip ppe incas stss sourc ...</td>\n",
              "      <td>72s8wpla</td>\n",
              "      <td>10.1080/21646821.2020.1756132</td>\n",
              "      <td>Neurodiagn J</td>\n",
              "      <td>https://www.ncbi.nlm.nih.gov/pmc/articles/PMC7...</td>\n",
              "      <td>document_parses/pdf_json/d049cc13cfc0854eef691...</td>\n",
              "      <td>2020-05-06</td>\n",
              "      <td>The COVID-19 pandemic continues to escalate. T...</td>\n",
              "      <td>target</td>\n",
              "    </tr>\n",
              "    <tr>\n",
              "      <th>3</th>\n",
              "      <td>18</td>\n",
              "      <td>2020-03-10</td>\n",
              "      <td>Oestrogen Receptor β Activation Protects Again...</td>\n",
              "      <td>purpos oestrogen ceptor believ ext cardio isch...</td>\n",
              "      <td>ldjtf14i</td>\n",
              "      <td>10.1007/s10557-020-06949-3</td>\n",
              "      <td>Cardiovasc Drugs Ther</td>\n",
              "      <td>https://www.ncbi.nlm.nih.gov/pmc/articles/PMC7...</td>\n",
              "      <td>document_parses/pdf_json/44eb4b44d924b819f1040...</td>\n",
              "      <td>2020-03-10</td>\n",
              "      <td>The outbreak and unprecedented spread of SARS-...</td>\n",
              "      <td>target</td>\n",
              "    </tr>\n",
              "    <tr>\n",
              "      <th>4</th>\n",
              "      <td>20</td>\n",
              "      <td>2020-05-15</td>\n",
              "      <td>Independent risk factors and the long-term out...</td>\n",
              "      <td>investig incid continu nal plac thapi crrt und...</td>\n",
              "      <td>4rne67ia</td>\n",
              "      <td>10.1186/s13019-020-01153-8</td>\n",
              "      <td>J Cardiothorac Surg</td>\n",
              "      <td>https://www.ncbi.nlm.nih.gov/pmc/articles/PMC7...</td>\n",
              "      <td>document_parses/pdf_json/070b9aa48069a446c6423...</td>\n",
              "      <td>2020-05-15</td>\n",
              "      <td>Despite worldwide efforts to prevent the sprea...</td>\n",
              "      <td>target</td>\n",
              "    </tr>\n",
              "  </tbody>\n",
              "</table>\n",
              "</div>"
            ],
            "text/plain": [
              "   index  ...        target_or_not\n",
              "0      5  ...  second most similar\n",
              "1      8  ...               target\n",
              "2     12  ...               target\n",
              "3     18  ...               target\n",
              "4     20  ...               target\n",
              "\n",
              "[5 rows x 12 columns]"
            ]
          },
          "metadata": {
            "tags": []
          },
          "execution_count": 2
        }
      ]
    },
    {
      "cell_type": "markdown",
      "metadata": {
        "id": "G1YyVQ7unzvV"
      },
      "source": [
        "## Loading Datasets"
      ]
    },
    {
      "cell_type": "code",
      "metadata": {
        "id": "46XHJoqGWUwT",
        "colab": {
          "resources": {
            "http://localhost:8080/nbextensions/google.colab/files.js": {
              "data": "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",
              "ok": true,
              "headers": [
                [
                  "content-type",
                  "application/javascript"
                ]
              ],
              "status": 200,
              "status_text": ""
            }
          },
          "base_uri": "https://localhost:8080/",
          "height": 72
        },
        "outputId": "81df7671-1a94-4908-8118-25ffd493bb99"
      },
      "source": [
        "# Loading the filtered original dataset\n",
        "uploaded=files.upload()"
      ],
      "execution_count": null,
      "outputs": [
        {
          "output_type": "display_data",
          "data": {
            "text/html": [
              "\n",
              "     <input type=\"file\" id=\"files-78ba7e75-4508-4105-86b8-aae21564566e\" name=\"files[]\" multiple disabled\n",
              "        style=\"border:none\" />\n",
              "     <output id=\"result-78ba7e75-4508-4105-86b8-aae21564566e\">\n",
              "      Upload widget is only available when the cell has been executed in the\n",
              "      current browser session. Please rerun this cell to enable.\n",
              "      </output>\n",
              "      <script src=\"/nbextensions/google.colab/files.js\"></script> "
            ],
            "text/plain": [
              "<IPython.core.display.HTML object>"
            ]
          },
          "metadata": {
            "tags": []
          }
        },
        {
          "output_type": "stream",
          "text": [
            "Saving meta_stemmed (1) to meta_stemmed (1) (1)\n"
          ],
          "name": "stdout"
        }
      ]
    },
    {
      "cell_type": "code",
      "metadata": {
        "id": "mnThusvDWdqP",
        "colab": {
          "base_uri": "https://localhost:8080/",
          "height": 425
        },
        "outputId": "7103e14d-ab0b-41f8-be01-3864c134f6a9"
      },
      "source": [
        "# saving the filtered original dataset into a dataframe\n",
        "meta = pickle.load(open('meta_stemmed (1) (1)', 'rb'))\n",
        "meta.head()"
      ],
      "execution_count": null,
      "outputs": [
        {
          "output_type": "execute_result",
          "data": {
            "text/html": [
              "<div>\n",
              "<style scoped>\n",
              "    .dataframe tbody tr th:only-of-type {\n",
              "        vertical-align: middle;\n",
              "    }\n",
              "\n",
              "    .dataframe tbody tr th {\n",
              "        vertical-align: top;\n",
              "    }\n",
              "\n",
              "    .dataframe thead th {\n",
              "        text-align: right;\n",
              "    }\n",
              "</style>\n",
              "<table border=\"1\" class=\"dataframe\">\n",
              "  <thead>\n",
              "    <tr style=\"text-align: right;\">\n",
              "      <th></th>\n",
              "      <th>level_0</th>\n",
              "      <th>publish_time</th>\n",
              "      <th>title</th>\n",
              "      <th>abstract</th>\n",
              "      <th>date</th>\n",
              "      <th>year</th>\n",
              "      <th>language</th>\n",
              "    </tr>\n",
              "  </thead>\n",
              "  <tbody>\n",
              "    <tr>\n",
              "      <th>0</th>\n",
              "      <td>4131</td>\n",
              "      <td>2020-01-09</td>\n",
              "      <td>Cocaine and amphetamine-regulated transcript p...</td>\n",
              "      <td>iolog cocain amphetamin gul transcript ppropep...</td>\n",
              "      <td>2020-01-09</td>\n",
              "      <td>2020</td>\n",
              "      <td>en</td>\n",
              "    </tr>\n",
              "    <tr>\n",
              "      <th>1</th>\n",
              "      <td>4195</td>\n",
              "      <td>2020-01-21</td>\n",
              "      <td>Pioneering Experience of Uniportal Video-Assis...</td>\n",
              "      <td>optim wai tat thorac scoliosi controvsi conven...</td>\n",
              "      <td>2020-01-21</td>\n",
              "      <td>2020</td>\n",
              "      <td>en</td>\n",
              "    </tr>\n",
              "    <tr>\n",
              "      <th>2</th>\n",
              "      <td>4310</td>\n",
              "      <td>2020-02-10</td>\n",
              "      <td>Epidemiological and clinical characteristics o...</td>\n",
              "      <td>sult surveil iolog charactist car hai eldli in...</td>\n",
              "      <td>2020-02-10</td>\n",
              "      <td>2020</td>\n",
              "      <td>en</td>\n",
              "    </tr>\n",
              "    <tr>\n",
              "      <th>3</th>\n",
              "      <td>4358</td>\n",
              "      <td>2020-02-07</td>\n",
              "      <td>Therapeutic strategies in an outbreak scenario...</td>\n",
              "      <td>origin psent spiratori curnt effort foc contai...</td>\n",
              "      <td>2020-02-07</td>\n",
              "      <td>2020</td>\n",
              "      <td>en</td>\n",
              "    </tr>\n",
              "    <tr>\n",
              "      <th>4</th>\n",
              "      <td>4485</td>\n",
              "      <td>2020-01-17</td>\n",
              "      <td>Single-Virus Tracking: From Imaging Methodolog...</td>\n",
              "      <td>im text un mechan assembl crucial pvent spad t...</td>\n",
              "      <td>2020-01-17</td>\n",
              "      <td>2020</td>\n",
              "      <td>en</td>\n",
              "    </tr>\n",
              "  </tbody>\n",
              "</table>\n",
              "</div>"
            ],
            "text/plain": [
              "   level_0 publish_time  ...  year language\n",
              "0     4131   2020-01-09  ...  2020       en\n",
              "1     4195   2020-01-21  ...  2020       en\n",
              "2     4310   2020-02-10  ...  2020       en\n",
              "3     4358   2020-02-07  ...  2020       en\n",
              "4     4485   2020-01-17  ...  2020       en\n",
              "\n",
              "[5 rows x 7 columns]"
            ]
          },
          "metadata": {
            "tags": []
          },
          "execution_count": 26
        }
      ]
    },
    {
      "cell_type": "code",
      "metadata": {
        "id": "E7BLLWND2VJ-",
        "colab": {
          "base_uri": "https://localhost:8080/",
          "height": 425
        },
        "outputId": "11401f25-2ba3-485e-d5b1-f201ab584897"
      },
      "source": [
        "# resenting the index to fix an issue...\n",
        "meta.reset_index(drop=True, inplace=True)\n",
        "meta.head()"
      ],
      "execution_count": null,
      "outputs": [
        {
          "output_type": "execute_result",
          "data": {
            "text/html": [
              "<div>\n",
              "<style scoped>\n",
              "    .dataframe tbody tr th:only-of-type {\n",
              "        vertical-align: middle;\n",
              "    }\n",
              "\n",
              "    .dataframe tbody tr th {\n",
              "        vertical-align: top;\n",
              "    }\n",
              "\n",
              "    .dataframe thead th {\n",
              "        text-align: right;\n",
              "    }\n",
              "</style>\n",
              "<table border=\"1\" class=\"dataframe\">\n",
              "  <thead>\n",
              "    <tr style=\"text-align: right;\">\n",
              "      <th></th>\n",
              "      <th>level_0</th>\n",
              "      <th>publish_time</th>\n",
              "      <th>title</th>\n",
              "      <th>abstract</th>\n",
              "      <th>date</th>\n",
              "      <th>year</th>\n",
              "      <th>language</th>\n",
              "    </tr>\n",
              "  </thead>\n",
              "  <tbody>\n",
              "    <tr>\n",
              "      <th>0</th>\n",
              "      <td>4131</td>\n",
              "      <td>2020-01-09</td>\n",
              "      <td>Cocaine and amphetamine-regulated transcript p...</td>\n",
              "      <td>iolog cocain amphetamin gul transcript ppropep...</td>\n",
              "      <td>2020-01-09</td>\n",
              "      <td>2020</td>\n",
              "      <td>en</td>\n",
              "    </tr>\n",
              "    <tr>\n",
              "      <th>1</th>\n",
              "      <td>4195</td>\n",
              "      <td>2020-01-21</td>\n",
              "      <td>Pioneering Experience of Uniportal Video-Assis...</td>\n",
              "      <td>optim wai tat thorac scoliosi controvsi conven...</td>\n",
              "      <td>2020-01-21</td>\n",
              "      <td>2020</td>\n",
              "      <td>en</td>\n",
              "    </tr>\n",
              "    <tr>\n",
              "      <th>2</th>\n",
              "      <td>4310</td>\n",
              "      <td>2020-02-10</td>\n",
              "      <td>Epidemiological and clinical characteristics o...</td>\n",
              "      <td>sult surveil iolog charactist car hai eldli in...</td>\n",
              "      <td>2020-02-10</td>\n",
              "      <td>2020</td>\n",
              "      <td>en</td>\n",
              "    </tr>\n",
              "    <tr>\n",
              "      <th>3</th>\n",
              "      <td>4358</td>\n",
              "      <td>2020-02-07</td>\n",
              "      <td>Therapeutic strategies in an outbreak scenario...</td>\n",
              "      <td>origin psent spiratori curnt effort foc contai...</td>\n",
              "      <td>2020-02-07</td>\n",
              "      <td>2020</td>\n",
              "      <td>en</td>\n",
              "    </tr>\n",
              "    <tr>\n",
              "      <th>4</th>\n",
              "      <td>4485</td>\n",
              "      <td>2020-01-17</td>\n",
              "      <td>Single-Virus Tracking: From Imaging Methodolog...</td>\n",
              "      <td>im text un mechan assembl crucial pvent spad t...</td>\n",
              "      <td>2020-01-17</td>\n",
              "      <td>2020</td>\n",
              "      <td>en</td>\n",
              "    </tr>\n",
              "  </tbody>\n",
              "</table>\n",
              "</div>"
            ],
            "text/plain": [
              "   level_0 publish_time  ...  year language\n",
              "0     4131   2020-01-09  ...  2020       en\n",
              "1     4195   2020-01-21  ...  2020       en\n",
              "2     4310   2020-02-10  ...  2020       en\n",
              "3     4358   2020-02-07  ...  2020       en\n",
              "4     4485   2020-01-17  ...  2020       en\n",
              "\n",
              "[5 rows x 7 columns]"
            ]
          },
          "metadata": {
            "tags": []
          },
          "execution_count": 27
        }
      ]
    },
    {
      "cell_type": "code",
      "metadata": {
        "id": "Zdu8FY-X_pV6"
      },
      "source": [
        "for i in range(len(smoke_.abstract)):\n",
        "        smoke_.abstract[i] = strip_multiple_whitespaces(str(smoke_.abstract[i])) #Remove multiple whitespaces\n",
        "        smoke_.abstract[i] = strip_short(str(smoke_.abstract[i]), minsize=3) #Remove short words\n",
        "        smoke_.abstract[i] = strip_numeric(str(smoke_.abstract[i])) #Remove digits\n",
        "        smoke_.abstract[i] = strip_punctuation(str(smoke_.abstract[i]))  #Remove punctuation"
      ],
      "execution_count": null,
      "outputs": []
    },
    {
      "cell_type": "code",
      "metadata": {
        "id": "UnYPIQwjWm8H",
        "colab": {
          "base_uri": "https://localhost:8080/",
          "height": 239
        },
        "outputId": "94466d9c-1b42-49ff-f624-062520f389ee"
      },
      "source": [
        "# Making the stemmed abstracts into a list\n",
        "meta_abstracts = list(meta.abstract)\n",
        "meta_abstracts[0]"
      ],
      "execution_count": null,
      "outputs": [
        {
          "output_type": "execute_result",
          "data": {
            "application/vnd.google.colaboratory.intrinsic": {
              "type": "string"
            },
            "text/plain": [
              "'iolog cocain amphetamin gul transcript ppropeptid cartpt gene polymorph modifi diet obes lationship intact cartpt gene polymorph diet qualiti indic investig curnt intact major dietari indic diet qualiti intn dqi eat hei cartpt gene variant appar obes iranian cross section carri emploi appar obes diet qualiti diet qualiti intn dqi eat hei item semi quantit valid food fquenc questionnair cartpt gene polymorph genotyp polymas chain action strict frment length polymorph pcr–rflp techniqu concentr glycem mark lipid profil melanocyt stimul hormon msh outi lat peptid rp ana intact gene diet intact sult intact cartpt gene polymorph hei affect bmr intact sum glucos intact densiti lipoprotein cholestol hdl concentr intact adjt gene diet intact cartpt genotyp dqi tm fat mass intact waist circumf intact bodi mass intact basal bol bmr intact sum fast glucos intact rp intact individu adjt confound curnt intact cartpt genotyp adh hei dqi sco obes lat anthropometr bol'"
            ]
          },
          "metadata": {
            "tags": []
          },
          "execution_count": 28
        }
      ]
    },
    {
      "cell_type": "code",
      "metadata": {
        "id": "_3XoQ_27XFK6",
        "colab": {
          "resources": {
            "http://localhost:8080/nbextensions/google.colab/files.js": {
              "data": "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",
              "ok": true,
              "headers": [
                [
                  "content-type",
                  "application/javascript"
                ]
              ],
              "status": 200,
              "status_text": ""
            }
          },
          "base_uri": "https://localhost:8080/",
          "height": 72
        },
        "outputId": "e703c803-7aa3-40c0-c0f0-025223d3d213"
      },
      "source": [
        "# Loading the target tables dataset\n",
        "uploaded=files.upload()"
      ],
      "execution_count": null,
      "outputs": [
        {
          "output_type": "display_data",
          "data": {
            "text/html": [
              "\n",
              "     <input type=\"file\" id=\"files-a719e3a1-54b6-496e-98a8-299e68a5287b\" name=\"files[]\" multiple disabled\n",
              "        style=\"border:none\" />\n",
              "     <output id=\"result-a719e3a1-54b6-496e-98a8-299e68a5287b\">\n",
              "      Upload widget is only available when the cell has been executed in the\n",
              "      current browser session. Please rerun this cell to enable.\n",
              "      </output>\n",
              "      <script src=\"/nbextensions/google.colab/files.js\"></script> "
            ],
            "text/plain": [
              "<IPython.core.display.HTML object>"
            ]
          },
          "metadata": {
            "tags": []
          }
        },
        {
          "output_type": "stream",
          "text": [
            "Saving smoking_stemmed to smoking_stemmed\n"
          ],
          "name": "stdout"
        }
      ]
    },
    {
      "cell_type": "code",
      "metadata": {
        "id": "eRebS8HFXD1X",
        "colab": {
          "base_uri": "https://localhost:8080/",
          "height": 289
        },
        "outputId": "32038b54-9446-46ef-e289-beb87718f6c5"
      },
      "source": [
        "target_df= pickle.load(open('smoking_stemmed', 'rb'))\n",
        "target_df.head()"
      ],
      "execution_count": null,
      "outputs": [
        {
          "output_type": "execute_result",
          "data": {
            "text/html": [
              "<div>\n",
              "<style scoped>\n",
              "    .dataframe tbody tr th:only-of-type {\n",
              "        vertical-align: middle;\n",
              "    }\n",
              "\n",
              "    .dataframe tbody tr th {\n",
              "        vertical-align: top;\n",
              "    }\n",
              "\n",
              "    .dataframe thead th {\n",
              "        text-align: right;\n",
              "    }\n",
              "</style>\n",
              "<table border=\"1\" class=\"dataframe\">\n",
              "  <thead>\n",
              "    <tr style=\"text-align: right;\">\n",
              "      <th></th>\n",
              "      <th>Date</th>\n",
              "      <th>title</th>\n",
              "      <th>abstract</th>\n",
              "    </tr>\n",
              "  </thead>\n",
              "  <tbody>\n",
              "    <tr>\n",
              "      <th>0</th>\n",
              "      <td>2020-05-22</td>\n",
              "      <td>Interim Analysis of Risk Factors for Severe Ou...</td>\n",
              "      <td>port ga design surveil network set ca race eth...</td>\n",
              "    </tr>\n",
              "    <tr>\n",
              "      <th>1</th>\n",
              "      <td>2020-05-19</td>\n",
              "      <td>Factors Associated With Intubation and Prolong...</td>\n",
              "      <td>extub design trospect obsv set chico metropoli...</td>\n",
              "    </tr>\n",
              "    <tr>\n",
              "      <th>2</th>\n",
              "      <td>2020-05-19</td>\n",
              "      <td>Risk factors for adverse clinical outcomes in ...</td>\n",
              "      <td>hetogen vari prognosi charactist cours off gui...</td>\n",
              "    </tr>\n",
              "    <tr>\n",
              "      <th>3</th>\n",
              "      <td>2020-05-16</td>\n",
              "      <td>Severe obesity is associated with higher in-ho...</td>\n",
              "      <td>york curnt epicent undps minor pval obes appea...</td>\n",
              "    </tr>\n",
              "    <tr>\n",
              "      <th>4</th>\n",
              "      <td>2020-05-15</td>\n",
              "      <td>Clinical Characteristics, Risk Factors and Out...</td>\n",
              "      <td>kuwait prior port ri mass scen incom travel ri...</td>\n",
              "    </tr>\n",
              "  </tbody>\n",
              "</table>\n",
              "</div>"
            ],
            "text/plain": [
              "         Date  ...                                           abstract\n",
              "0  2020-05-22  ...  port ga design surveil network set ca race eth...\n",
              "1  2020-05-19  ...  extub design trospect obsv set chico metropoli...\n",
              "2  2020-05-19  ...  hetogen vari prognosi charactist cours off gui...\n",
              "3  2020-05-16  ...  york curnt epicent undps minor pval obes appea...\n",
              "4  2020-05-15  ...  kuwait prior port ri mass scen incom travel ri...\n",
              "\n",
              "[5 rows x 3 columns]"
            ]
          },
          "metadata": {
            "tags": []
          },
          "execution_count": 17
        }
      ]
    },
    {
      "cell_type": "code",
      "metadata": {
        "id": "Gutb67cV614y"
      },
      "source": [
        "for i in range(len(target_df.abstract)):\n",
        "        target_df.abstract[i] = strip_multiple_whitespaces(str(target_df.abstract[i])) #Remove multiple whitespaces\n",
        "        target_df.abstract[i] = strip_short(str(target_df.abstract[i]), minsize=3) #Remove short words\n",
        "        target_df.abstract[i] = strip_numeric(str(target_df.abstract[i])) #Remove digits\n",
        "        target_df.abstract[i] = strip_punctuation(str(target_df.abstract[i]))  #Remove punctuation"
      ],
      "execution_count": null,
      "outputs": []
    },
    {
      "cell_type": "code",
      "metadata": {
        "id": "CkvzGbO75BDl",
        "colab": {
          "base_uri": "https://localhost:8080/",
          "height": 120
        },
        "outputId": "f18d3545-0e9d-4aa4-88f0-14c075e255d5"
      },
      "source": [
        "# Making the steemed abstracts into a list\n",
        "smoke_target = list(target_df.abstract)\n",
        "smoke_target[0]"
      ],
      "execution_count": null,
      "outputs": [
        {
          "output_type": "execute_result",
          "data": {
            "application/vnd.google.colaboratory.intrinsic": {
              "type": "string"
            },
            "text/plain": [
              "'port ga design surveil network set ca race ethnic undli condit sult nineti pcent undli condit quir intens ca invas mechan ventil vasopssor di vsu adjt arr spect arr obes arr immunosuppss arr diabet arr vsu arr spect arr immunosuppss arr nal arr lung arr cardiovascular arr neurolog disord arr diabet arr race ethnic limit limit di complet chart abstract access cord exclud incas markedli incas charact pson est defin target pvent tatment stgi'"
            ]
          },
          "metadata": {
            "tags": []
          },
          "execution_count": 18
        }
      ]
    },
    {
      "cell_type": "code",
      "metadata": {
        "id": "xbxiEazyXs-A",
        "colab": {
          "base_uri": "https://localhost:8080/",
          "height": 51
        },
        "outputId": "7b14018a-481c-4e5b-ba4c-8f513f5da1b9"
      },
      "source": [
        "print('We have this ' + str(len(smoke_target)) + ' many abstracts from the target table')\n",
        "print('We have this ' + str(len(meta_abstracts)) + ' many abstracts from the filtered orginal dataset')"
      ],
      "execution_count": null,
      "outputs": [
        {
          "output_type": "stream",
          "text": [
            "We have this 31 many abstracts from the target table\n",
            "We have this 23234 many abstracts from the filtered orginal dataset\n"
          ],
          "name": "stdout"
        }
      ]
    },
    {
      "cell_type": "code",
      "metadata": {
        "id": "zPTWbWmeXImY",
        "colab": {
          "base_uri": "https://localhost:8080/",
          "height": 54
        },
        "outputId": "37a5f6b5-e2b5-44f8-f77e-f9e3e4602725"
      },
      "source": [
        "# splitting filtered data corpus\n",
        "corpus_data= [doc.split() for doc in meta_abstracts]\n",
        "print(corpus_data[0])"
      ],
      "execution_count": null,
      "outputs": [
        {
          "output_type": "stream",
          "text": [
            "['iolog', 'cocain', 'amphetamin', 'gul', 'transcript', 'ppropeptid', 'cartpt', 'gene', 'polymorph', 'modifi', 'diet', 'obes', 'lationship', 'intact', 'cartpt', 'gene', 'polymorph', 'diet', 'qualiti', 'indic', 'investig', 'curnt', 'intact', 'major', 'dietari', 'indic', 'diet', 'qualiti', 'intn', 'dqi', 'eat', 'hei', 'cartpt', 'gene', 'variant', 'appar', 'obes', 'iranian', 'cross', 'section', 'carri', 'emploi', 'appar', 'obes', 'diet', 'qualiti', 'diet', 'qualiti', 'intn', 'dqi', 'eat', 'hei', 'item', 'semi', 'quantit', 'valid', 'food', 'fquenc', 'questionnair', 'cartpt', 'gene', 'polymorph', 'genotyp', 'polymas', 'chain', 'action', 'strict', 'frment', 'length', 'polymorph', 'pcr–rflp', 'techniqu', 'concentr', 'glycem', 'mark', 'lipid', 'profil', 'melanocyt', 'stimul', 'hormon', 'msh', 'outi', 'lat', 'peptid', 'rp', 'ana', 'intact', 'gene', 'diet', 'intact', 'sult', 'intact', 'cartpt', 'gene', 'polymorph', 'hei', 'affect', 'bmr', 'intact', 'sum', 'glucos', 'intact', 'densiti', 'lipoprotein', 'cholestol', 'hdl', 'concentr', 'intact', 'adjt', 'gene', 'diet', 'intact', 'cartpt', 'genotyp', 'dqi', 'tm', 'fat', 'mass', 'intact', 'waist', 'circumf', 'intact', 'bodi', 'mass', 'intact', 'basal', 'bol', 'bmr', 'intact', 'sum', 'fast', 'glucos', 'intact', 'rp', 'intact', 'individu', 'adjt', 'confound', 'curnt', 'intact', 'cartpt', 'genotyp', 'adh', 'hei', 'dqi', 'sco', 'obes', 'lat', 'anthropometr', 'bol']\n"
          ],
          "name": "stdout"
        }
      ]
    },
    {
      "cell_type": "code",
      "metadata": {
        "id": "vX8BFIU-XLTR",
        "colab": {
          "base_uri": "https://localhost:8080/",
          "height": 54
        },
        "outputId": "b3ff190f-458d-4741-a0ba-88ffff3c42f2"
      },
      "source": [
        "# splitting target tables corpus\n",
        "corpus_target= [doc.split() for doc in smoke_target]\n",
        "print(corpus_target[0])"
      ],
      "execution_count": null,
      "outputs": [
        {
          "output_type": "stream",
          "text": [
            "['port', 'ga', 'design', 'surveil', 'network', 'set', 'ca', 'race', 'ethnic', 'undli', 'condit', 'sult', 'nineti', 'pcent', 'undli', 'condit', 'quir', 'intens', 'ca', 'invas', 'mechan', 'ventil', 'vasopssor', 'di', 'vsu', 'adjt', 'arr', 'spect', 'arr', 'obes', 'arr', 'immunosuppss', 'arr', 'diabet', 'arr', 'vsu', 'arr', 'spect', 'arr', 'immunosuppss', 'arr', 'nal', 'arr', 'lung', 'arr', 'cardiovascular', 'arr', 'neurolog', 'disord', 'arr', 'diabet', 'arr', 'race', 'ethnic', 'limit', 'limit', 'di', 'complet', 'chart', 'abstract', 'access', 'cord', 'exclud', 'incas', 'markedli', 'incas', 'charact', 'pson', 'est', 'defin', 'target', 'pvent', 'tatment', 'stgi']\n"
          ],
          "name": "stdout"
        }
      ]
    },
    {
      "cell_type": "code",
      "metadata": {
        "id": "vx7tPg00gqdy"
      },
      "source": [
        "# saving the corpus in pickle files ?\n",
        "pickle.dump(corpus_data, open(\"corpus_data.pkl\", \"wb\"))\n",
        "pickle.dump(corpus_target, open(\"corpus_target.pkl\", \"wb\"))"
      ],
      "execution_count": null,
      "outputs": []
    },
    {
      "cell_type": "markdown",
      "metadata": {
        "id": "zlOOFO8MXvyB"
      },
      "source": [
        "## *Using doc2vec:*"
      ]
    },
    {
      "cell_type": "code",
      "metadata": {
        "id": "21RNe3PsYe1_"
      },
      "source": [
        "# initiaize the model building vocabulary with the abstracts from the filtered original dataset\n",
        "# we used more epochs because it improves \n",
        "data_sentences = [TaggedDocument(doc, [i]) for i, doc in enumerate(corpus_data)]\n",
        "d2v_model = Doc2Vec(vector_size=20, min_count=5, workers=11, alpha=0.025, epochs=200)\n",
        "d2v_model.build_vocab(data_sentences)\n",
        "d2v_model.train(data_sentences, total_examples=d2v_model.corpus_count, epochs=d2v_model.epochs)\n",
        "d2v_model.random.seed(0)"
      ],
      "execution_count": null,
      "outputs": []
    },
    {
      "cell_type": "code",
      "metadata": {
        "id": "XL9vs7kN5vtU",
        "colab": {
          "base_uri": "https://localhost:8080/",
          "height": 71
        },
        "outputId": "6a3fe9cf-574a-4b5c-9e47-da86c213767c"
      },
      "source": [
        "# Saving the model trainee with the orginal dataset\n",
        "from gensim.test.utils import get_tmpfile\n",
        "fname = get_tmpfile(\"my_doc2vec_model\")\n",
        "d2v_model.save(fname)\n",
        "model = Doc2Vec.load(fname) \n",
        "#model.random.seed(0)"
      ],
      "execution_count": null,
      "outputs": [
        {
          "output_type": "stream",
          "text": [
            "/usr/local/lib/python3.6/dist-packages/smart_open/smart_open_lib.py:253: UserWarning: This function is deprecated, use smart_open.open instead. See the migration notes for details: https://github.com/RaRe-Technologies/smart_open/blob/master/README.rst#migrating-to-the-new-open-function\n",
            "  'See the migration notes for details: %s' % _MIGRATION_NOTES_URL\n"
          ],
          "name": "stderr"
        }
      ]
    },
    {
      "cell_type": "code",
      "metadata": {
        "id": "P4-dFpIB6BAg",
        "colab": {
          "base_uri": "https://localhost:8080/",
          "height": 102
        },
        "outputId": "03f98c42-516e-45f8-d5b4-76d89cbd0f33"
      },
      "source": [
        "# Applying the model to the target datset\n",
        "d2v_target = []\n",
        "for i in range(len(corpus_target)):\n",
        "  model.random.seed(0)\n",
        "  d2v_target.append(model.infer_vector(corpus_target[i], epochs=200))\n",
        "\n",
        "d2v_target[1]"
      ],
      "execution_count": null,
      "outputs": [
        {
          "output_type": "execute_result",
          "data": {
            "text/plain": [
              "array([-1.879537  ,  4.762292  , -5.85559   , -5.156556  , -1.1594985 ,\n",
              "       -1.2757808 , -0.92790306,  4.07986   , -0.93774617,  0.78415465,\n",
              "        3.1842926 , -1.4641929 ,  0.37450585,  4.876931  , -1.9438379 ,\n",
              "       -1.3029863 , -0.9864957 ,  1.1568055 , -3.3962913 ,  0.94001704],\n",
              "      dtype=float32)"
            ]
          },
          "metadata": {
            "tags": []
          },
          "execution_count": 38
        }
      ]
    },
    {
      "cell_type": "code",
      "metadata": {
        "id": "uC14SDVcMU-e"
      },
      "source": [
        "# saving the corpus in pickle files ?\n",
        "pickle.dump(model, open(\"d2v_model_saved.pkl\", \"wb\"))\n",
        "pickle.dump(d2v_target, open(\"d2v_target.pkl\", \"wb\"))"
      ],
      "execution_count": null,
      "outputs": []
    },
    {
      "cell_type": "code",
      "metadata": {
        "id": "bqvZVeiHaAJI",
        "colab": {
          "base_uri": "https://localhost:8080/",
          "height": 85
        },
        "outputId": "62f3a95e-f759-4583-abff-54033d96c33d"
      },
      "source": [
        "# Checking if traget 1 is in the filtered dataset\n",
        "check = smoke_.title.str.contains(target_df.title[1])\n",
        "\n",
        "print(smoke_[check])"
      ],
      "execution_count": null,
      "outputs": [
        {
          "output_type": "stream",
          "text": [
            "       level_0 publish_time  ...  year language\n",
            "11125    62688         2020  ...  2020       en\n",
            "\n",
            "[1 rows x 7 columns]\n"
          ],
          "name": "stdout"
        }
      ]
    },
    {
      "cell_type": "code",
      "metadata": {
        "id": "ZXRuaOTYoIZx",
        "colab": {
          "base_uri": "https://localhost:8080/",
          "height": 102
        },
        "outputId": "91ac1b94-bb0e-4f82-d56b-9f48a81da0f3"
      },
      "source": [
        "#Cheking the embedding for the model equivalent to the target 1 \n",
        "model[11190]"
      ],
      "execution_count": null,
      "outputs": [
        {
          "output_type": "execute_result",
          "data": {
            "text/plain": [
              "array([ 3.7311559 , -2.8480105 , -2.1895685 ,  3.2080095 , -1.1302752 ,\n",
              "       -0.41551363, -1.7532947 , -1.6751802 , -2.6261349 ,  2.3104455 ,\n",
              "        0.6694338 ,  0.99661225, -2.0332503 ,  5.168265  ,  2.1761572 ,\n",
              "       -1.1135569 , -0.23366049, -0.9266206 ,  0.67136353, -0.7923474 ],\n",
              "      dtype=float32)"
            ]
          },
          "metadata": {
            "tags": []
          },
          "execution_count": 40
        }
      ]
    },
    {
      "cell_type": "code",
      "metadata": {
        "id": "KfGLWdpjZxZ0",
        "colab": {
          "base_uri": "https://localhost:8080/",
          "height": 88
        },
        "outputId": "a77add82-2ebb-4a2b-c6af-abc10b9df117"
      },
      "source": [
        "similars = model.docvecs.most_similar(positive=[d2v_target[1]], topn=3)\n",
        "print(similars)"
      ],
      "execution_count": null,
      "outputs": [
        {
          "output_type": "stream",
          "text": [
            "[(10970, 0.9892420768737793), (7054, 0.7739754319190979), (592, 0.7703381776809692)]\n"
          ],
          "name": "stdout"
        },
        {
          "output_type": "stream",
          "text": [
            "/usr/local/lib/python3.6/dist-packages/gensim/matutils.py:737: FutureWarning: Conversion of the second argument of issubdtype from `int` to `np.signedinteger` is deprecated. In future, it will be treated as `np.int64 == np.dtype(int).type`.\n",
            "  if np.issubdtype(vec.dtype, np.int):\n"
          ],
          "name": "stderr"
        }
      ]
    },
    {
      "cell_type": "code",
      "metadata": {
        "id": "pc2CQ50p9aTL",
        "colab": {
          "base_uri": "https://localhost:8080/",
          "height": 105
        },
        "outputId": "ed2dccb5-554e-4580-a53f-007a68a5125f"
      },
      "source": [
        "print(meta['level_0'][10970])\n",
        "print(meta['title'][10970])\n",
        "print(meta['abstract'][10970])\n",
        "print(smoke_target[1])"
      ],
      "execution_count": null,
      "outputs": [
        {
          "output_type": "stream",
          "text": [
            "62688\n",
            "Factors Associated With Intubation and Prolonged Intubation in Hospitalized Patients With COVID-19\n",
            "extub design trospect obsv set chico metropolitan aa subject april sociodemograph charactist prolong spiratori failur secondari sult intquartil rang bodi mass intquartil rang eventu extub di mean fol diabet gss spiratori oxygen satur histori diabet short bath pdict bodi mass extub addit sign spiratori distss diabet quir obes prolong otolaryngo consult airwai man consid decis make\n",
            "extub design trospect obsv set chico metropolitan aa subject april sociodemograph charactist prolong spiratori failur secondari sult intquartil rang bodi mass intquartil rang eventu extub di mean fol diabet gss spiratori oxygen satur histori diabet short bath pdict bodi mass extub addit sign spiratori distss diabet quir obes prolong otolaryngo consult airwai man consid decis make\n"
          ],
          "name": "stdout"
        }
      ]
    },
    {
      "cell_type": "markdown",
      "metadata": {
        "id": "a-egQKdhsrnJ"
      },
      "source": [
        "## Confirming that all target articles are in the original database by checking the titles"
      ]
    },
    {
      "cell_type": "code",
      "metadata": {
        "id": "_k5d_ivRzUqm",
        "colab": {
          "base_uri": "https://localhost:8080/",
          "height": 139
        },
        "outputId": "cc641ad5-073d-4b46-d68f-045ff2ca8276"
      },
      "source": [
        "# Checking all titles of target table, doing a list of the found ones and the not found ones:\n",
        "titles_not_found = []\n",
        "index_titles_found = []\n",
        "for i in range(len(target_df.title)):\n",
        "  check = smoke_.title.str.contains(target_df.title[i])\n",
        "  if len(smoke_[check]) == 0:\n",
        "    titles_not_found.append([i, target_df.title[i]])\n",
        "  else:\n",
        "    i2 = int(list(smoke_[check].index)[0])\n",
        "    index_titles_found.append([i, i2])\n",
        "\n",
        "print(len(titles_not_found))\n",
        "print(titles_not_found)\n",
        "print(len(index_titles_found))\n",
        "print(index_titles_found)"
      ],
      "execution_count": null,
      "outputs": [
        {
          "output_type": "stream",
          "text": [
            "/usr/local/lib/python3.6/dist-packages/pandas/core/strings.py:1954: UserWarning: This pattern has match groups. To actually get the groups, use str.extract.\n",
            "  return func(self, *args, **kwargs)\n"
          ],
          "name": "stderr"
        },
        {
          "output_type": "stream",
          "text": [
            "3\n",
            "[[0, 'Interim Analysis of Risk Factors for Severe Outcomes among a Cohort of Hospitalized Adults Identified through the U.S. Coronavirus Disease 2019 (COVID-19)-Associated Hospitalization Surveillance Network (COVID-NET)'], [12, 'Analysis of hospitalized COVID-19 patients in the Mount Sinai Health System using electronic medical records (EMR) reveals important prognostic factors for improved clinical outcomes'], [25, 'Risk factors for severe corona virus disease 2019 (COVID-19) patients : a systematic review and meta analysis']]\n",
            "39\n",
            "[[1, 11190], [2, 5801], [3, 20172], [4, 5417], [5, 9544], [6, 1071], [7, 6891], [8, 4918], [9, 4323], [10, 4323], [11, 7018], [13, 16353], [14, 16353], [15, 4626], [16, 13809], [17, 13809], [18, 24279], [19, 16009], [20, 16009], [21, 10500], [22, 10500], [23, 9516], [24, 7005], [26, 5339], [27, 9214], [28, 8479], [29, 8479], [30, 8479], [31, 7079], [32, 3294], [33, 3294], [34, 8047], [35, 7676], [36, 17515], [37, 17515], [38, 6151], [39, 15373], [40, 15373], [41, 6271]]\n"
          ],
          "name": "stdout"
        }
      ]
    },
    {
      "cell_type": "code",
      "metadata": {
        "id": "lqy9OyY91Ggt",
        "colab": {
          "base_uri": "https://localhost:8080/",
          "height": 139
        },
        "outputId": "bc30a3a9-8abc-4858-e4e8-04356d51b715"
      },
      "source": [
        "titles_not_found"
      ],
      "execution_count": null,
      "outputs": [
        {
          "output_type": "execute_result",
          "data": {
            "text/plain": [
              "[[0,\n",
              "  'Interim Analysis of Risk Factors for Severe Outcomes among a Cohort of Hospitalized Adults Identified through the U.S. Coronavirus Disease 2019 (COVID-19)-Associated Hospitalization Surveillance Network (COVID-NET)'],\n",
              " [12,\n",
              "  'Analysis of hospitalized COVID-19 patients in the Mount Sinai Health System using electronic medical records (EMR) reveals important prognostic factors for improved clinical outcomes'],\n",
              " [25,\n",
              "  'Risk factors for severe corona virus disease 2019 (COVID-19) patients : a systematic review and meta analysis']]"
            ]
          },
          "metadata": {
            "tags": []
          },
          "execution_count": 24
        }
      ]
    },
    {
      "cell_type": "code",
      "metadata": {
        "id": "utEVzwht2Nzg",
        "colab": {
          "base_uri": "https://localhost:8080/",
          "height": 85
        },
        "outputId": "3ed40f19-03fa-46c8-d38a-4345607feb48"
      },
      "source": [
        "# Checking the titles not found with just a part of the whole string.\n",
        "check = smoke_.title.str.contains('Analysis of hospitalized COVID-19 patients in the Mount Sinai Health System using electronic medical records')\n",
        "print(smoke_[check])"
      ],
      "execution_count": null,
      "outputs": [
        {
          "output_type": "stream",
          "text": [
            "      level_0 publish_time  ...  year language\n",
            "8530    51644   2020-05-04  ...  2020       en\n",
            "\n",
            "[1 rows x 7 columns]\n"
          ],
          "name": "stdout"
        }
      ]
    },
    {
      "cell_type": "code",
      "metadata": {
        "id": "GvElENX975So",
        "colab": {
          "base_uri": "https://localhost:8080/",
          "height": 88
        },
        "outputId": "0100782d-f640-49f5-c68a-bf94ae5cafd5"
      },
      "source": [
        "# checking the target 12 that wasn't found by the complete title but it is found with just a part of the title...\n",
        "# although the abstracts seem to be a bit different...\n",
        "print(smoke_['title'][8530])\n",
        "print(smoke_data[8530])\n",
        "print(smoke_target[12])"
      ],
      "execution_count": null,
      "outputs": [
        {
          "output_type": "stream",
          "text": [
            "Analysis of hospitalized COVID-19 patients in the Mount Sinai Health System using electronic medical records (EMR) reveals important prognostic factors for improved clinical outcomes\n",
            "threat wid urgent undstand charactist have mark mortal featur design set particip obsv extract electron mount sinai exposur dinosi pcr assai nasal swab main race mortal demograph site behavior vital sign lab comorbid discharg death estim hispan african amican disproportion rel diff mortal obsv diff grai reflect diff lin undli comorbid factor mortal oxygen satur icu area elev creatinin alanin aminotransfas alt bodi mass bmi asthma length stai mortal deceas elev mark inflamm lin bmi oxygen satur white blood wbc creatinin alt prognost indic mortal relev race racial dispar inpati mortal singl ttiari race featur reduc mortal discharg grea surviv\n",
            "threat wid urgent undstand charactist have mark mortal featur design set particip obsv extract electron mount sinai exposur dinosi pcr assai nasal swab main race mortal demograph site behavior vital sign lab comorbid discharg death estim hispan african amican disproportion rel mortal obsv grai reflect lin undli comorbid factor mortal oxygen satur icu area elev creatinin alanin aminotransfas alt bodi mass bmi asthma length stai mortal deceas elev mark inflamm lin bmi oxygen satur white blood wbc creatinin alt prognost indic mortal relev race racial dispar inpati mortal singl ttiari race featur reduc mortal discharg grea surviv\n"
          ],
          "name": "stdout"
        }
      ]
    },
    {
      "cell_type": "code",
      "metadata": {
        "id": "zho5kg1B1Bv1",
        "colab": {
          "base_uri": "https://localhost:8080/",
          "height": 88
        },
        "outputId": "0a0b4205-f953-46ad-c3c7-4b4717186f88"
      },
      "source": [
        "# checking the target 0 that wasn't found by the complete title but it is found with just a part of the title...\n",
        "# although the abstracts seem to be a bit different...\n",
        "print(smoke_['title'][6457])\n",
        "print(smoke_data[6457])\n",
        "print(smoke_target[0])"
      ],
      "execution_count": null,
      "outputs": [
        {
          "output_type": "stream",
          "text": [
            "Interim Analysis of Risk Factors for Severe Outcomes among a Cohort of Hospitalized Adults Identified through the U.S. Coronavirus Disease 2019 (COVID-19)-Associated Hospitalization Surveillance Network (COVID-NET)\n",
            "state grea numb death factor sev adult design surveil network set state march sex race ethnic undli condit nineti pcent undli condit requir intens icu admiss invas mechan ventil vasopressor factor icu admiss vsu adjt arr respect male sex arr obes arr immunosuppress arr diabet arr factor mortal vsu arr respect male sex arr immunosuppress arr renal arr chronic lung arr cardiovascular arr neurolog disord arr diabet arr race ethnic icu admiss death limit limit discharg complet chart abstract access exclud mortal markedli charact pson est sev defin target stgi\n",
            "state grea death factor adult design surveil network set state march sex race ethnic undli condit nineti pcent undli condit requir intens icu admiss invas mechan ventil vasopressor factor icu admiss vsu arr respect male sex arr obes arr immunosuppress arr diabet arr factor mortal vsu arr respect male sex arr immunosuppress arr renal arr chronic lung arr cardiovascular arr neurolog disord arr diabet arr race ethnic icu admiss death limit limit discharg complet chart abstract access exclud mortal markedli charact pson est defin target stgi\n"
          ],
          "name": "stdout"
        }
      ]
    },
    {
      "cell_type": "code",
      "metadata": {
        "id": "QDmJzaTA9v99",
        "colab": {
          "base_uri": "https://localhost:8080/",
          "height": 54
        },
        "outputId": "6c468bac-4010-49bc-c56a-2df4196cf25e"
      },
      "source": [
        "# modify the titles so that they don't include the \"()\"\n",
        "titles_not_found[0][1] = 'Interim Analysis of Risk Factors for Severe Outcomes among a Cohort of Hospitalized Adults Identified through the U.S. Coronavirus Disease 2019'\n",
        "titles_not_found[1][1] = 'Analysis of hospitalized COVID-19 patients in the Mount Sinai Health System using electronic medical records'\n",
        "titles_not_found[2][1] = 'Risk factors for severe corona virus disease 2019'\n",
        "print(titles_not_found)"
      ],
      "execution_count": null,
      "outputs": [
        {
          "output_type": "stream",
          "text": [
            "[[0, 'Interim Analysis of Risk Factors for Severe Outcomes among a Cohort of Hospitalized Adults Identified through the U.S. Coronavirus Disease 2019'], [12, 'Analysis of hospitalized COVID-19 patients in the Mount Sinai Health System using electronic medical records'], [25, 'Risk factors for severe corona virus disease 2019']]\n"
          ],
          "name": "stdout"
        }
      ]
    },
    {
      "cell_type": "code",
      "metadata": {
        "id": "7k9o5Fdn-KQM",
        "colab": {
          "base_uri": "https://localhost:8080/",
          "height": 105
        },
        "outputId": "58378c73-3d76-4f82-fe6c-0a4f5500a4ac"
      },
      "source": [
        "# appending to the index_title_found the articles which weren't found on the first round\n",
        "\n",
        "not_found_again = []\n",
        "for i in range(len(titles_not_found)):\n",
        "   target_t = titles_not_found[i][1]\n",
        "   check = smoke_.title.str.contains(target_t)\n",
        "   if len(smoke_[check]) == 0:\n",
        "     not_found_again.append([i, target_df.title[i]])\n",
        "   else:\n",
        "     i2 = int(list(smoke_[check].index)[0])\n",
        "     \n",
        "     index_titles_found.append([i, i2])\n",
        "\n",
        "print(len(not_found_again))\n",
        "print(not_found_again)\n",
        "print(len(index_titles_found))\n",
        "print(sorted(index_titles_found))"
      ],
      "execution_count": null,
      "outputs": [
        {
          "output_type": "stream",
          "text": [
            "0\n",
            "[]\n",
            "42\n",
            "[[0, 6457], [1, 8530], [1, 11190], [2, 5801], [2, 9419], [3, 20172], [4, 5417], [5, 9544], [6, 1071], [7, 6891], [8, 4918], [9, 4323], [10, 4323], [11, 7018], [13, 16353], [14, 16353], [15, 4626], [16, 13809], [17, 13809], [18, 24279], [19, 16009], [20, 16009], [21, 10500], [22, 10500], [23, 9516], [24, 7005], [26, 5339], [27, 9214], [28, 8479], [29, 8479], [30, 8479], [31, 7079], [32, 3294], [33, 3294], [34, 8047], [35, 7676], [36, 17515], [37, 17515], [38, 6151], [39, 15373], [40, 15373], [41, 6271]]\n"
          ],
          "name": "stdout"
        }
      ]
    },
    {
      "cell_type": "code",
      "metadata": {
        "id": "sQRwV4Ik_Ijy",
        "colab": {
          "base_uri": "https://localhost:8080/",
          "height": 54
        },
        "outputId": "7e4a6c16-4a49-4b90-caae-bebff3609087"
      },
      "source": [
        "# saving the index_titles_found in a sorted way\n",
        "index_titles_found = sorted(index_titles_found)\n",
        "print(index_titles_found)"
      ],
      "execution_count": null,
      "outputs": [
        {
          "output_type": "stream",
          "text": [
            "[[0, 6457], [1, 8530], [1, 11190], [2, 5801], [2, 9419], [3, 20172], [4, 5417], [5, 9544], [6, 1071], [7, 6891], [8, 4918], [9, 4323], [10, 4323], [11, 7018], [13, 16353], [14, 16353], [15, 4626], [16, 13809], [17, 13809], [18, 24279], [19, 16009], [20, 16009], [21, 10500], [22, 10500], [23, 9516], [24, 7005], [26, 5339], [27, 9214], [28, 8479], [29, 8479], [30, 8479], [31, 7079], [32, 3294], [33, 3294], [34, 8047], [35, 7676], [36, 17515], [37, 17515], [38, 6151], [39, 15373], [40, 15373], [41, 6271]]\n"
          ],
          "name": "stdout"
        }
      ]
    },
    {
      "cell_type": "markdown",
      "metadata": {
        "id": "TobXDtYW5skm"
      },
      "source": [
        "### Continue with titles found"
      ]
    },
    {
      "cell_type": "code",
      "metadata": {
        "id": "bEEA85jPtuYn",
        "colab": {
          "base_uri": "https://localhost:8080/",
          "height": 71
        },
        "outputId": "f092e6a8-4162-4da9-882a-fda3f4b1bb8e"
      },
      "source": [
        "# Run the similarity test for all found articles: \n",
        "# WITH TITLES FOUND\n",
        "similar_passed = []\n",
        "similar_failed = []\n",
        "for i in range(len(index_titles_found)):\n",
        "   target_i = index_titles_found[i][0]\n",
        "   sim_test = d2v_model.docvecs.most_similar(positive=[d2v_target[target_i]], topn=2)\n",
        "   if sim_test[0][0] == index_titles_found[i][1]:\n",
        "     similar_passed.append([index_titles_found[i][0], sim_test[0][0], sim_test[0][1], sim_test[1][0], sim_test[1][1]])\n",
        "   else:\n",
        "     similar_failed.append([index_titles_found[i], sim_test])"
      ],
      "execution_count": null,
      "outputs": [
        {
          "output_type": "stream",
          "text": [
            "/usr/local/lib/python3.6/dist-packages/gensim/matutils.py:737: FutureWarning: Conversion of the second argument of issubdtype from `int` to `np.signedinteger` is deprecated. In future, it will be treated as `np.int64 == np.dtype(int).type`.\n",
            "  if np.issubdtype(vec.dtype, np.int):\n"
          ],
          "name": "stderr"
        }
      ]
    },
    {
      "cell_type": "code",
      "metadata": {
        "id": "LUVoIRMDvNy5",
        "colab": {
          "base_uri": "https://localhost:8080/",
          "height": 1000
        },
        "outputId": "a9c82b47-e2d8-42db-a007-d48170e6df29"
      },
      "source": [
        "# Check the articles that failed the similarity test\n",
        "print(str(len(similar_failed)) + ' articles failed the similarity test. Because there are duplicates?') \n",
        "print(similar_failed)\n",
        "for i in range(len(similar_failed)):\n",
        "  try:\n",
        "    # get the index for the target table\n",
        "    t = similar_failed[i][0][0]\n",
        "    print(t)\n",
        "    print(target_df.title[t])\n",
        "    # get the first most similar article\n",
        "    f = similar_failed[i][1][0][0]\n",
        "    print(f)\n",
        "    print(smoke_.title[f])\n",
        "    # get the second most similar article\n",
        "    s = similar_failed[i][1][1][0]\n",
        "    print(s)\n",
        "    print(smoke_.title[s])\n",
        "  except:\n",
        "    KeyError"
      ],
      "execution_count": null,
      "outputs": [
        {
          "output_type": "stream",
          "text": [
            "11 articles failed the similarity test. Because there are duplicates?\n",
            "[[[1, 8530], [(11190, 0.9971437454223633), (22637, 0.8147382736206055)]], [[2, 9419], [(5801, 0.9954943060874939), (4226, 0.8569265007972717)]], [[6, 1071], [(11614, 0.9964664578437805), (1071, 0.9916489124298096)]], [[14, 16353], [(22891, 0.9955148696899414), (16353, 0.9823817014694214)]], [[17, 13809], [(24636, 0.9954515099525452), (13809, 0.962853193283081)]], [[21, 10500], [(19769, 0.9936889410018921), (10500, 0.9886385202407837)]], [[22, 10500], [(19769, 0.9936889410018921), (10500, 0.9886385202407837)]], [[29, 8479], [(16925, 0.9896647334098816), (24017, 0.9891713857650757)]], [[30, 8479], [(16925, 0.9896647334098816), (24017, 0.9891713857650757)]], [[32, 3294], [(16987, 0.9955422878265381), (6410, 0.993366003036499)]], [[33, 3294], [(16987, 0.9934666156768799), (3294, 0.9900428652763367)]]]\n",
            "1\n",
            "Factors Associated With Intubation and Prolonged Intubation in Hospitalized Patients With COVID-19\n",
            "11190\n",
            "Factors Associated With Intubation and Prolonged Intubation in Hospitalized Patients With COVID-19\n",
            "22637\n",
            "Association of Obesity with Disease Severity among Patients with COVID‐19\n",
            "2\n",
            "Risk factors for adverse clinical outcomes in patients with COVID-19: A systematic review and meta-analysis\n",
            "5801\n",
            "Risk factors for adverse clinical outcomes in patients with COVID-19: A systematic review and meta-analysis\n",
            "4226\n",
            "The Chronic Kidney Disease and Acute Kidney Injury Involvement in COVID-19 Pandemic: A Systematic Review and Meta-analysis\n",
            "6\n",
            "Development and Validation of a Clinical Risk Score to Predict the Occurrence of Critical Illness in Hospitalized Patients With COVID-19.\n",
            "11614\n",
            "Development and Validation of a Clinical Risk Score to Predict the Occurrence of Critical Illness in Hospitalized Patients With COVID-19\n",
            "1071\n",
            "Development and Validation of a Clinical Risk Score to Predict the Occurrence of Critical Illness in Hospitalized Patients With COVID-19.\n",
            "14\n",
            "Cardiovascular Disease, Drug Therapy, and Mortality in Covid-19\n",
            "22891\n",
            "Cardiovascular Disease, Drug Therapy, and Mortality in Covid-19\n",
            "16353\n",
            "Cardiovascular Disease, Drug Therapy, and Mortality in Covid-19\n",
            "17\n",
            "Risk factors of critical & mortal COVID-19 cases: A systematic literature review and meta-analysis\n",
            "24636\n",
            "Risk factors of critical & mortal COVID-19 cases: A systematic literature review and meta-analysis\n",
            "13809\n",
            "Risk factors of critical & mortal COVID-19 cases: A systematic literature review and meta-analysis\n",
            "21\n",
            "Prediction for Progression Risk in Patients with COVID-19 Pneumonia: the CALL Score\n",
            "19769\n",
            "Prediction for Progression Risk in Patients with COVID-19 Pneumonia: the CALL Score\n",
            "10500\n",
            "Prediction for Progression Risk in Patients with COVID-19 Pneumonia: the CALL Score\n",
            "22\n",
            "Prediction for Progression Risk in Patients with COVID-19 Pneumonia: the CALL Score\n",
            "19769\n",
            "Prediction for Progression Risk in Patients with COVID-19 Pneumonia: the CALL Score\n",
            "10500\n",
            "Prediction for Progression Risk in Patients with COVID-19 Pneumonia: the CALL Score\n",
            "29\n",
            "Prevalence, Severity and Mortality associated with COPD and Smoking in patients with COVID-19: A Rapid Systematic Review and Meta-Analysis\n",
            "16925\n",
            "Prevalence, Severity and Mortality associated with COPD and Smoking in patients with COVID-19: A Rapid Systematic Review and Meta-Analysis\n",
            "24017\n",
            "Prevalence, Severity and Mortality associated with COPD and Smoking in patients with COVID-19: A Rapid Systematic Review and Meta-Analysis\n",
            "30\n",
            "Prevalence, Severity and Mortality associated with COPD and Smoking in patients with COVID-19: A Rapid Systematic Review and Meta-Analysis\n",
            "16925\n",
            "Prevalence, Severity and Mortality associated with COPD and Smoking in patients with COVID-19: A Rapid Systematic Review and Meta-Analysis\n",
            "24017\n",
            "Prevalence, Severity and Mortality associated with COPD and Smoking in patients with COVID-19: A Rapid Systematic Review and Meta-Analysis\n",
            "32\n",
            "Prognostic value of C-reactive protein in patients with COVID-19\n",
            "16987\n",
            "Prognostic value of C-reactive protein in patients with COVID-19\n",
            "6410\n",
            "Prognostic value of C-reactive protein in patients with COVID-19\n",
            "33\n",
            "Prognostic value of C-reactive protein in patients with COVID-19\n",
            "16987\n",
            "Prognostic value of C-reactive protein in patients with COVID-19\n",
            "3294\n",
            "Prognostic value of C-reactive protein in patients with COVID-19.\n"
          ],
          "name": "stdout"
        }
      ]
    },
    {
      "cell_type": "code",
      "metadata": {
        "id": "B43HB11ezKNz",
        "colab": {
          "base_uri": "https://localhost:8080/",
          "height": 85
        },
        "outputId": "c56f38b2-c59c-4ef7-dcdd-eb38a57415b0"
      },
      "source": [
        "# Check the articles that passed the similarity test\n",
        "print(str(len(similar_passed)) + ' articles passed the similarity test') \n",
        "similar_passed[:3]"
      ],
      "execution_count": null,
      "outputs": [
        {
          "output_type": "stream",
          "text": [
            "31 articles passed the similarity test\n"
          ],
          "name": "stdout"
        },
        {
          "output_type": "execute_result",
          "data": {
            "text/plain": [
              "[[0, 6457, 0.9959843158721924, 6369, 0.8455496430397034],\n",
              " [1, 11190, 0.9971437454223633, 22637, 0.8147382736206055],\n",
              " [2, 5801, 0.9954943060874939, 4226, 0.8569265007972717]]"
            ]
          },
          "metadata": {
            "tags": []
          },
          "execution_count": 61
        }
      ]
    },
    {
      "cell_type": "code",
      "metadata": {
        "id": "d_3wO90YAUmO"
      },
      "source": [
        "# IT SEEMS THAT THE DUPLICATES IN THE TARGET TABLE WEREN'T REMOVED \n",
        "# AS WELL AS THE DUPLICATES IN THE ORIGINAL DATABASE"
      ],
      "execution_count": null,
      "outputs": []
    },
    {
      "cell_type": "code",
      "metadata": {
        "id": "8TpvhTCzjVvh",
        "colab": {
          "base_uri": "https://localhost:8080/",
          "height": 34
        },
        "outputId": "8d7e8c86-0dc1-44d3-e22e-cd95b768c171"
      },
      "source": [
        "type(target_df.title)"
      ],
      "execution_count": null,
      "outputs": [
        {
          "output_type": "execute_result",
          "data": {
            "text/plain": [
              "pandas.core.series.Series"
            ]
          },
          "metadata": {
            "tags": []
          },
          "execution_count": 32
        }
      ]
    },
    {
      "cell_type": "code",
      "metadata": {
        "id": "JkBAQLM8m4W0"
      },
      "source": [
        "\n",
        "\"\"\" \n",
        "# Run the similarity test for all found titles:\n",
        "\n",
        "target_similar = []\n",
        "for i in range(len(index_titles_found)):\n",
        "   target_i = index_titles_found[i][0]\n",
        "   sim_test = d2v_model.docvecs.most_similar(positive=[d2v_target[target_i]], topn=3)\n",
        "   if sim_test[0][0] == index_titles_found[i][1]:\n",
        "     # preparing the list to include all info\n",
        "     target_similar.append([target_i, target_df.title[target_i], smoke_target[target_i], \n",
        "                            sim_test[0][0], sim_test[0][1], smoke_.title[sim_test[0][0]], smoke_data[sim_test[0][0]],\n",
        "                            sim_test[1][0], sim_test[1][1], smoke_.title[sim_test[1][0]], smoke_data[sim_test[1][0]]])\n",
        "\"\"\"\n"
      ],
      "execution_count": null,
      "outputs": []
    },
    {
      "cell_type": "markdown",
      "metadata": {
        "id": "TpCHVUZs8HNd"
      },
      "source": [
        "## Doing a function to get a dataframe with top similar docs"
      ]
    },
    {
      "cell_type": "code",
      "metadata": {
        "id": "HioqTDSw777u",
        "colab": {
          "base_uri": "https://localhost:8080/",
          "height": 34
        },
        "outputId": "65366be4-c751-4d5d-9def-7ecb2266ab3b"
      },
      "source": [
        "target_df.columns"
      ],
      "execution_count": null,
      "outputs": [
        {
          "output_type": "execute_result",
          "data": {
            "text/plain": [
              "Index(['Date', 'title', 'abstract'], dtype='object')"
            ]
          },
          "metadata": {
            "tags": []
          },
          "execution_count": 43
        }
      ]
    },
    {
      "cell_type": "code",
      "metadata": {
        "id": "CTLavhiH7-ta",
        "colab": {
          "base_uri": "https://localhost:8080/",
          "height": 68
        },
        "outputId": "a7d7967a-9b46-4ccc-e544-52093fdf9102"
      },
      "source": [
        "meta.columns"
      ],
      "execution_count": null,
      "outputs": [
        {
          "output_type": "execute_result",
          "data": {
            "text/plain": [
              "Index(['level_0', 'publish_time', 'title', 'abstract', 'date', 'year',\n",
              "       'language'],\n",
              "      dtype='object')"
            ]
          },
          "metadata": {
            "tags": []
          },
          "execution_count": 44
        }
      ]
    },
    {
      "cell_type": "code",
      "metadata": {
        "id": "LPjyuJ8k7QOn"
      },
      "source": [
        "# Making a function for getting the top similar to add to the target table\n",
        "\n",
        "def get_similar_docs(target_df, meta_df)\n",
        "\n",
        "# Run the similarity test assuming all titles are in the filtered dataset:\n",
        "  similar_to_target = []\n",
        "  for i in range(len(target_df.title)):\n",
        "    sim_test = d2v_model.docvecs.most_similar(positive=[d2v_target[i]], topn=3)\n",
        "    #this way the list could be used to create a dataframe\n",
        "    similar_to_target.append([i, 'target', 1, target_df.title[i], target_df.abstract[i]])\n",
        "    similar_to_target.append([sim_test[0][0], 'most similar', sim_test[0][1], meta_df.title[sim_test[0][0]], meta_df.abstract[sim_test[0][0]]])\n",
        "    similar_to_target.append([sim_test[1][0], 'second most similar', sim_test[1][1], meta_df.title[sim_test[1][0]], meta_df.abstract[sim_test[1][0]]])                        \n",
        "    similar_to_target.append([sim_test[2][0], 'third most similar', sim_test[2][1], meta_df.title[sim_test[0][0]], meta_df.abstract[sim_test[0][0]]])\n",
        "\n",
        "    # creating a dataframe with the top 3 most similar docs of the target ones!\n",
        "    df_colum = ['original_index', 'original_db', 'similarity_percentage', 'title', 'abstract']\n",
        "    similar_to_target_df = pd.DataFrame(similar_to_target, index=range(len(similar_to_target)), columns=df_colum)\n",
        "    new_docs_target_df = similar_to_target_df.drop_duplicates(subset='title', keep=\"first\", inplace=False)\n",
        "  \n",
        "  print(new_docs_target_df.original_db.value_counts())\n",
        "  return new_docs_target_df"
      ],
      "execution_count": null,
      "outputs": []
    },
    {
      "cell_type": "code",
      "metadata": {
        "id": "Lpb_8qg4AORN",
        "colab": {
          "base_uri": "https://localhost:8080/",
          "height": 71
        },
        "outputId": "f1095c93-6cdf-444d-86fe-05994b7ccf4b"
      },
      "source": [
        "# Run the similarity test assuming all titles are in the filtered dataset:\n",
        "\n",
        "similar_to_target = []\n",
        "for i in range(len(target_df.title)):\n",
        "   sim_test = d2v_model.docvecs.most_similar(positive=[d2v_target[i]], topn=3)\n",
        "   #this way the list could be used to create a dataframe\n",
        "   similar_to_target.append([i, 'target', 1, target_df.title[i], target_df.abstract[i]])\n",
        "   similar_to_target.append([sim_test[0][0], 'most similar', sim_test[0][1], meta.title[sim_test[0][0]], meta.abstract[sim_test[0][0]]])\n",
        "   similar_to_target.append([sim_test[1][0], 'second most similar', sim_test[1][1], meta.title[sim_test[1][0]], meta.abstract[sim_test[1][0]]])                        \n",
        "   similar_to_target.append([sim_test[2][0], 'third most similar', sim_test[2][1], meta.title[sim_test[0][0]], meta.abstract[sim_test[0][0]]])\n",
        "   #similar_to_target.append([i, target_df.title[i],\n",
        "                           # sim_test[0][0], sim_test[0][1], smoke_.title[sim_test[0][0]], smoke_data[sim_test[0][0]],\n",
        "                           # sim_test[1][0], sim_test[1][1], smoke_.title[sim_test[1][0]], smoke_data[sim_test[1][0]]],\n",
        "                           # sim_test[2][0], sim_test[2][1], smoke_.title[sim_test[0][0]], smoke_data[sim_test[0][0]],)"
      ],
      "execution_count": null,
      "outputs": [
        {
          "output_type": "stream",
          "text": [
            "/usr/local/lib/python3.6/dist-packages/gensim/matutils.py:737: FutureWarning: Conversion of the second argument of issubdtype from `int` to `np.signedinteger` is deprecated. In future, it will be treated as `np.int64 == np.dtype(int).type`.\n",
            "  if np.issubdtype(vec.dtype, np.int):\n"
          ],
          "name": "stderr"
        }
      ]
    },
    {
      "cell_type": "code",
      "metadata": {
        "id": "8RFSL2UvA6_H",
        "colab": {
          "base_uri": "https://localhost:8080/",
          "height": 34
        },
        "outputId": "70c17c26-02ca-4e57-ee20-0175f798434c"
      },
      "source": [
        "len(target_df)"
      ],
      "execution_count": null,
      "outputs": [
        {
          "output_type": "execute_result",
          "data": {
            "text/plain": [
              "31"
            ]
          },
          "metadata": {
            "tags": []
          },
          "execution_count": 55
        }
      ]
    },
    {
      "cell_type": "code",
      "metadata": {
        "id": "klHqeLSAD8wA",
        "colab": {
          "base_uri": "https://localhost:8080/",
          "height": 122
        },
        "outputId": "2788765d-7b9f-495c-cc1a-00389a1eb14a"
      },
      "source": [
        "similar_to_target[0]"
      ],
      "execution_count": null,
      "outputs": [
        {
          "output_type": "execute_result",
          "data": {
            "text/plain": [
              "[0,\n",
              " 'target',\n",
              " 1,\n",
              " 'Interim Analysis of Risk Factors for Severe Outcomes among a Cohort of Hospitalized Adults Identified through the U.S. Coronavirus Disease 2019 (COVID-19)-Associated Hospitalization Surveillance Network (COVID-NET)',\n",
              " 'port ga design surveil network set ca race ethnic undli condit sult nineti pcent undli condit quir intens ca invas mechan ventil vasopssor di vsu adjt arr spect arr obes arr immunosuppss arr diabet arr vsu arr spect arr immunosuppss arr nal arr lung arr cardiovascular arr neurolog disord arr diabet arr race ethnic limit limit di complet chart abstract access cord exclud incas markedli incas charact pson est defin target pvent tatment stgi']"
            ]
          },
          "metadata": {
            "tags": []
          },
          "execution_count": 47
        }
      ]
    },
    {
      "cell_type": "code",
      "metadata": {
        "id": "7_A6t81dnvCw"
      },
      "source": [
        "\"\"\"\n",
        "df_colum = ['Target_index', 'Target_title', \n",
        "            'Most_sim_index', 'Most_sim_percnt', 'Most_sim_title', 'Most_sim_abstract', \n",
        "            '2_most_sim_index', '2_most_sim_percnt','2_most_sim_title', '2_most_sim_abstract',\n",
        "            '3_most_sim_index', '3_most_sim_percnt','3_most_sim_title', '3_most_sim_abstract']\n",
        "target_similar_df = pd.DataFrame(target_similar, index=range(len(target_similar)), columns=df_colum)\n",
        "target_similar_df.head()\n",
        "\"\"\""
      ],
      "execution_count": null,
      "outputs": []
    },
    {
      "cell_type": "code",
      "metadata": {
        "id": "alWsysQqEEnE",
        "colab": {
          "base_uri": "https://localhost:8080/",
          "height": 1000
        },
        "outputId": "b3de797a-f1be-4c28-8921-2300618bce09"
      },
      "source": [
        "# creating a dataframe with the top 3 most similar docs of the target ones!\n",
        "df_colum = ['original_index', 'original_db', 'similarity_percentage', 'title', 'abstract']\n",
        "similar_to_target_df = pd.DataFrame(similar_to_target, index=range(len(similar_to_target)), columns=df_colum)\n",
        "similar_to_target_df.head(12)"
      ],
      "execution_count": null,
      "outputs": [
        {
          "output_type": "execute_result",
          "data": {
            "text/html": [
              "<div>\n",
              "<style scoped>\n",
              "    .dataframe tbody tr th:only-of-type {\n",
              "        vertical-align: middle;\n",
              "    }\n",
              "\n",
              "    .dataframe tbody tr th {\n",
              "        vertical-align: top;\n",
              "    }\n",
              "\n",
              "    .dataframe thead th {\n",
              "        text-align: right;\n",
              "    }\n",
              "</style>\n",
              "<table border=\"1\" class=\"dataframe\">\n",
              "  <thead>\n",
              "    <tr style=\"text-align: right;\">\n",
              "      <th></th>\n",
              "      <th>original_index</th>\n",
              "      <th>original_db</th>\n",
              "      <th>similarity_percentage</th>\n",
              "      <th>title</th>\n",
              "      <th>abstract</th>\n",
              "    </tr>\n",
              "  </thead>\n",
              "  <tbody>\n",
              "    <tr>\n",
              "      <th>0</th>\n",
              "      <td>0</td>\n",
              "      <td>target</td>\n",
              "      <td>1.000000</td>\n",
              "      <td>Interim Analysis of Risk Factors for Severe Ou...</td>\n",
              "      <td>port ga design surveil network set ca race eth...</td>\n",
              "    </tr>\n",
              "    <tr>\n",
              "      <th>1</th>\n",
              "      <td>6424</td>\n",
              "      <td>most similar</td>\n",
              "      <td>0.990724</td>\n",
              "      <td>Interim Analysis of Risk Factors for Severe Ou...</td>\n",
              "      <td>port ga design surveil network set ca race eth...</td>\n",
              "    </tr>\n",
              "    <tr>\n",
              "      <th>2</th>\n",
              "      <td>6336</td>\n",
              "      <td>second most similar</td>\n",
              "      <td>0.874410</td>\n",
              "      <td>Characteristics and predictors of hospitalizat...</td>\n",
              "      <td>knowledg individu ord target stgi gen appropri...</td>\n",
              "    </tr>\n",
              "    <tr>\n",
              "      <th>3</th>\n",
              "      <td>8966</td>\n",
              "      <td>third most similar</td>\n",
              "      <td>0.874329</td>\n",
              "      <td>Interim Analysis of Risk Factors for Severe Ou...</td>\n",
              "      <td>port ga design surveil network set ca race eth...</td>\n",
              "    </tr>\n",
              "    <tr>\n",
              "      <th>4</th>\n",
              "      <td>1</td>\n",
              "      <td>target</td>\n",
              "      <td>1.000000</td>\n",
              "      <td>Factors Associated With Intubation and Prolong...</td>\n",
              "      <td>extub design trospect obsv set chico metropoli...</td>\n",
              "    </tr>\n",
              "    <tr>\n",
              "      <th>5</th>\n",
              "      <td>10970</td>\n",
              "      <td>most similar</td>\n",
              "      <td>0.989242</td>\n",
              "      <td>Factors Associated With Intubation and Prolong...</td>\n",
              "      <td>extub design trospect obsv set chico metropoli...</td>\n",
              "    </tr>\n",
              "    <tr>\n",
              "      <th>6</th>\n",
              "      <td>7054</td>\n",
              "      <td>second most similar</td>\n",
              "      <td>0.773975</td>\n",
              "      <td>Delirium Incidence, Duration and Severity in C...</td>\n",
              "      <td>delirium incid durat intens ca known obsv larg...</td>\n",
              "    </tr>\n",
              "    <tr>\n",
              "      <th>7</th>\n",
              "      <td>592</td>\n",
              "      <td>third most similar</td>\n",
              "      <td>0.770338</td>\n",
              "      <td>Factors Associated With Intubation and Prolong...</td>\n",
              "      <td>extub design trospect obsv set chico metropoli...</td>\n",
              "    </tr>\n",
              "    <tr>\n",
              "      <th>8</th>\n",
              "      <td>2</td>\n",
              "      <td>target</td>\n",
              "      <td>1.000000</td>\n",
              "      <td>Risk factors for adverse clinical outcomes in ...</td>\n",
              "      <td>hetogen vari prognosi charactist cours off gui...</td>\n",
              "    </tr>\n",
              "    <tr>\n",
              "      <th>9</th>\n",
              "      <td>5770</td>\n",
              "      <td>most similar</td>\n",
              "      <td>0.995916</td>\n",
              "      <td>Risk factors for adverse clinical outcomes in ...</td>\n",
              "      <td>hetogen vari prognosi charactist cours off gui...</td>\n",
              "    </tr>\n",
              "    <tr>\n",
              "      <th>10</th>\n",
              "      <td>12099</td>\n",
              "      <td>second most similar</td>\n",
              "      <td>0.811395</td>\n",
              "      <td>Myocardial injury characterized by elevated ca...</td>\n",
              "      <td>elev sensit cardiac troponin ctn surrog myocar...</td>\n",
              "    </tr>\n",
              "    <tr>\n",
              "      <th>11</th>\n",
              "      <td>2841</td>\n",
              "      <td>third most similar</td>\n",
              "      <td>0.797411</td>\n",
              "      <td>Risk factors for adverse clinical outcomes in ...</td>\n",
              "      <td>hetogen vari prognosi charactist cours off gui...</td>\n",
              "    </tr>\n",
              "  </tbody>\n",
              "</table>\n",
              "</div>"
            ],
            "text/plain": [
              "    original_index  ...                                           abstract\n",
              "0                0  ...  port ga design surveil network set ca race eth...\n",
              "1             6424  ...  port ga design surveil network set ca race eth...\n",
              "2             6336  ...  knowledg individu ord target stgi gen appropri...\n",
              "3             8966  ...  port ga design surveil network set ca race eth...\n",
              "4                1  ...  extub design trospect obsv set chico metropoli...\n",
              "5            10970  ...  extub design trospect obsv set chico metropoli...\n",
              "6             7054  ...  delirium incid durat intens ca known obsv larg...\n",
              "7              592  ...  extub design trospect obsv set chico metropoli...\n",
              "8                2  ...  hetogen vari prognosi charactist cours off gui...\n",
              "9             5770  ...  hetogen vari prognosi charactist cours off gui...\n",
              "10           12099  ...  elev sensit cardiac troponin ctn surrog myocar...\n",
              "11            2841  ...  hetogen vari prognosi charactist cours off gui...\n",
              "\n",
              "[12 rows x 5 columns]"
            ]
          },
          "metadata": {
            "tags": []
          },
          "execution_count": 87
        }
      ]
    },
    {
      "cell_type": "code",
      "metadata": {
        "id": "R_zgkfGsIGZq",
        "colab": {
          "base_uri": "https://localhost:8080/",
          "height": 102
        },
        "outputId": "59c20f66-b77a-4e30-e99a-24911b8ea6a4"
      },
      "source": [
        "similar_to_target_df.original_db.value_counts()"
      ],
      "execution_count": null,
      "outputs": [
        {
          "output_type": "execute_result",
          "data": {
            "text/plain": [
              "target                 31\n",
              "second most similar    31\n",
              "third most similar     31\n",
              "most similar           31\n",
              "Name: original_db, dtype: int64"
            ]
          },
          "metadata": {
            "tags": []
          },
          "execution_count": 99
        }
      ]
    },
    {
      "cell_type": "code",
      "metadata": {
        "id": "3H5ANxNeFZsB",
        "colab": {
          "base_uri": "https://localhost:8080/",
          "height": 476
        },
        "outputId": "6e49d86c-a588-4038-d1c7-89dbff770ef2"
      },
      "source": [
        "#new_docs_target_df = similar_to_target_df.copy()\n",
        "#new_docs_target_df.head()\n",
        "\n",
        "new_docs_target_df = similar_to_target_df.drop_duplicates(subset='title', keep=\"first\", inplace=False)\n",
        "new_docs_target_df.head()"
      ],
      "execution_count": null,
      "outputs": [
        {
          "output_type": "execute_result",
          "data": {
            "text/html": [
              "<div>\n",
              "<style scoped>\n",
              "    .dataframe tbody tr th:only-of-type {\n",
              "        vertical-align: middle;\n",
              "    }\n",
              "\n",
              "    .dataframe tbody tr th {\n",
              "        vertical-align: top;\n",
              "    }\n",
              "\n",
              "    .dataframe thead th {\n",
              "        text-align: right;\n",
              "    }\n",
              "</style>\n",
              "<table border=\"1\" class=\"dataframe\">\n",
              "  <thead>\n",
              "    <tr style=\"text-align: right;\">\n",
              "      <th></th>\n",
              "      <th>original_index</th>\n",
              "      <th>original_db</th>\n",
              "      <th>similarity_percentage</th>\n",
              "      <th>title</th>\n",
              "      <th>abstract</th>\n",
              "    </tr>\n",
              "  </thead>\n",
              "  <tbody>\n",
              "    <tr>\n",
              "      <th>0</th>\n",
              "      <td>0</td>\n",
              "      <td>target</td>\n",
              "      <td>1.000000</td>\n",
              "      <td>Interim Analysis of Risk Factors for Severe Ou...</td>\n",
              "      <td>port ga design surveil network set ca race eth...</td>\n",
              "    </tr>\n",
              "    <tr>\n",
              "      <th>2</th>\n",
              "      <td>6336</td>\n",
              "      <td>second most similar</td>\n",
              "      <td>0.874410</td>\n",
              "      <td>Characteristics and predictors of hospitalizat...</td>\n",
              "      <td>knowledg individu ord target stgi gen appropri...</td>\n",
              "    </tr>\n",
              "    <tr>\n",
              "      <th>4</th>\n",
              "      <td>1</td>\n",
              "      <td>target</td>\n",
              "      <td>1.000000</td>\n",
              "      <td>Factors Associated With Intubation and Prolong...</td>\n",
              "      <td>extub design trospect obsv set chico metropoli...</td>\n",
              "    </tr>\n",
              "    <tr>\n",
              "      <th>6</th>\n",
              "      <td>7054</td>\n",
              "      <td>second most similar</td>\n",
              "      <td>0.773975</td>\n",
              "      <td>Delirium Incidence, Duration and Severity in C...</td>\n",
              "      <td>delirium incid durat intens ca known obsv larg...</td>\n",
              "    </tr>\n",
              "    <tr>\n",
              "      <th>8</th>\n",
              "      <td>2</td>\n",
              "      <td>target</td>\n",
              "      <td>1.000000</td>\n",
              "      <td>Risk factors for adverse clinical outcomes in ...</td>\n",
              "      <td>hetogen vari prognosi charactist cours off gui...</td>\n",
              "    </tr>\n",
              "  </tbody>\n",
              "</table>\n",
              "</div>"
            ],
            "text/plain": [
              "   original_index  ...                                           abstract\n",
              "0               0  ...  port ga design surveil network set ca race eth...\n",
              "2            6336  ...  knowledg individu ord target stgi gen appropri...\n",
              "4               1  ...  extub design trospect obsv set chico metropoli...\n",
              "6            7054  ...  delirium incid durat intens ca known obsv larg...\n",
              "8               2  ...  hetogen vari prognosi charactist cours off gui...\n",
              "\n",
              "[5 rows x 5 columns]"
            ]
          },
          "metadata": {
            "tags": []
          },
          "execution_count": 100
        }
      ]
    },
    {
      "cell_type": "code",
      "metadata": {
        "id": "c_gYevJcAm18",
        "colab": {
          "base_uri": "https://localhost:8080/",
          "height": 34
        },
        "outputId": "2eea80ae-2933-4f07-9e72-51547d4a35fb"
      },
      "source": [
        "len(new_docs_target_df)"
      ],
      "execution_count": null,
      "outputs": [
        {
          "output_type": "execute_result",
          "data": {
            "text/plain": [
              "60"
            ]
          },
          "metadata": {
            "tags": []
          },
          "execution_count": 101
        }
      ]
    },
    {
      "cell_type": "code",
      "metadata": {
        "id": "HcGo95haPhoM",
        "colab": {
          "base_uri": "https://localhost:8080/",
          "height": 85
        },
        "outputId": "27da7e9b-3187-48b6-d6ac-abd061b85ecf"
      },
      "source": [
        "new_docs_target_df.original_db.value_counts()"
      ],
      "execution_count": null,
      "outputs": [
        {
          "output_type": "execute_result",
          "data": {
            "text/plain": [
              "target                 30\n",
              "second most similar    29\n",
              "most similar            1\n",
              "Name: original_db, dtype: int64"
            ]
          },
          "metadata": {
            "tags": []
          },
          "execution_count": 109
        }
      ]
    },
    {
      "cell_type": "code",
      "metadata": {
        "id": "3FSsOFc-BFLa",
        "colab": {
          "base_uri": "https://localhost:8080/",
          "height": 34
        },
        "outputId": "baf51a6c-f24a-4544-ec61-c8231c600557"
      },
      "source": [
        "print(list(new_docs_target_df.original_db.value_counts()))"
      ],
      "execution_count": null,
      "outputs": [
        {
          "output_type": "stream",
          "text": [
            "[30, 29, 1]\n"
          ],
          "name": "stdout"
        }
      ]
    },
    {
      "cell_type": "code",
      "metadata": {
        "id": "2vUVhd-WDxx4",
        "colab": {
          "base_uri": "https://localhost:8080/",
          "height": 1000
        },
        "outputId": "b5de39c4-1c64-4a85-b382-75f8e74d34d7"
      },
      "source": [
        "new_docs_target_df[new_docs_target_df['original_db'] !='target']"
      ],
      "execution_count": null,
      "outputs": [
        {
          "output_type": "execute_result",
          "data": {
            "text/html": [
              "<div>\n",
              "<style scoped>\n",
              "    .dataframe tbody tr th:only-of-type {\n",
              "        vertical-align: middle;\n",
              "    }\n",
              "\n",
              "    .dataframe tbody tr th {\n",
              "        vertical-align: top;\n",
              "    }\n",
              "\n",
              "    .dataframe thead th {\n",
              "        text-align: right;\n",
              "    }\n",
              "</style>\n",
              "<table border=\"1\" class=\"dataframe\">\n",
              "  <thead>\n",
              "    <tr style=\"text-align: right;\">\n",
              "      <th></th>\n",
              "      <th>original_index</th>\n",
              "      <th>original_db</th>\n",
              "      <th>similarity_percentage</th>\n",
              "      <th>title</th>\n",
              "      <th>abstract</th>\n",
              "    </tr>\n",
              "  </thead>\n",
              "  <tbody>\n",
              "    <tr>\n",
              "      <th>1</th>\n",
              "      <td>6424</td>\n",
              "      <td>most similar</td>\n",
              "      <td>0.990724</td>\n",
              "      <td>Interim Analysis of Risk Factors for Severe Ou...</td>\n",
              "      <td>port ga design surveil network set ca race eth...</td>\n",
              "    </tr>\n",
              "    <tr>\n",
              "      <th>2</th>\n",
              "      <td>6336</td>\n",
              "      <td>second most similar</td>\n",
              "      <td>0.874410</td>\n",
              "      <td>Characteristics and predictors of hospitalizat...</td>\n",
              "      <td>knowledg individu ord target stgi gen appropri...</td>\n",
              "    </tr>\n",
              "    <tr>\n",
              "      <th>3</th>\n",
              "      <td>8966</td>\n",
              "      <td>third most similar</td>\n",
              "      <td>0.874329</td>\n",
              "      <td>Interim Analysis of Risk Factors for Severe Ou...</td>\n",
              "      <td>port ga design surveil network set ca race eth...</td>\n",
              "    </tr>\n",
              "    <tr>\n",
              "      <th>5</th>\n",
              "      <td>10970</td>\n",
              "      <td>most similar</td>\n",
              "      <td>0.989242</td>\n",
              "      <td>Factors Associated With Intubation and Prolong...</td>\n",
              "      <td>extub design trospect obsv set chico metropoli...</td>\n",
              "    </tr>\n",
              "    <tr>\n",
              "      <th>6</th>\n",
              "      <td>7054</td>\n",
              "      <td>second most similar</td>\n",
              "      <td>0.773975</td>\n",
              "      <td>Delirium Incidence, Duration and Severity in C...</td>\n",
              "      <td>delirium incid durat intens ca known obsv larg...</td>\n",
              "    </tr>\n",
              "    <tr>\n",
              "      <th>...</th>\n",
              "      <td>...</td>\n",
              "      <td>...</td>\n",
              "      <td>...</td>\n",
              "      <td>...</td>\n",
              "      <td>...</td>\n",
              "    </tr>\n",
              "    <tr>\n",
              "      <th>118</th>\n",
              "      <td>6238</td>\n",
              "      <td>second most similar</td>\n",
              "      <td>0.815244</td>\n",
              "      <td>Clinical characteristics of 2019 novel coronav...</td>\n",
              "      <td>decemb spiratori ard emg citi rapidli spad sou...</td>\n",
              "    </tr>\n",
              "    <tr>\n",
              "      <th>119</th>\n",
              "      <td>2360</td>\n",
              "      <td>third most similar</td>\n",
              "      <td>0.796649</td>\n",
              "      <td>Clinical Characteristics of Coronavirus Diseas...</td>\n",
              "      <td>decemb emg citi rapidli spad charactist affect...</td>\n",
              "    </tr>\n",
              "    <tr>\n",
              "      <th>121</th>\n",
              "      <td>6238</td>\n",
              "      <td>most similar</td>\n",
              "      <td>0.993195</td>\n",
              "      <td>Clinical characteristics of 2019 novel coronav...</td>\n",
              "      <td>decemb spiratori ard emg citi rapidli spad sou...</td>\n",
              "    </tr>\n",
              "    <tr>\n",
              "      <th>122</th>\n",
              "      <td>8460</td>\n",
              "      <td>second most similar</td>\n",
              "      <td>0.835257</td>\n",
              "      <td>Transmission and clinical characteristics of c...</td>\n",
              "      <td>emigr escal spad citi port foc outsid characti...</td>\n",
              "    </tr>\n",
              "    <tr>\n",
              "      <th>123</th>\n",
              "      <td>11634</td>\n",
              "      <td>third most similar</td>\n",
              "      <td>0.820014</td>\n",
              "      <td>Clinical characteristics of 2019 novel coronav...</td>\n",
              "      <td>decemb spiratori ard emg citi rapidli spad sou...</td>\n",
              "    </tr>\n",
              "  </tbody>\n",
              "</table>\n",
              "<p>93 rows × 5 columns</p>\n",
              "</div>"
            ],
            "text/plain": [
              "     original_index  ...                                           abstract\n",
              "1              6424  ...  port ga design surveil network set ca race eth...\n",
              "2              6336  ...  knowledg individu ord target stgi gen appropri...\n",
              "3              8966  ...  port ga design surveil network set ca race eth...\n",
              "5             10970  ...  extub design trospect obsv set chico metropoli...\n",
              "6              7054  ...  delirium incid durat intens ca known obsv larg...\n",
              "..              ...  ...                                                ...\n",
              "118            6238  ...  decemb spiratori ard emg citi rapidli spad sou...\n",
              "119            2360  ...  decemb emg citi rapidli spad charactist affect...\n",
              "121            6238  ...  decemb spiratori ard emg citi rapidli spad sou...\n",
              "122            8460  ...  emigr escal spad citi port foc outsid characti...\n",
              "123           11634  ...  decemb spiratori ard emg citi rapidli spad sou...\n",
              "\n",
              "[93 rows x 5 columns]"
            ]
          },
          "metadata": {
            "tags": []
          },
          "execution_count": 90
        }
      ]
    },
    {
      "cell_type": "code",
      "metadata": {
        "id": "V5sorIpSCM1p"
      },
      "source": [
        "not_target = new_docs_target_df[new_docs_target_df['original_db'] !='target']\n",
        "for i in not_target.original_db:\n",
        "  print(i)"
      ],
      "execution_count": null,
      "outputs": []
    },
    {
      "cell_type": "code",
      "metadata": {
        "id": "zKn-82jp_OrM",
        "colab": {
          "base_uri": "https://localhost:8080/",
          "height": 275
        },
        "outputId": "196ff2bf-f326-437f-fd3d-b253114fcfae"
      },
      "source": [
        "# Removing duplicates\n",
        "not_target = new_docs_target_df[new_docs_target_df['original_db'] !='target']\n",
        "not_target.drop_duplicates(subset='title', keep=\"first\", inplace=True)\n",
        "print(not_target.head())\n",
        "print(len(not_target))"
      ],
      "execution_count": null,
      "outputs": [
        {
          "output_type": "stream",
          "text": [
            "   original_index  ...                                           abstract\n",
            "1            6424  ...  port ga design surveil network set ca race eth...\n",
            "2            6336  ...  knowledg individu ord target stgi gen appropri...\n",
            "5           10970  ...  extub design trospect obsv set chico metropoli...\n",
            "6            7054  ...  delirium incid durat intens ca known obsv larg...\n",
            "9            5770  ...  hetogen vari prognosi charactist cours off gui...\n",
            "\n",
            "[5 rows x 5 columns]\n",
            "60\n"
          ],
          "name": "stdout"
        },
        {
          "output_type": "stream",
          "text": [
            "/usr/local/lib/python3.6/dist-packages/ipykernel_launcher.py:3: SettingWithCopyWarning: \n",
            "A value is trying to be set on a copy of a slice from a DataFrame\n",
            "\n",
            "See the caveats in the documentation: https://pandas.pydata.org/pandas-docs/stable/user_guide/indexing.html#returning-a-view-versus-a-copy\n",
            "  This is separate from the ipykernel package so we can avoid doing imports until\n"
          ],
          "name": "stderr"
        }
      ]
    },
    {
      "cell_type": "code",
      "metadata": {
        "id": "UzaleR3Yrv_x",
        "colab": {
          "base_uri": "https://localhost:8080/",
          "height": 88
        },
        "outputId": "abf84f1a-4092-4591-f001-f0c44eda0926"
      },
      "source": [
        "# saving a list with the top 10 most similiar to target ones\n",
        "target_top_similar = []\n",
        "for i in range(len(target_df.title)):\n",
        "   sim_test = d2v_model.docvecs.most_similar(positive=[d2v_target[i]], topn=10)\n",
        "   target_top_similar.append({i:sim_test})ve\n",
        "\n",
        "print(target_top_similar[0])\n",
        "#pickle.dump(ingre_top_modes, open(\"ingredients_prep_modes_50000_2.pkl\", \"wb\"))"
      ],
      "execution_count": null,
      "outputs": [
        {
          "output_type": "stream",
          "text": [
            "{0: [(6457, 0.9936496615409851), (5265, 0.8906867504119873), (8833, 0.8109248876571655), (6810, 0.8076139688491821), (12865, 0.791982889175415), (6369, 0.7909993529319763), (14127, 0.7876187562942505), (8846, 0.7801713943481445), (1483, 0.7758084535598755), (9330, 0.7734847664833069)]}\n"
          ],
          "name": "stdout"
        },
        {
          "output_type": "stream",
          "text": [
            "/usr/local/lib/python3.6/dist-packages/gensim/matutils.py:737: FutureWarning: Conversion of the second argument of issubdtype from `int` to `np.signedinteger` is deprecated. In future, it will be treated as `np.int64 == np.dtype(int).type`.\n",
            "  if np.issubdtype(vec.dtype, np.int):\n"
          ],
          "name": "stderr"
        }
      ]
    },
    {
      "cell_type": "code",
      "metadata": {
        "id": "QkWWMQRUsdJk",
        "colab": {
          "base_uri": "https://localhost:8080/",
          "height": 88
        },
        "outputId": "2ef608fe-99cc-4873-8d7d-76119a1a58d9"
      },
      "source": [
        "sim_test = d2v_model.docvecs.most_similar(positive=[d2v_target[0]], topn=10)\n",
        "print(sim_test[0])"
      ],
      "execution_count": null,
      "outputs": [
        {
          "output_type": "stream",
          "text": [
            "(6457, 0.9936496615409851)\n"
          ],
          "name": "stdout"
        },
        {
          "output_type": "stream",
          "text": [
            "/usr/local/lib/python3.6/dist-packages/gensim/matutils.py:737: FutureWarning: Conversion of the second argument of issubdtype from `int` to `np.signedinteger` is deprecated. In future, it will be treated as `np.int64 == np.dtype(int).type`.\n",
            "  if np.issubdtype(vec.dtype, np.int):\n"
          ],
          "name": "stderr"
        }
      ]
    },
    {
      "cell_type": "code",
      "metadata": {
        "id": "A0k3gGiak0XK",
        "colab": {
          "base_uri": "https://localhost:8080/",
          "height": 1000
        },
        "outputId": "1a0c8c08-b72a-43d1-e79b-a54f66af41b6"
      },
      "source": [
        "# check if the second most similar is on the target table:\n",
        "\n",
        "for i in range(len(target_df.title)):\n",
        "   sim_test = d2v_model.docvecs.most_similar(positive=[d2v_target[i], topn=5)\n",
        "   second_sim = smoke_.title[sim_test[1][0]]\n",
        "   test = target_df.title.str.contains(second_sim)\n",
        "   if len(target_df[test]) != 0:\n",
        "     print('target index:' + str(i))\n",
        "     print('meta index:' + str(sim_test[1][0]))\n",
        "     print(target_df[test])\n",
        "\n",
        "\n",
        "#print(sim_test[0])\n",
        "\n",
        "\n"
      ],
      "execution_count": null,
      "outputs": [
        {
          "output_type": "stream",
          "text": [
            "/usr/local/lib/python3.6/dist-packages/gensim/matutils.py:737: FutureWarning: Conversion of the second argument of issubdtype from `int` to `np.signedinteger` is deprecated. In future, it will be treated as `np.int64 == np.dtype(int).type`.\n",
            "  if np.issubdtype(vec.dtype, np.int):\n",
            "/usr/local/lib/python3.6/dist-packages/gensim/matutils.py:737: FutureWarning: Conversion of the second argument of issubdtype from `int` to `np.signedinteger` is deprecated. In future, it will be treated as `np.int64 == np.dtype(int).type`.\n",
            "  if np.issubdtype(vec.dtype, np.int):\n",
            "/usr/local/lib/python3.6/dist-packages/gensim/matutils.py:737: FutureWarning: Conversion of the second argument of issubdtype from `int` to `np.signedinteger` is deprecated. In future, it will be treated as `np.int64 == np.dtype(int).type`.\n",
            "  if np.issubdtype(vec.dtype, np.int):\n",
            "/usr/local/lib/python3.6/dist-packages/gensim/matutils.py:737: FutureWarning: Conversion of the second argument of issubdtype from `int` to `np.signedinteger` is deprecated. In future, it will be treated as `np.int64 == np.dtype(int).type`.\n",
            "  if np.issubdtype(vec.dtype, np.int):\n",
            "/usr/local/lib/python3.6/dist-packages/gensim/matutils.py:737: FutureWarning: Conversion of the second argument of issubdtype from `int` to `np.signedinteger` is deprecated. In future, it will be treated as `np.int64 == np.dtype(int).type`.\n",
            "  if np.issubdtype(vec.dtype, np.int):\n",
            "/usr/local/lib/python3.6/dist-packages/gensim/matutils.py:737: FutureWarning: Conversion of the second argument of issubdtype from `int` to `np.signedinteger` is deprecated. In future, it will be treated as `np.int64 == np.dtype(int).type`.\n",
            "  if np.issubdtype(vec.dtype, np.int):\n",
            "/usr/local/lib/python3.6/dist-packages/gensim/matutils.py:737: FutureWarning: Conversion of the second argument of issubdtype from `int` to `np.signedinteger` is deprecated. In future, it will be treated as `np.int64 == np.dtype(int).type`.\n",
            "  if np.issubdtype(vec.dtype, np.int):\n",
            "/usr/local/lib/python3.6/dist-packages/gensim/matutils.py:737: FutureWarning: Conversion of the second argument of issubdtype from `int` to `np.signedinteger` is deprecated. In future, it will be treated as `np.int64 == np.dtype(int).type`.\n",
            "  if np.issubdtype(vec.dtype, np.int):\n",
            "/usr/local/lib/python3.6/dist-packages/gensim/matutils.py:737: FutureWarning: Conversion of the second argument of issubdtype from `int` to `np.signedinteger` is deprecated. In future, it will be treated as `np.int64 == np.dtype(int).type`.\n",
            "  if np.issubdtype(vec.dtype, np.int):\n",
            "/usr/local/lib/python3.6/dist-packages/gensim/matutils.py:737: FutureWarning: Conversion of the second argument of issubdtype from `int` to `np.signedinteger` is deprecated. In future, it will be treated as `np.int64 == np.dtype(int).type`.\n",
            "  if np.issubdtype(vec.dtype, np.int):\n"
          ],
          "name": "stderr"
        },
        {
          "output_type": "stream",
          "text": [
            "target index:6\n",
            "meta index:1071\n",
            "         Date  ...                                           abstract\n",
            "6  2020-05-12  ...  identif corona great aid deliv prop optim reso...\n",
            "\n",
            "[1 rows x 3 columns]\n",
            "target index:7\n",
            "meta index:4626\n",
            "          Date  ...                                           abstract\n",
            "15  2020-04-29  ...  editori angiotensin convt enzym inhibitor acei...\n",
            "\n",
            "[1 rows x 3 columns]\n",
            "target index:9\n",
            "meta index:19246\n",
            "          Date  ...                                           abstract\n",
            "9   2020-05-06  ...  itali european hit est death europ prospect co...\n",
            "10  2020-05-06  ...  itali european hit est death europ prospect co...\n",
            "\n",
            "[2 rows x 3 columns]\n",
            "target index:10\n",
            "meta index:19246\n",
            "          Date  ...                                           abstract\n",
            "9   2020-05-06  ...  itali european hit est death europ prospect co...\n",
            "10  2020-05-06  ...  itali european hit est death europ prospect co...\n",
            "\n",
            "[2 rows x 3 columns]\n",
            "target index:13\n",
            "meta index:22891\n",
            "          Date  ...                                           abstract\n",
            "13  2020-05-01  ...  disproportion affect cardiovascular concn aro ...\n",
            "14  2020-05-01  ...  disproportion affect cardiovascular concn aro ...\n",
            "\n",
            "[2 rows x 3 columns]\n",
            "target index:14\n",
            "meta index:16353\n",
            "          Date  ...                                           abstract\n",
            "13  2020-05-01  ...  disproportion affect cardiovascular concn aro ...\n",
            "14  2020-05-01  ...  disproportion affect cardiovascular concn aro ...\n",
            "\n",
            "[2 rows x 3 columns]\n",
            "target index:16\n",
            "meta index:24636\n",
            "          Date  ...                                           abstract\n",
            "16  2020-04-23  ...  began decemb trigg intn concn pheic factor red...\n",
            "17  2020-04-23  ...  began decemb trigg intn concn pheic factor red...\n",
            "\n",
            "[2 rows x 3 columns]\n",
            "target index:17\n",
            "meta index:13809\n",
            "          Date  ...                                           abstract\n",
            "16  2020-04-23  ...  began decemb trigg intn concn pheic factor red...\n",
            "17  2020-04-23  ...  began decemb trigg intn concn pheic factor red...\n",
            "\n",
            "[2 rows x 3 columns]\n",
            "target index:19\n",
            "meta index:24550\n",
            "          Date  ...                                           abstract\n",
            "19  2020-04-10  ...  describ charactist pneumonia indic neutrophil ...\n",
            "20  2020-04-10  ...  describ charactist pneumonia indic neutrophil ...\n",
            "\n",
            "[2 rows x 3 columns]\n",
            "target index:20\n",
            "meta index:24550\n",
            "          Date  ...                                           abstract\n",
            "19  2020-04-10  ...  describ charactist pneumonia indic neutrophil ...\n",
            "20  2020-04-10  ...  describ charactist pneumonia indic neutrophil ...\n",
            "\n",
            "[2 rows x 3 columns]\n",
            "target index:21\n",
            "meta index:10500\n"
          ],
          "name": "stdout"
        },
        {
          "output_type": "stream",
          "text": [
            "/usr/local/lib/python3.6/dist-packages/gensim/matutils.py:737: FutureWarning: Conversion of the second argument of issubdtype from `int` to `np.signedinteger` is deprecated. In future, it will be treated as `np.int64 == np.dtype(int).type`.\n",
            "  if np.issubdtype(vec.dtype, np.int):\n",
            "/usr/local/lib/python3.6/dist-packages/gensim/matutils.py:737: FutureWarning: Conversion of the second argument of issubdtype from `int` to `np.signedinteger` is deprecated. In future, it will be treated as `np.int64 == np.dtype(int).type`.\n",
            "  if np.issubdtype(vec.dtype, np.int):\n",
            "/usr/local/lib/python3.6/dist-packages/gensim/matutils.py:737: FutureWarning: Conversion of the second argument of issubdtype from `int` to `np.signedinteger` is deprecated. In future, it will be treated as `np.int64 == np.dtype(int).type`.\n",
            "  if np.issubdtype(vec.dtype, np.int):\n",
            "/usr/local/lib/python3.6/dist-packages/gensim/matutils.py:737: FutureWarning: Conversion of the second argument of issubdtype from `int` to `np.signedinteger` is deprecated. In future, it will be treated as `np.int64 == np.dtype(int).type`.\n",
            "  if np.issubdtype(vec.dtype, np.int):\n",
            "/usr/local/lib/python3.6/dist-packages/gensim/matutils.py:737: FutureWarning: Conversion of the second argument of issubdtype from `int` to `np.signedinteger` is deprecated. In future, it will be treated as `np.int64 == np.dtype(int).type`.\n",
            "  if np.issubdtype(vec.dtype, np.int):\n",
            "/usr/local/lib/python3.6/dist-packages/gensim/matutils.py:737: FutureWarning: Conversion of the second argument of issubdtype from `int` to `np.signedinteger` is deprecated. In future, it will be treated as `np.int64 == np.dtype(int).type`.\n",
            "  if np.issubdtype(vec.dtype, np.int):\n",
            "/usr/local/lib/python3.6/dist-packages/pandas/core/strings.py:1954: UserWarning: This pattern has match groups. To actually get the groups, use str.extract.\n",
            "  return func(self, *args, **kwargs)\n",
            "/usr/local/lib/python3.6/dist-packages/gensim/matutils.py:737: FutureWarning: Conversion of the second argument of issubdtype from `int` to `np.signedinteger` is deprecated. In future, it will be treated as `np.int64 == np.dtype(int).type`.\n",
            "  if np.issubdtype(vec.dtype, np.int):\n",
            "/usr/local/lib/python3.6/dist-packages/gensim/matutils.py:737: FutureWarning: Conversion of the second argument of issubdtype from `int` to `np.signedinteger` is deprecated. In future, it will be treated as `np.int64 == np.dtype(int).type`.\n",
            "  if np.issubdtype(vec.dtype, np.int):\n",
            "/usr/local/lib/python3.6/dist-packages/gensim/matutils.py:737: FutureWarning: Conversion of the second argument of issubdtype from `int` to `np.signedinteger` is deprecated. In future, it will be treated as `np.int64 == np.dtype(int).type`.\n",
            "  if np.issubdtype(vec.dtype, np.int):\n"
          ],
          "name": "stderr"
        },
        {
          "output_type": "stream",
          "text": [
            "          Date  ...                                           abstract\n",
            "21  2020-04-01  ...  clarifi factor establish ian bett choos thapeu...\n",
            "22  2020-04-01  ...  clarifi factor establish ian bett choos thapeu...\n",
            "\n",
            "[2 rows x 3 columns]\n",
            "target index:22\n",
            "meta index:10500\n",
            "          Date  ...                                           abstract\n",
            "21  2020-04-01  ...  clarifi factor establish ian bett choos thapeu...\n",
            "22  2020-04-01  ...  clarifi factor establish ian bett choos thapeu...\n",
            "\n",
            "[2 rows x 3 columns]\n",
            "target index:28\n",
            "meta index:8479\n",
            "          Date  ...                                           abstract\n",
            "28  2020-03-27  ...  evolv dramat summaris mortal chronic obstruct ...\n",
            "29  2020-03-27  ...  evolv dramat summar mortal chronic obstruct pu...\n",
            "30  2020-03-27  ...  evolv dramat summar mortal chronic obstruct pu...\n",
            "\n",
            "[3 rows x 3 columns]\n",
            "target index:29\n",
            "meta index:24017\n",
            "          Date  ...                                           abstract\n",
            "28  2020-03-27  ...  evolv dramat summaris mortal chronic obstruct ...\n",
            "29  2020-03-27  ...  evolv dramat summar mortal chronic obstruct pu...\n",
            "30  2020-03-27  ...  evolv dramat summar mortal chronic obstruct pu...\n",
            "\n",
            "[3 rows x 3 columns]\n",
            "target index:30\n",
            "meta index:24017\n",
            "          Date  ...                                           abstract\n",
            "28  2020-03-27  ...  evolv dramat summaris mortal chronic obstruct ...\n",
            "29  2020-03-27  ...  evolv dramat summar mortal chronic obstruct pu...\n",
            "30  2020-03-27  ...  evolv dramat summar mortal chronic obstruct pu...\n",
            "\n",
            "[3 rows x 3 columns]\n",
            "target index:32\n",
            "meta index:16987\n",
            "          Date  ...                                           abstract\n",
            "32  2020-03-23  ...  elev sum protein crp obsv design jan feb progn...\n",
            "33  2020-03-23  ...  elev sum protein crp obsv design jan feb progn...\n",
            "\n",
            "[2 rows x 3 columns]\n",
            "target index:36\n",
            "meta index:25192\n",
            "          Date  ...                                           abstract\n",
            "36  2020-03-12  ...  decemb expienc iolog charactist factor mortal ...\n",
            "37  2020-03-12  ...  decemb expienc iolog charactist factor mortal ...\n",
            "\n",
            "[2 rows x 3 columns]\n",
            "target index:37\n",
            "meta index:17515\n",
            "          Date  ...                                           abstract\n",
            "36  2020-03-12  ...  decemb expienc iolog charactist factor mortal ...\n",
            "37  2020-03-12  ...  decemb expienc iolog charactist factor mortal ...\n",
            "\n",
            "[2 rows x 3 columns]\n",
            "target index:39\n",
            "meta index:20844\n",
            "          Date  ...                                           abstract\n",
            "39  2020-02-28  ...  decemb citi rapidli charactist affect extract ...\n",
            "40  2020-02-28  ...  decemb citi rapidli charactist affect extract ...\n",
            "\n",
            "[2 rows x 3 columns]\n",
            "target index:40\n",
            "meta index:20844\n",
            "          Date  ...                                           abstract\n",
            "39  2020-02-28  ...  decemb citi rapidli charactist affect extract ...\n",
            "40  2020-02-28  ...  decemb citi rapidli charactist affect extract ...\n",
            "\n",
            "[2 rows x 3 columns]\n"
          ],
          "name": "stdout"
        },
        {
          "output_type": "stream",
          "text": [
            "/usr/local/lib/python3.6/dist-packages/gensim/matutils.py:737: FutureWarning: Conversion of the second argument of issubdtype from `int` to `np.signedinteger` is deprecated. In future, it will be treated as `np.int64 == np.dtype(int).type`.\n",
            "  if np.issubdtype(vec.dtype, np.int):\n",
            "/usr/local/lib/python3.6/dist-packages/gensim/matutils.py:737: FutureWarning: Conversion of the second argument of issubdtype from `int` to `np.signedinteger` is deprecated. In future, it will be treated as `np.int64 == np.dtype(int).type`.\n",
            "  if np.issubdtype(vec.dtype, np.int):\n"
          ],
          "name": "stderr"
        }
      ]
    },
    {
      "cell_type": "code",
      "metadata": {
        "id": "RCfiPHKBpWxI"
      },
      "source": [
        "# Checking the titles not found with just a part of the whole string.\n",
        "check = smoke_.title.str.contains('Analysis of hospitalized COVID-19 patients in the Mount Sinai Health System using electronic medical records')\n",
        "print(smoke_[check])"
      ],
      "execution_count": null,
      "outputs": []
    },
    {
      "cell_type": "code",
      "metadata": {
        "id": "Oq2vDchWo0JV",
        "colab": {
          "base_uri": "https://localhost:8080/",
          "height": 85
        },
        "outputId": "7b2fb9dd-dde6-4e8b-c2f7-2541fa216370"
      },
      "source": [
        "checkt = target_df.title.str.contains(smoke_.title[6271\n",
        "                                                   ])\n",
        "if len(target_df[checkt]) != 0:\n",
        "  print(target_df[checkt])"
      ],
      "execution_count": null,
      "outputs": [
        {
          "output_type": "stream",
          "text": [
            "          Date  ...                                           abstract\n",
            "41  2020-02-09  ...  decemb ard citi rapidli sought delin charactis...\n",
            "\n",
            "[1 rows x 3 columns]\n"
          ],
          "name": "stdout"
        }
      ]
    },
    {
      "cell_type": "code",
      "metadata": {
        "id": "sP51Rm5godGO"
      },
      "source": [
        "# check if the second or/and third most similar is a duplicate for the target article:"
      ],
      "execution_count": null,
      "outputs": []
    },
    {
      "cell_type": "markdown",
      "metadata": {
        "id": "9XvZUOTA5ij3"
      },
      "source": [
        "### Trying out with finding the abstract with function str.contains"
      ]
    },
    {
      "cell_type": "code",
      "metadata": {
        "id": "hbccrXnKFGiE",
        "colab": {
          "base_uri": "https://localhost:8080/"
        },
        "outputId": "2d8f09dc-736c-4de4-f713-ffb705866b84"
      },
      "source": [
        "check = smoke_.abstract.str.contains(target_df.abstract[0])\n",
        "print(smoke_[check])"
      ],
      "execution_count": null,
      "outputs": [
        {
          "output_type": "stream",
          "text": [
            "Empty DataFrame\n",
            "Columns: [level_0, publish_time, title, abstract, date, year, language]\n",
            "Index: []\n"
          ],
          "name": "stdout"
        }
      ]
    },
    {
      "cell_type": "code",
      "metadata": {
        "id": "wfSu10ak1eYr",
        "colab": {
          "base_uri": "https://localhost:8080/"
        },
        "outputId": "e3c37cf2-d87f-4586-fc2d-5da574fcb9d2"
      },
      "source": [
        "# Checking all abstracts of target table, doing a list of the found ones and the not found ones:\n",
        "abstract_not_found = []\n",
        "index_abstract_found = []\n",
        "for i in range(len(target_df.abstract)):\n",
        "  check = smoke_.abstract.str.contains(target_df.abstract[i])\n",
        "  if len(smoke_[check]) == 0:\n",
        "    abstract_not_found.append([i, target_df.abstract[i]])\n",
        "  else:\n",
        "    i2 = int(list(smoke_[check].index)[0])\n",
        "    index_abstract_found.append([i, i2])\n",
        "\n",
        "print(len(abstract_not_found))\n",
        "print(abstract_not_found)\n",
        "print(index_abstract_found)\n",
        "print(len(index_abstract_found))"
      ],
      "execution_count": null,
      "outputs": [
        {
          "output_type": "stream",
          "text": [
            "38\n",
            "[[0, 'state grea death factor adult design surveil network set state march sex race ethnic undli condit nineti pcent undli condit requir intens icu admiss invas mechan ventil vasopressor factor icu admiss vsu arr respect male sex arr obes arr immunosuppress arr diabet arr factor mortal vsu arr respect male sex arr immunosuppress arr renal arr chronic lung arr cardiovascular arr neurolog disord arr diabet arr race ethnic icu admiss death limit limit discharg complet chart abstract access exclud mortal markedli charact pson est defin target stgi'], [2, 'hetogen vari prognosi charactist cours off guidanc decis make futur eavor unveil pathwai factor advs sourc systemat pubm april select obsv charactist advs consid elig scrutin ovlap extract synthesi factor point extract size crude elig size ovlap synthes appli main admiss icu mechan ventil mortal com elig uniqu factor seven strongest iolog evid statist valu hetogen sampl size intv exclud null valu absenc small elev protein decreas lymphocyt cebrovascular chronic obstruct pulmonari diabet mellitu hemoptysi male sex relev light factor prognost build guid select trial altn target shed light pathophysiolog'], [3, 'york epicent undrepres minor obes appear affect disproportion charactist bronx investig obes wors comorbid ttiari cent electron week admiss primari point mortal femal sex african amican bmi hyptens hyplipidemia diabet comorbid fev cough dyspnea bmi bmi bmi quartil male sex bmi ref bmi heart failur cad ckd esrd univari mortal demonstr bmi ref bmi male sex quartil mortal similarli male sex bmi prior smoke oxygen requir male sex bmi intub minor predomin obes male sex mortal wors'], [4, 'kuwait prior mass screen incom travel known subsequ transf singl cent jab ahmad sabah receiv standard investig charact demograph manifest uniqu conduct april consecut entir state kuwait dinos accord guidelin jab ahmad sabah recruit receiv standard investig detmin factor male aat admiss sign afebril requir icu admiss dead cutoff date factor admiss intens old qsofa smoke elev crp elev procalcitonin asthma smoke elev procalcitonin correl mortal intpret knowledg larg obsv charactist initi consecut entir larg proport aat insight featur mild'], [6, 'identif corona great aid deliv prop optim resourc valid admiss nationwid design set particip collabor nation commiss establish provinci administr region iolog variabl asctain admiss screen absolut shrink select lasso logist construct gram estim accuraci area receiv charactist curv auc addit valid march main defin com admiss intens invas ventil death mean men valid mean men variabl factor chest radiograph abnorm hemoptysi dyspnea unconsci comorbid canc histori neutrophil lymphocyt lactat dehydrogenas direct bilirubin mean auc auc valid translat onlin freeli http relev charactist admiss'], [7, 'littl role smoke predispos consecut march march ttiari refr cent parma northn itali male discharg heal smok smok smok male sex histori prior cardiovascular dim protein sub stai discharg aliv smok correspond smok disproportion low smok italian low smok seemingli replic extract descript tabl chines recent york citi smok carri type mechan definit design'], [8, 'establish rapidli aris death requir approach iolog larg set work behalf england set deliv secur pseudonymis analyt platform insid centr major primari electron vor establish detail primari substanti proport england preliminari sourc primari electron man electron vor tpp pseudonym link notif cpn death inpati opensaf platform adult piod feb april primari death cox hazard sex multipli variat select prospect basi prior death attribut summari death strongli male hazard old depriv strong gradient diabet asthma prior condit ethnic white black death partial attenu hazard fulli sex fulli similar asian sex fulli quantifi rang factor death previo charactis largest conduct date asian black markedli death contrari prior specul partial attribut pre exist factor depriv driv urgent requir depriv major factor littl excess explain morbid factor factor concord polici est opensaf platform rapidli updat ext regularli keyword factor ethnic depriv death'], [9, 'itali european hit est death europ prospect correl death conduct intens luigi sacco milan itali charactist alis march admiss dep probabl death kaplan mei censor april cox proport hazard factor death intquartil rang male iqr dep probabl death admiss hazard ahr obes ahr death ahr protein ahr creatinin kinas ahr admiss fatal italian add evid notion old obes advanc factor death'], [10, 'itali european hit est death europ prospect correl death conduct intens luigi sacco milan itali charactist alis march admiss dep probabl death kaplan mei censor april cox proport hazard factor death intquartil rang male iqr dep probabl death admiss hazard ahr obes ahr death ahr protein ahr creatinin kinas ahr admiss fatal italian add evid notion old obes advanc factor death'], [11, 'get die brutal state indic factor possibl boost int probabl factor litatur explor last april pubm googl scholar embas cochran librari ptin paraphras autonom extract select litatur major male sex male hyptens diabet fatigu myalgia smoke histori factor fev cough diarrhea factor benefici addit attent begin'], [12, 'threat wid urgent undstand charactist have mark mortal featur design set particip obsv extract electron mount sinai exposur dinosi pcr assai nasal swab main race mortal demograph site behavior vital sign lab comorbid discharg death estim hispan african amican disproportion rel mortal obsv grai reflect lin undli comorbid factor mortal oxygen satur icu area elev creatinin alanin aminotransfas alt bodi mass bmi asthma length stai mortal deceas elev mark inflamm lin bmi oxygen satur white blood wbc creatinin alt prognost indic mortal relev race racial dispar inpati mortal singl ttiari race featur reduc mortal discharg grea surviv'], [15, 'editori angiotensin convt enzym inhibitor acei angiotensin receptor block arb given arti hyptens wors calcium channel block ccb altn zheijang role acei arb ccb sex bmi presenc relev comorbid bmi diabet cardio cebrovascular factor individu hyptens take ccb manifest take arb diuret low respect antihyptens form glucocorticoid form intpret evid alt arb acei thapi context corticostoid form monitor close'], [16, 'began decemb trigg intn concn pheic factor reduc death march retriev bas statist factor mortal thirteen male old smoke factor male orâ\\x80¯ â\\x80¯ old smoke pâ\\x80¯ â\\x80¯ proport undli hyptens diabet cardiovascular statist mortal diabet hyptens orâ\\x80¯ â\\x80¯ pâ\\x80¯ â\\x80¯ cardiovascular orâ\\x80¯ â\\x80¯ orâ\\x80¯ â\\x80¯ manifest fev short breath dyspnea fev râ\\x80¯ â\\x80¯ pâ\\x80¯ â\\x80¯ short breath dyspnea aspart amino transfas ast creatinin mol hypsensit cardiac troponin ctni procalcitonin pct lactated hydrogenas ldh dim detior white blood wbc â\\x80¯×â\\x80¯ meant bett statu ast µmol orâ\\x80¯ â\\x80¯ pâ\\x80¯ â\\x80¯ ctni orâ\\x80¯ â\\x80¯ pct orâ\\x80¯ â\\x80¯ ldh orâ\\x80¯ â\\x80¯ dim orâ\\x80¯ â\\x80¯ wbc â\\x80¯×â\\x80¯ orâ\\x80¯ â\\x80¯ male smoke face great mortal condit comorbid hyptens diabet cardiovascular greatli affect prognosi manifest fev short breath dyspnea wbc ast pct ldh ctni dim impli'], [17, 'began decemb trigg intn concn pheic factor reduc death march retriev bas statist factor mortal thirteen male old smoke factor male old smoke proport undli hyptens diabet cardiovascular statist mortal diabet hyptens cardiovascular manifest fev short breath dyspnea fev short breath dyspnea aspart amino transfas ast creatinin mol hypsensit cardiac troponin ctni procalcitonin pct lactated hydrogenas ldh dim detior white blood wbc meant bett statu ast μmol ctni pct ldh dim wbc male smoke face great mortal condit comorbid hyptens diabet cardiovascular greatli affect prognosi manifest fev short breath dyspnea wbc ast pct ldh ctni dim impli'], [18, 'detmin smoke design publish pap sourc pubm bas april elig critia smoke behavior smoke smok charactist factor langu limit author extract screen abstract text question resolv discs author appli main pap histori smoke smoke limit pap actual smoke smoke factor smok have smok physician profession smoke man add smoke cessat list practic blunt'], [19, 'describ charactist pneumonia indic neutrophil lymphocyt lin death chines remain investig zhongnan univs lin univari logist ionship lin death sensit convt continu variabl categor variabl accord ttil intact stratifi conduct final mortal demonstr mortal â\\x80¯ â\\x80¯ confid intv pâ\\x80¯ â\\x80¯ lowest ttil est ttil fold death orâ\\x80¯ â\\x80¯ pâ\\x80¯ â\\x80¯ confound notabl fulli mortal male orâ\\x80¯ â\\x80¯ pâ\\x80¯ â\\x80¯ factor mortal especi male individu'], [20, 'describ charactist pneumonia indic neutrophil lymphocyt lin death chines remain investig zhongnan univs lin univari logist ionship lin death sensit convt continu variabl categor variabl accord ttil intact stratifi conduct final mortal demonstr mortal confid intv lowest ttil est ttil fold death confound notabl fulli mortal male factor mortal especi male individu'], [21, 'clarifi factor establish ian bett choos thapeut stgi consecut fuyang second fifth cent chines pla enrol cox factor incorpor nomogram establish roc oval divid stabl condit worsen univari comorbid old low lymphocyt lactat dehydrogenas factor incorpor factor nomogram achiev good concord fit calibr curv name establish area roc cutoff valu point neg valu respect ian improv thapeut reduc mortal accur reason resolut resourc'], [22, 'clarifi factor establish ian bett choos thapeut stgi consecut fuyang second fifth cent chines pla enrol cox factor incorpor nomogram establish roc oval divid stabl condit worsen univari comorbid old low lymphocyt lactat dehydrogenas factor incorpor factor nomogram achiev good concord fit calibr curv name establish area roc cutoff valu point neg valu respect ian improv thapeut reduc mortal accur reason resolut resourc'], [23, 'ongo threat identif mark onset press issu featur admiss dinos aat mild obsv singl cent mass diamond princess cruis ship radiolog featur admiss obsv univari factor onset male briefli admiss obsv aat mild respect sum lactat hydrogenas aat admiss remain aat obsv piod old consolid chest comput tomographi lymphopenia admiss frequent mild obsv intpret lactat dehydrogenas onset old consolid chest lymphopenia factor contribut man fund applic'], [24, 'cardiovascular cvd tradit factor unctain confound sex systemat explor pre exist cvd tradit factor factor defin death distress mechan ventil intens admiss pubm embas pap english origin pool rel estim conduct pap met incl critia old consist elig chang ari univari factor robtli male sex pool hyptens diabet cvd male sex factor confound hyptens diabet cvd explor renin angiotensin inhibitor factor despit confound hyptens diabet cvd male sex decis man workforc plan'], [25, 'resourc defici vaccin pneumonia ncp factor pneumonia limit ord maxim limit resourc distinguish mild possibl systemat evid factor corona evid conduct comprehens primari litatur chines english electron bibliograph nation knowledg infrastructur cnki wanfang weipu chines bioin litatur bas cbm sinom medlin pubm embas cochran central regist web amican enc qualiti ahrq tool bia mata undtaken stata vsion particip elig systemat eldli male bodi mass breath combin undli hyptens diabet cardiovascular chronic obstruct pulmonari second ordinari fev dyspnea abnorm elev white liv enzym lactat dehydrogenas creatin kinas protein procalcitonin decreas lymphocyt albumin intpret systemat investig factor corona discs charactist guidanc decis make optim resourc alloc'], [26, 'rapidli abil stratifi vuln vital routin system low dinosi mortal urgent requir intn valid logist inpati mortal tongji extn valid conduct jinyintan variabl set consid biomark comorbid backward stepwis select bootstrap resampl intn valid discrimin statist calibr calibr larg calibr slope plot final lymphocyt lactat dehydrogenas spo mortal discrimin excel intn extn valid intn calibr excel calibr slope extn valid low individu individu prior recalibr recalibr intcept slope led excel intpret behav lethal practic relianc paramet improv limit car resourc surviv'], [27, 'evid stain declar urgent factor chart conduct classifi initi design favor unfavor logist factor logrank conduct standard improv univari logist factor indic smoke statu diabet hypsensit troponin leukocytosi neutrophilia unfavor contrast hypnot favor surviv receiv hypnot bett surviv knowledg indic hypnot ancari factor hypsensit troponin poor oval guid decis make reduc mortal improv'], [28, 'evolv dramat summaris mortal chronic obstruct pulmonari copd updat smok systemat electron bas incept march extract author accord pref item systemat guidelin qualiti modifi vsion castl ottawa scale synthesis narr elig conduct pool confid intv abstract screen text mancript met incl critia crude fatal pool copd smok respect copd copd mortal smok smok complic smok complic smok smok mortal copd low substanti mortal copd smok smok great complic mortal requir reduc copd smok'], [29, 'evolv dramat summar mortal chronic obstruct pulmonari copd updat smok systemat electron bas incept march extract author accord pref item systemat guidelin qualiti modifi vsion castl ottawa scale synthes narr elig conduct pool confid intv abstract screen text mancript met incl critia crude fatal pool copd smok respect copd copd mortal smok smok complic smok complic smok smok mortal copd low substanti mortal copd smok smok great complic mortal requir reduc copd smok'], [30, 'evolv dramat summar mortal chronic obstruct pulmonari copd updat smok systemat electron bas incept march extract author accord pref item systemat guidelin qualiti modifi vsion castl ottawa scale synthes narr elig conduct pool confid intv abstract screen text mancript met incl critia crude fatal pool copd smok respect copd copd mortal smok smok complic smok complic smok smok mortal copd low substanti mortal copd smok smok great complic mortal requir reduc copd smok'], [31, 'dec thoand thoand death charactist ongo design electron charactist feb enrol male old chronic durat onset admiss onset admiss ordinari lymphopenia anemia hypoproteinemia abnorm sum sodium respect white blood neutrophil sum bilirubin creatinin hypsensit troponin dim procalcitonin protein decreas red blood lymphocyt platelet sum albumin admiss ordinari complic organ injuri secondari especi multipl homeostasi disturb admiss support especi old men chronic vital reduc mortal ongo'], [32, 'elev sum protein crp obsv design jan feb prognost valu admiss crp enrol male old chronic white blood neutrophil neutrophil lymphocyt system immun inflamm sii defin platelet multipli crp procalcitonin dim low red blood lymphocyt platelet neutrophil platelet crp advs area receiv charactist roc curv auc crp neutrophil platelet cut valu crp exhibit sensit valu neg valu sub reveal crp remain robt accuraci advs auc auc crp discrimin admiss auc admiss crp correl good advs'], [33, 'elev sum protein crp obsv design jan feb prognost valu admiss crp enrol male old chronic elev white blood neutrophil neutrophil lymphocyt system immun inflamm sii defin platelet multipli crp procalcitonin dim decreas red blood lymphocyt platelet neutrophil platelet crp advs area receiv charactist roc curv auc crp neutrophil platelet cut valu crp exhibit sensit valu neg valu sub reveal crp remain robt accuraci advs auc auc crp discrimin admiss auc admiss crp correl good advs'], [34, 'recent start featur previo factor lack summari charactist mortal pubm web core embas cochran medrxiv bas obsv iolog moos recomm extract pool summari featur factor death hetogen explain sub mean male pool incid mortal respect old male smoke comorbid especi chronic kidnei ckd chronic obstruct pulmonari copd cebrovascular lactat dehydrogenas ldh protein crp dim decreas blood platelet lymphocyt old cardiovascular hyptens diabet prognost factor death knowledg evid explor factor prognosi ste poor prognosi adapt'], [35, 'trigg wide influenc factor death recruit demograph charactist electron biochem admiss prognosi track demograph charactist biochem death comorbid diabet hyptens hepat cardiac chronic pulmonari defin oxygen low oxygen oxygen mean stratifi reveal old low oxygen comorbid elev death admiss extrapulmonari organ injuri univari logist alt tbil hepat injuri ast myoglobin ldh ast alt mark myocardi injuri creatinin urea nitrogen uric acid renal injuri death logist reveal ast alt urea nitrogen tbil ldh admiss correl death old low oxygen comorbid admiss elev death ast alt urea nitrogen tbil ldh admiss prognost indic great multipl organ dam improv surviv'], [36, 'decemb expienc iolog charactist factor mortal detail cours shed describ multicentr adult inpati old jinyintan pulmonari discharg jan demograph sial sampl rna extract electron univari logist explor factor death jinyintan pulmonari discharg comorbid hyptens diabet coronari heart death old sequenti organ failur sofa dim great admiss durat shed iqr death longest obsv durat shed intpret factor old sofa dim great ian poor prognosi ste prolong shed nal stgi isol optim antivir intvent futur fund chines academi innov fund nation grant distinguish young scholar nation kei program beij technolog project major project nation technolog creation'], [37, 'decemb expienc iolog charactist factor mortal detail cours shed describ multicentr adult inpati old jinyintan pulmonari discharg jan demograph sial sampl rna extract electron univari logist explor factor death jinyintan pulmonari discharg comorbid hyptens diabet coronari heart death old ·–· sequenti organ failur sofa ·–· dim great ·–· admiss durat shed iqr ·–· death longest obsv durat shed intpret factor old sofa dim great ian poor prognosi ste prolong shed nal stgi isol optim antivir intvent futur fund chines academi innov fund nation grant distinguish young scholar nation kei program beij technolog project major project nation technolog creation'], [38, 'abstract broke hubei lat name charactist pneumonia clear explor charactist factor pneumonia central dinos pneumonia featur chronic morbid demograph chest comput tomographi scan electron spss explor charactist factor pneumonia dinos pneumonia pneumonia pneumonia statist advanc dim decreas lymphocyt charactist pneumonia ste chest scan pneumonia rapidli advanc lymphocyt declin dim elev charactist pneumonia ian focu charactist ste'], [39, 'decemb citi rapidli charactist affect extract provinc autonom region municip mainland primari com point admiss intens icu mechan ventil death femal primari com point occur icu undw invas mechan ventil histori direct contact wildlif resid contact resid visit citi fev admiss cough diarrhea incub piod intquartil rang admiss ground glass opac radiolog chest comput tomographi radiograph abnorm lymphocytopenia admiss month rapidli vari degre fev abnorm radiolog fund nation commiss'], [40, 'decemb citi rapidli charactist affect extract provinc autonom region municip mainland primari com point admiss intens icu mechan ventil death femal primari com point occur icu undw invas mechan ventil histori direct contact wildlif resid contact resid visit citi fev admiss cough diarrhea incub piod intquartil rang admiss ground glass opac radiolog chest comput tomographi radiograph abnorm lymphocytopenia admiss month rapidli vari degre fev abnorm radiolog fund nation commiss'], [41, 'decemb ard citi rapidli sought delin charactist extract ard provinc provinci municip femal direct contact wildlif contact fev cough diarrhea incub piod rang admiss ground glass opac typic radiolog chest comput tomographi dinos plu revs transcriptas polymas chain reaction abnorm radiolog lymphopenia obsv intens succumb pneumonia admiss intens mechan ventil death compet sub distribut hazard confid intv rapidli normal radiolog oxygen satur blood leukocyt lymphocyt chest rai manifest poor']]\n",
            "[[1, 11190], [5, 9544], [13, 16353], [14, 22891]]\n",
            "4\n"
          ],
          "name": "stdout"
        }
      ]
    },
    {
      "cell_type": "code",
      "metadata": {
        "id": "SBNxWolW2GSu",
        "colab": {
          "base_uri": "https://localhost:8080/",
          "height": 71
        },
        "outputId": "42d036f9-61bd-4892-8e4b-799cec51a159"
      },
      "source": [
        "print(target_df.title[0])\n",
        "print(smoke_.title[6457])"
      ],
      "execution_count": null,
      "outputs": [
        {
          "output_type": "stream",
          "text": [
            "Interim Analysis of Risk Factors for Severe Outcomes among a Cohort of Hospitalized Adults Identified through the U.S. Coronavirus Disease 2019 (COVID-19)-Associated Hospitalization Surveillance Network (COVID-NET)\n",
            "Interim Analysis of Risk Factors for Severe Outcomes among a Cohort of Hospitalized Adults Identified through the U.S. Coronavirus Disease 2019 (COVID-19)-Associated Hospitalization Surveillance Network (COVID-NET)\n"
          ],
          "name": "stdout"
        }
      ]
    },
    {
      "cell_type": "markdown",
      "metadata": {
        "id": "T5noABGY24UI"
      },
      "source": [
        "**Apparently we have all abstracts in the original data, just some titles are not found somehow**"
      ]
    },
    {
      "cell_type": "markdown",
      "metadata": {
        "id": "zOOXZOZns1_t"
      },
      "source": [
        "\n",
        "\n",
        "> Since the first article wasn't found, and the second one had duplicates, we begin with the third article:\n",
        "\n",
        "\n"
      ]
    },
    {
      "cell_type": "code",
      "metadata": {
        "id": "O3bVz6GAzrRe",
        "colab": {
          "base_uri": "https://localhost:8080/",
          "height": 88
        },
        "outputId": "038782f9-518d-4df7-bbea-6c3cba63097d"
      },
      "source": [
        "similars2 = d2v_model.docvecs.most_similar(positive=[d2v_target[0]], topn=2)\n",
        "print(similars2)"
      ],
      "execution_count": null,
      "outputs": [
        {
          "output_type": "stream",
          "text": [
            "[(6457, 0.9717298150062561), (9544, 0.8475455045700073)]\n"
          ],
          "name": "stdout"
        },
        {
          "output_type": "stream",
          "text": [
            "/usr/local/lib/python3.6/dist-packages/gensim/matutils.py:737: FutureWarning: Conversion of the second argument of issubdtype from `int` to `np.signedinteger` is deprecated. In future, it will be treated as `np.int64 == np.dtype(int).type`.\n",
            "  if np.issubdtype(vec.dtype, np.int):\n"
          ],
          "name": "stderr"
        }
      ]
    },
    {
      "cell_type": "code",
      "metadata": {
        "id": "AYfnNC0F3Mf6",
        "colab": {
          "base_uri": "https://localhost:8080/",
          "height": 71
        },
        "outputId": "0c0c38da-9ef1-403e-9a28-e39f7a6fb786"
      },
      "source": [
        "print(target_df.title[0])\n",
        "print(smoke_.title[9544])"
      ],
      "execution_count": null,
      "outputs": [
        {
          "output_type": "stream",
          "text": [
            "Interim Analysis of Risk Factors for Severe Outcomes among a Cohort of Hospitalized Adults Identified through the U.S. Coronavirus Disease 2019 (COVID-19)-Associated Hospitalization Surveillance Network (COVID-NET)\n",
            "Early estimation of the risk factors for hospitalisation and mortality by COVID-19 in Mexico\n"
          ],
          "name": "stdout"
        }
      ]
    },
    {
      "cell_type": "code",
      "metadata": {
        "id": "hqJNSQzJ3ZcV"
      },
      "source": [
        "# Run the similarity test for all found articles:\n",
        "# FOR ALL TARGET ARTICLES!\n",
        "# All ABSTRACTS FOUND\n",
        "\"\"\"similar_passed = []\n",
        "similar_failed = []\n",
        "for i in range(len(index_abstract_found)):\n",
        "   target_i = index_abstract_found[i][0]\n",
        "   sim_test = d2v_model.docvecs.most_similar(positive=[d2v_target[target_i]], topn=2)\n",
        "   if sim_test[0][0] == index_abstract_found[i][1]:\n",
        "     similar_passed.append([index_abstract_found[i][0], sim_test[0][0], sim_test[0][1], sim_test[1][0], sim_test[1][1]])\n",
        "   else:\n",
        "     similar_failed.append([index_abstract_found[i], sim_test])\"\"\""
      ],
      "execution_count": null,
      "outputs": []
    },
    {
      "cell_type": "markdown",
      "metadata": {
        "id": "b0Px-rBl6jTP"
      },
      "source": [
        "### continue with found abstract similarsss"
      ]
    },
    {
      "cell_type": "code",
      "metadata": {
        "id": "6Y0TU8PY_PR7",
        "colab": {
          "base_uri": "https://localhost:8080/",
          "height": 71
        },
        "outputId": "36ce6dcd-a7fc-44e8-c45c-aba8144df396"
      },
      "source": [
        "# Run the similarity test for all found articles:\n",
        "target_similar = []\n",
        "for i in range(len(index_abstract_found)):\n",
        "   target_i = index_abstract_found[i][0]\n",
        "   sim_test = d2v_model.docvecs.most_similar(positive=[d2v_target[target_i]], topn=2)\n",
        "   if sim_test[0][0] == index_abstract_found[i][1]:\n",
        "     # preparing the list to include all info\n",
        "     target_similar.append([target_i, target_df.title[target_i], smoke_target[target_i], \n",
        "                            sim_test[0][0], sim_test[0][1], smoke_.title[sim_test[0][0]], smoke_data[sim_test[0][0]],\n",
        "                            sim_test[1][0], sim_test[1][1], smoke_.title[sim_test[1][0]], smoke_data[sim_test[1][0]]])"
      ],
      "execution_count": null,
      "outputs": [
        {
          "output_type": "stream",
          "text": [
            "/usr/local/lib/python3.6/dist-packages/gensim/matutils.py:737: FutureWarning: Conversion of the second argument of issubdtype from `int` to `np.signedinteger` is deprecated. In future, it will be treated as `np.int64 == np.dtype(int).type`.\n",
            "  if np.issubdtype(vec.dtype, np.int):\n"
          ],
          "name": "stderr"
        }
      ]
    },
    {
      "cell_type": "code",
      "metadata": {
        "id": "C4JiGuiw83wY",
        "colab": {
          "base_uri": "https://localhost:8080/",
          "height": 224
        },
        "outputId": "00ba5ad7-a775-466f-f67c-0b8b52dac562"
      },
      "source": [
        "target_similar[0]"
      ],
      "execution_count": null,
      "outputs": [
        {
          "output_type": "execute_result",
          "data": {
            "text/plain": [
              "[0,\n",
              " 'Interim Analysis of Risk Factors for Severe Outcomes among a Cohort of Hospitalized Adults Identified through the U.S. Coronavirus Disease 2019 (COVID-19)-Associated Hospitalization Surveillance Network (COVID-NET)',\n",
              " 'unit state grea death global factor outcom adult aliz design cohort studi identifi at aliz surveil network set al counti state aliz laboratori confirm march ement ag sex race ethnic underli medic condit nineti percent underli condit requir intens unit icu admiss invas mechan ventil vasopressor di aliz independ factor at icu admiss ag year versu year adjust ratio arr respect male sex arr obes arr immunosuppress arr diabet arr independ factor at mortal ag year versu year arr respect male sex arr immunosuppress arr renal arr chronic lung arr cardiovascular arr neurolog disord arr diabet arr race ethnic at icu admiss death limit limit discharg di complet chart abstract aliz access medic record exclud conclus mortal markedli ing ag help character person est at outcom defin target group prevent stgi',\n",
              " 3786,\n",
              " 0.9781542420387268,\n",
              " 'Interim Analysis of Risk Factors for Severe Outcomes among a Cohort of Hospitalized Adults Identified through the U.S. Coronavirus Disease 2019 (COVID-19)-Associated Hospitalization Surveillance Network (COVID-NET)',\n",
              " 'unit state grea death global factor outcom adult aliz design cohort studi identifi at aliz surveil network set al counti state aliz laboratori confirm march ement ag sex race ethnic underli medic condit nineti percent underli condit requir intens unit icu admiss invas mechan ventil vasopressor di aliz independ factor at icu admiss ag year versu year adjust ratio arr respect male sex arr obes arr immunosuppress arr diabet arr independ factor at mortal ag year versu year arr respect male sex arr immunosuppress arr renal arr chronic lung arr cardiovascular arr neurolog disord arr diabet arr race ethnic at icu admiss death limit limit discharg di complet chart abstract aliz access medic record exclud conclus mortal markedli ing ag help character person est at outcom defin target group prevent stgi',\n",
              " 19596,\n",
              " 0.8870705366134644,\n",
              " 'Low testosterone levels predict clinical adverse outcomes in SARS-CoV-2 pneumonia patients',\n",
              " 'new respiratori syndrom stress iv diagnost prognost biomark worsen mortal iolog show ential impact ion women men suggest potenti role osteron determin gender dispar outcom estim ation level outcom defin condit requir transfer lower intens death cohort admit respiratori intens unit ricu materi consecut seri male affect pneumonia reer respiratori intens unit ricu carlo poma mantua analyz biochem factor blood count leucocyt formula reactiv protein crp procalcitonin pct lactic dehydrogenas ldh ferritin dimer fibrinogen interleukin total osteron calcul free cft sex hormon bind globulin shbg lutein hormon determin lower cft transfer icu deceas ricu group group transfer maintain ricu stabl condit cft show neg signific correl biochem factor neutrophil count ldh pct posit ation lymphocyt count likewis neg at crp ferritin level steep icu transfer mortal observ men nmol cft pmol discuss conclus studi demonst lower line level cft level predict poor prognosi mortal men admit ricu']"
            ]
          },
          "metadata": {
            "tags": []
          },
          "execution_count": 42
        }
      ]
    },
    {
      "cell_type": "code",
      "metadata": {
        "id": "egoHxWDBsEfH",
        "colab": {
          "base_uri": "https://localhost:8080/",
          "height": 1000
        },
        "outputId": "ee42df57-8b3c-4379-aa88-1bfeec02a23e"
      },
      "source": [
        "df_colum = ['Target_index', 'Target_title', 'Target_abstract', \n",
        "            'Most_sim_index', 'Most_sim_percnt', 'Most_sim_title', 'Most_sim_abstract', \n",
        "            '2_most_sim_index', '2_most_sim_percnt','2_most_sim_title', '2_most_sim_abstract']\n",
        "target_similar_df = pd.DataFrame(target_similar, index=range(len(target_similar)), columns=df_colum)\n",
        "target_similar_df"
      ],
      "execution_count": null,
      "outputs": [
        {
          "output_type": "execute_result",
          "data": {
            "text/html": [
              "<div>\n",
              "<style scoped>\n",
              "    .dataframe tbody tr th:only-of-type {\n",
              "        vertical-align: middle;\n",
              "    }\n",
              "\n",
              "    .dataframe tbody tr th {\n",
              "        vertical-align: top;\n",
              "    }\n",
              "\n",
              "    .dataframe thead th {\n",
              "        text-align: right;\n",
              "    }\n",
              "</style>\n",
              "<table border=\"1\" class=\"dataframe\">\n",
              "  <thead>\n",
              "    <tr style=\"text-align: right;\">\n",
              "      <th></th>\n",
              "      <th>Target_index</th>\n",
              "      <th>Target_title</th>\n",
              "      <th>Target_abstract</th>\n",
              "      <th>Most_sim_index</th>\n",
              "      <th>Most_sim_percnt</th>\n",
              "      <th>Most_sim_title</th>\n",
              "      <th>Most_sim_abstract</th>\n",
              "      <th>2_most_sim_index</th>\n",
              "      <th>2_most_sim_percnt</th>\n",
              "      <th>2_most_sim_title</th>\n",
              "      <th>2_most_sim_abstract</th>\n",
              "    </tr>\n",
              "  </thead>\n",
              "  <tbody>\n",
              "    <tr>\n",
              "      <th>0</th>\n",
              "      <td>0</td>\n",
              "      <td>Interim Analysis of Risk Factors for Severe Ou...</td>\n",
              "      <td>unit state grea death global factor outcom adu...</td>\n",
              "      <td>3786</td>\n",
              "      <td>0.978154</td>\n",
              "      <td>Interim Analysis of Risk Factors for Severe Ou...</td>\n",
              "      <td>unit state grea death global factor outcom adu...</td>\n",
              "      <td>19596</td>\n",
              "      <td>0.887071</td>\n",
              "      <td>Low testosterone levels predict clinical adver...</td>\n",
              "      <td>new respiratori syndrom stress iv diagnost pro...</td>\n",
              "    </tr>\n",
              "    <tr>\n",
              "      <th>1</th>\n",
              "      <td>1</td>\n",
              "      <td>Predictors of mortality in hospitalized COVID-...</td>\n",
              "      <td>mortal continu rise world inform predictor mor...</td>\n",
              "      <td>710</td>\n",
              "      <td>0.985562</td>\n",
              "      <td>Predictors of mortality in hospitalized COVID-...</td>\n",
              "      <td>mortal continu rise world inform predictor mor...</td>\n",
              "      <td>1329</td>\n",
              "      <td>0.862497</td>\n",
              "      <td>Clinical and laboratory findings from patients...</td>\n",
              "      <td>decemb experienc novel contin aim consid chara...</td>\n",
              "    </tr>\n",
              "    <tr>\n",
              "      <th>2</th>\n",
              "      <td>2</td>\n",
              "      <td>Factors Associated With Intubation and Prolong...</td>\n",
              "      <td>identifi factor at intub extub aliz studi desi...</td>\n",
              "      <td>10829</td>\n",
              "      <td>0.992443</td>\n",
              "      <td>Factors Associated With Intubation and Prolong...</td>\n",
              "      <td>identifi factor at intub extub aliz studi desi...</td>\n",
              "      <td>15244</td>\n",
              "      <td>0.837286</td>\n",
              "      <td>Association of Obesity with Disease Severity a...</td>\n",
              "      <td>explor potenti ation obes chronic outcom inten...</td>\n",
              "    </tr>\n",
              "    <tr>\n",
              "      <th>3</th>\n",
              "      <td>3</td>\n",
              "      <td>Risk factors for adverse clinical outcomes in ...</td>\n",
              "      <td>alli heterogen vari iti prognosi characterist ...</td>\n",
              "      <td>3305</td>\n",
              "      <td>0.991325</td>\n",
              "      <td>Risk factors for adverse clinical outcomes in ...</td>\n",
              "      <td>alli heterogen vari iti prognosi characterist ...</td>\n",
              "      <td>11896</td>\n",
              "      <td>0.821423</td>\n",
              "      <td>The impact of 2019 novel coronavirus on heart ...</td>\n",
              "      <td>evid cardiac injuri inconsist aim summar avail...</td>\n",
              "    </tr>\n",
              "    <tr>\n",
              "      <th>4</th>\n",
              "      <td>4</td>\n",
              "      <td>Severe obesity is associated with higher in-ho...</td>\n",
              "      <td>new york epicent underrepres minor preval obes...</td>\n",
              "      <td>13033</td>\n",
              "      <td>0.987122</td>\n",
              "      <td>Severe obesity is associated with higher in-ho...</td>\n",
              "      <td>new york epicent underrepres minor preval obes...</td>\n",
              "      <td>6106</td>\n",
              "      <td>0.923005</td>\n",
              "      <td>Severe obesity is associated with higher in-ho...</td>\n",
              "      <td>new york epicent underrepres minor preval obes...</td>\n",
              "    </tr>\n",
              "    <tr>\n",
              "      <th>5</th>\n",
              "      <td>5</td>\n",
              "      <td>Clinical Characteristics, Risk Factors and Out...</td>\n",
              "      <td>kuwait prior countri mass screen incom travel ...</td>\n",
              "      <td>3029</td>\n",
              "      <td>0.988544</td>\n",
              "      <td>Clinical Characteristics, Risk Factors and Out...</td>\n",
              "      <td>kuwait prior countri mass screen incom travel ...</td>\n",
              "      <td>14414</td>\n",
              "      <td>0.792233</td>\n",
              "      <td>COVID-19 Testing, Epidemic Features, Hospital ...</td>\n",
              "      <td>unit states’ grown extens februari substanti a...</td>\n",
              "    </tr>\n",
              "    <tr>\n",
              "      <th>6</th>\n",
              "      <td>6</td>\n",
              "      <td>Early estimation of the risk factors for hospi...</td>\n",
              "      <td>preval chronic non degen suspect mexico fatal ...</td>\n",
              "      <td>6335</td>\n",
              "      <td>0.975533</td>\n",
              "      <td>Early estimation of the risk factors for hospi...</td>\n",
              "      <td>preval chronic non degen suspect mexico fatal ...</td>\n",
              "      <td>4584</td>\n",
              "      <td>0.852167</td>\n",
              "      <td>Covid-19 by Race and Ethnicity: A National Coh...</td>\n",
              "      <td>grow concern racial ethnic minor commun world ...</td>\n",
              "    </tr>\n",
              "    <tr>\n",
              "      <th>7</th>\n",
              "      <td>7</td>\n",
              "      <td>Smoking Prevalence is Low in Symptomatic Patie...</td>\n",
              "      <td>littl inform role activ smoke predispos ion re...</td>\n",
              "      <td>4122</td>\n",
              "      <td>0.976501</td>\n",
              "      <td>Smoking Prevalence is Low in Symptomatic Patie...</td>\n",
              "      <td>littl inform role activ smoke predispos ion re...</td>\n",
              "      <td>7985</td>\n",
              "      <td>0.854642</td>\n",
              "      <td>Systematic review of the prevalence of current...</td>\n",
              "      <td>smoke corona unknown purpos studi systemat exa...</td>\n",
              "    </tr>\n",
              "    <tr>\n",
              "      <th>8</th>\n",
              "      <td>8</td>\n",
              "      <td>OpenSAFELY: factors associated with COVID-19-r...</td>\n",
              "      <td>establish novel rapidli aris death requir new ...</td>\n",
              "      <td>2665</td>\n",
              "      <td>0.994789</td>\n",
              "      <td>OpenSAFELY: factors associated with COVID-19-r...</td>\n",
              "      <td>establish novel rapidli aris death requir new ...</td>\n",
              "      <td>11050</td>\n",
              "      <td>0.803210</td>\n",
              "      <td>Estimating excess 1-year mortality associated ...</td>\n",
              "      <td>medic societ econom impact unknown overal popu...</td>\n",
              "    </tr>\n",
              "    <tr>\n",
              "      <th>9</th>\n",
              "      <td>9</td>\n",
              "      <td>30-day mortality in patients hospitalized with...</td>\n",
              "      <td>itali european countri hit est record death eu...</td>\n",
              "      <td>2207</td>\n",
              "      <td>0.991813</td>\n",
              "      <td>30-day mortality in patients hospitalized with...</td>\n",
              "      <td>itali european countri hit est record death eu...</td>\n",
              "      <td>9490</td>\n",
              "      <td>0.855972</td>\n",
              "      <td>Coronavirus Disease-2019 in Heart Transplant R...</td>\n",
              "      <td>identifi wuhan decemb risen exponenti characte...</td>\n",
              "    </tr>\n",
              "    <tr>\n",
              "      <th>10</th>\n",
              "      <td>10</td>\n",
              "      <td>Risk Factors of the Severity of COVID-19: A Me...</td>\n",
              "      <td>ion get die brutal state indic factor possibl ...</td>\n",
              "      <td>4229</td>\n",
              "      <td>0.974192</td>\n",
              "      <td>Risk Factors of the Severity of COVID-19: A Me...</td>\n",
              "      <td>ion get die brutal state indic factor possibl ...</td>\n",
              "      <td>4219</td>\n",
              "      <td>0.852442</td>\n",
              "      <td>The relationship of COVID-19 severity with car...</td>\n",
              "      <td>cardiovascular cvd tradit factor predict uncer...</td>\n",
              "    </tr>\n",
              "    <tr>\n",
              "      <th>11</th>\n",
              "      <td>11</td>\n",
              "      <td>Analysis of hospitalized COVID-19 patients in ...</td>\n",
              "      <td>novel threat human worldwid urgent need unders...</td>\n",
              "      <td>5500</td>\n",
              "      <td>0.978309</td>\n",
              "      <td>Analysis of hospitalized COVID-19 patients in ...</td>\n",
              "      <td>novel threat human worldwid urgent need unders...</td>\n",
              "      <td>6164</td>\n",
              "      <td>0.888890</td>\n",
              "      <td>Risk factors for clinical progression in patie...</td>\n",
              "      <td>novel present signific threat global better un...</td>\n",
              "    </tr>\n",
              "    <tr>\n",
              "      <th>12</th>\n",
              "      <td>12</td>\n",
              "      <td>Cardiovascular Disease, Drug Therapy, and Mort...</td>\n",
              "      <td>disproportion affect peopl cardiovascular conc...</td>\n",
              "      <td>9584</td>\n",
              "      <td>0.989534</td>\n",
              "      <td>Cardiovascular Disease, Drug Therapy, and Mort...</td>\n",
              "      <td>disproportion affect peopl cardiovascular conc...</td>\n",
              "      <td>5200</td>\n",
              "      <td>0.849339</td>\n",
              "      <td>A systematic review to evaluate the clinical o...</td>\n",
              "      <td>introduct angiotensin convert enzym inhibitor ...</td>\n",
              "    </tr>\n",
              "    <tr>\n",
              "      <th>13</th>\n",
              "      <td>13</td>\n",
              "      <td>Role of Drugs Affecting the Renin-Angiotensin-...</td>\n",
              "      <td>medic editori suggest angiotensin convert enzy...</td>\n",
              "      <td>2450</td>\n",
              "      <td>0.982265</td>\n",
              "      <td>Role of Drugs Affecting the Renin-Angiotensin-...</td>\n",
              "      <td>medic editori suggest angiotensin convert enzy...</td>\n",
              "      <td>15947</td>\n",
              "      <td>0.905227</td>\n",
              "      <td>COVID-19 in diabetic patients: related risks a...</td>\n",
              "      <td>abstract diabet frequent comorbid accord diabe...</td>\n",
              "    </tr>\n",
              "    <tr>\n",
              "      <th>14</th>\n",
              "      <td>14</td>\n",
              "      <td>Risk factors of critical &amp; mortal COVID-19 cas...</td>\n",
              "      <td>began decemb trigger public enci intern concer...</td>\n",
              "      <td>3830</td>\n",
              "      <td>0.973319</td>\n",
              "      <td>Risk factors of critical &amp; mortal COVID-19 cas...</td>\n",
              "      <td>began decemb trigger public enci intern concer...</td>\n",
              "      <td>5675</td>\n",
              "      <td>0.852291</td>\n",
              "      <td>The Effects of \"Fangcang, Huoshenshan, and Lei...</td>\n",
              "      <td>decemb novel broke wuhan factor affect mortal ...</td>\n",
              "    </tr>\n",
              "    <tr>\n",
              "      <th>15</th>\n",
              "      <td>15</td>\n",
              "      <td>Smoking is Associated with COVID-19 Progressio...</td>\n",
              "      <td>determin ation smoke progress design meta anal...</td>\n",
              "      <td>4323</td>\n",
              "      <td>0.977449</td>\n",
              "      <td>Smoking is Associated with COVID-19 Progressio...</td>\n",
              "      <td>determin ation smoke progress design meta anal...</td>\n",
              "      <td>11848</td>\n",
              "      <td>0.935772</td>\n",
              "      <td>Smoking Is Associated With COVID-19 Progressio...</td>\n",
              "      <td>introduct smoke depress pulmonari immun functi...</td>\n",
              "    </tr>\n",
              "    <tr>\n",
              "      <th>16</th>\n",
              "      <td>16</td>\n",
              "      <td>Neutrophil-to-lymphocyte ratio as an independe...</td>\n",
              "      <td>describ characterist novel pneumonia indic ten...</td>\n",
              "      <td>9427</td>\n",
              "      <td>0.984713</td>\n",
              "      <td>Neutrophil-to-lymphocyte ratio as an independe...</td>\n",
              "      <td>describ characterist novel pneumonia indic ten...</td>\n",
              "      <td>700</td>\n",
              "      <td>0.865989</td>\n",
              "      <td>[An increased neutrophil/lymphocyte ratio is a...</td>\n",
              "      <td>identifi biomark earli warn signal retrospect ...</td>\n",
              "    </tr>\n",
              "    <tr>\n",
              "      <th>17</th>\n",
              "      <td>17</td>\n",
              "      <td>Prediction for Progression Risk in Patients wi...</td>\n",
              "      <td>aim clarifi factor multivari analysi establish...</td>\n",
              "      <td>6907</td>\n",
              "      <td>0.987232</td>\n",
              "      <td>Prediction for Progression Risk in Patients wi...</td>\n",
              "      <td>aim clarifi factor multivari analysi establish...</td>\n",
              "      <td>7505</td>\n",
              "      <td>0.884101</td>\n",
              "      <td>[An increased neutrophil/lymphocyte ratio is a...</td>\n",
              "      <td>identifi biomark earli warn signal retrospect ...</td>\n",
              "    </tr>\n",
              "    <tr>\n",
              "      <th>18</th>\n",
              "      <td>18</td>\n",
              "      <td>The clinical characteristics of COVID-19: a re...</td>\n",
              "      <td>ongo global threat identif marker onset progre...</td>\n",
              "      <td>6312</td>\n",
              "      <td>0.962118</td>\n",
              "      <td>The clinical characteristics of COVID-19: a re...</td>\n",
              "      <td>ongo global threat identif marker onset progre...</td>\n",
              "      <td>5844</td>\n",
              "      <td>0.844253</td>\n",
              "      <td>Radiographic Findings and other Predictors in ...</td>\n",
              "      <td>march confirm death worldwid older ag elev dim...</td>\n",
              "    </tr>\n",
              "    <tr>\n",
              "      <th>19</th>\n",
              "      <td>19</td>\n",
              "      <td>The relationship of COVID-19 severity with car...</td>\n",
              "      <td>cardiovascular cvd tradit factor predict uncer...</td>\n",
              "      <td>4219</td>\n",
              "      <td>0.985585</td>\n",
              "      <td>The relationship of COVID-19 severity with car...</td>\n",
              "      <td>cardiovascular cvd tradit factor predict uncer...</td>\n",
              "      <td>3735</td>\n",
              "      <td>0.892871</td>\n",
              "      <td>Diabetes is associated with increased risk for...</td>\n",
              "      <td>iou frequent at wors outcom diabet aim systema...</td>\n",
              "    </tr>\n",
              "    <tr>\n",
              "      <th>20</th>\n",
              "      <td>20</td>\n",
              "      <td>Risk factors for severe corona virus disease 2...</td>\n",
              "      <td>ing ion global resourc defici present specif m...</td>\n",
              "      <td>6237</td>\n",
              "      <td>0.965402</td>\n",
              "      <td>Risk factors for severe corona virus disease 2...</td>\n",
              "      <td>ing ion global resourc defici present specif m...</td>\n",
              "      <td>8909</td>\n",
              "      <td>0.833871</td>\n",
              "      <td>Clinical Characteristics and Outcomes of Patie...</td>\n",
              "      <td>diabet distinct comorbid characterist outcom d...</td>\n",
              "    </tr>\n",
              "    <tr>\n",
              "      <th>21</th>\n",
              "      <td>21</td>\n",
              "      <td>Development and external validation of a progn...</td>\n",
              "      <td>rapidli abil stratifi vulner vital routin iti ...</td>\n",
              "      <td>2973</td>\n",
              "      <td>0.985546</td>\n",
              "      <td>Development and external validation of a progn...</td>\n",
              "      <td>rapidli abil stratifi vulner vital routin iti ...</td>\n",
              "      <td>11158</td>\n",
              "      <td>0.894566</td>\n",
              "      <td>Clinical decision support tool and rapid point...</td>\n",
              "      <td>reach level ing signific morbid mortal affect ...</td>\n",
              "    </tr>\n",
              "    <tr>\n",
              "      <th>22</th>\n",
              "      <td>23</td>\n",
              "      <td>Prevalence, Severity and Mortality associated ...</td>\n",
              "      <td>evolv iou dramat world earli summaris potenti ...</td>\n",
              "      <td>5454</td>\n",
              "      <td>0.970906</td>\n",
              "      <td>Prevalence, Severity and Mortality associated ...</td>\n",
              "      <td>evolv iou dramat world earli summaris potenti ...</td>\n",
              "      <td>9402</td>\n",
              "      <td>0.856057</td>\n",
              "      <td>The impact of COPD and smoking history on the ...</td>\n",
              "      <td>comorbid at iti meta analysi aim explor pre ex...</td>\n",
              "    </tr>\n",
              "    <tr>\n",
              "      <th>23</th>\n",
              "      <td>24</td>\n",
              "      <td>Characteristics of patients with COVID-19 duri...</td>\n",
              "      <td>dec thousand thousand death wuhan characterist...</td>\n",
              "      <td>4284</td>\n",
              "      <td>0.983221</td>\n",
              "      <td>Characteristics of patients with COVID-19 duri...</td>\n",
              "      <td>dec thousand thousand death wuhan characterist...</td>\n",
              "      <td>16801</td>\n",
              "      <td>0.854944</td>\n",
              "      <td>Clinical Characteristics and Reasons for Diffe...</td>\n",
              "      <td>studi aim identifi addit characterist featur a...</td>\n",
              "    </tr>\n",
              "    <tr>\n",
              "      <th>24</th>\n",
              "      <td>25</td>\n",
              "      <td>Prognostic value of C-reactive protein in pati...</td>\n",
              "      <td>elev serum reactiv protein crp level observ ou...</td>\n",
              "      <td>3751</td>\n",
              "      <td>0.982597</td>\n",
              "      <td>Prognostic value of C-reactive protein in pati...</td>\n",
              "      <td>elev serum reactiv protein crp level observ ou...</td>\n",
              "      <td>8722</td>\n",
              "      <td>0.906351</td>\n",
              "      <td>Prognostic value of interleukin-6, C-reactive ...</td>\n",
              "      <td>inflammatori respons plai critic role inflamma...</td>\n",
              "    </tr>\n",
              "    <tr>\n",
              "      <th>25</th>\n",
              "      <td>26</td>\n",
              "      <td>Host susceptibility to severe COVID-19 and est...</td>\n",
              "      <td>recent new zoonot coronari great threat public...</td>\n",
              "      <td>11415</td>\n",
              "      <td>0.970973</td>\n",
              "      <td>Host susceptibility to severe COVID-19 and est...</td>\n",
              "      <td>recent new zoonot coronari great threat public...</td>\n",
              "      <td>1384</td>\n",
              "      <td>0.817078</td>\n",
              "      <td>Hospitalization Rates and Characteristics of P...</td>\n",
              "      <td>novel detect decemb approxim million worldwid ...</td>\n",
              "    </tr>\n",
              "    <tr>\n",
              "      <th>26</th>\n",
              "      <td>27</td>\n",
              "      <td>Incidence, clinical characteristics and progno...</td>\n",
              "      <td>recent start wuhan featur previous factor at o...</td>\n",
              "      <td>5098</td>\n",
              "      <td>0.961971</td>\n",
              "      <td>Incidence, clinical characteristics and progno...</td>\n",
              "      <td>recent start wuhan featur previous factor at o...</td>\n",
              "      <td>3401</td>\n",
              "      <td>0.860343</td>\n",
              "      <td>Comorbidities, clinical signs and symptoms, la...</td>\n",
              "      <td>introduct decemb novel trigger world wide enor...</td>\n",
              "    </tr>\n",
              "    <tr>\n",
              "      <th>27</th>\n",
              "      <td>28</td>\n",
              "      <td>Influence factors of death risk among COVID-19...</td>\n",
              "      <td>trigger ion respiratori syndrom wide world aim...</td>\n",
              "      <td>4784</td>\n",
              "      <td>0.985729</td>\n",
              "      <td>Influence factors of death risk among COVID-19...</td>\n",
              "      <td>trigger ion respiratori syndrom wide world aim...</td>\n",
              "      <td>4195</td>\n",
              "      <td>0.873037</td>\n",
              "      <td>Blood glucose is a representative of the clust...</td>\n",
              "      <td>mild mode progress rapidli critic condit ing m...</td>\n",
              "    </tr>\n",
              "    <tr>\n",
              "      <th>28</th>\n",
              "      <td>29</td>\n",
              "      <td>Clinical course and risk factors for mortality...</td>\n",
              "      <td>decemb wuhan experienc respiratori syndrom iol...</td>\n",
              "      <td>14125</td>\n",
              "      <td>0.988314</td>\n",
              "      <td>Clinical course and risk factors for mortality...</td>\n",
              "      <td>decemb wuhan experienc respiratori syndrom iol...</td>\n",
              "      <td>2361</td>\n",
              "      <td>0.819278</td>\n",
              "      <td>Clinical features and progression of acute res...</td>\n",
              "      <td>respiratori syndrom cluster characterist respi...</td>\n",
              "    </tr>\n",
              "    <tr>\n",
              "      <th>29</th>\n",
              "      <td>30</td>\n",
              "      <td>Clinical Characteristics of Patients with Seve...</td>\n",
              "      <td>abstract new broke wuhan hubei later name nove...</td>\n",
              "      <td>17843</td>\n",
              "      <td>0.990309</td>\n",
              "      <td>Clinical Characteristics of Patients with Seve...</td>\n",
              "      <td>abstract new broke wuhan hubei later name nove...</td>\n",
              "      <td>4269</td>\n",
              "      <td>0.878545</td>\n",
              "      <td>Clinical characteristics of imported and secon...</td>\n",
              "      <td>mortal region larg focus gener studi aim clari...</td>\n",
              "    </tr>\n",
              "    <tr>\n",
              "      <th>30</th>\n",
              "      <td>31</td>\n",
              "      <td>Clinical Characteristics of Coronavirus Diseas...</td>\n",
              "      <td>decemb wuhan citi rapidli need characterist af...</td>\n",
              "      <td>12761</td>\n",
              "      <td>0.981144</td>\n",
              "      <td>Clinical Characteristics of Coronavirus Diseas...</td>\n",
              "      <td>decemb wuhan citi rapidli need characterist af...</td>\n",
              "      <td>19902</td>\n",
              "      <td>0.874878</td>\n",
              "      <td>Clinical Characteristics of 138 Hospitalized P...</td>\n",
              "      <td>decemb novel pneumonia ncip occur wuhan rapidl...</td>\n",
              "    </tr>\n",
              "    <tr>\n",
              "      <th>31</th>\n",
              "      <td>32</td>\n",
              "      <td>Clinical characteristics of 2019 novel coronav...</td>\n",
              "      <td>decemb respiratori ard novel wuhan citi rapidl...</td>\n",
              "      <td>17851</td>\n",
              "      <td>0.984167</td>\n",
              "      <td>Clinical characteristics of 2019 novel coronav...</td>\n",
              "      <td>decemb respiratori ard novel wuhan citi rapidl...</td>\n",
              "      <td>18162</td>\n",
              "      <td>0.855206</td>\n",
              "      <td>Clinical findings in critical ill patients inf...</td>\n",
              "      <td>abstract decemb human ion novel known identifi...</td>\n",
              "    </tr>\n",
              "  </tbody>\n",
              "</table>\n",
              "</div>"
            ],
            "text/plain": [
              "    Target_index  ...                                2_most_sim_abstract\n",
              "0              0  ...  new respiratori syndrom stress iv diagnost pro...\n",
              "1              1  ...  decemb experienc novel contin aim consid chara...\n",
              "2              2  ...  explor potenti ation obes chronic outcom inten...\n",
              "3              3  ...  evid cardiac injuri inconsist aim summar avail...\n",
              "4              4  ...  new york epicent underrepres minor preval obes...\n",
              "5              5  ...  unit states’ grown extens februari substanti a...\n",
              "6              6  ...  grow concern racial ethnic minor commun world ...\n",
              "7              7  ...  smoke corona unknown purpos studi systemat exa...\n",
              "8              8  ...  medic societ econom impact unknown overal popu...\n",
              "9              9  ...  identifi wuhan decemb risen exponenti characte...\n",
              "10            10  ...  cardiovascular cvd tradit factor predict uncer...\n",
              "11            11  ...  novel present signific threat global better un...\n",
              "12            12  ...  introduct angiotensin convert enzym inhibitor ...\n",
              "13            13  ...  abstract diabet frequent comorbid accord diabe...\n",
              "14            14  ...  decemb novel broke wuhan factor affect mortal ...\n",
              "15            15  ...  introduct smoke depress pulmonari immun functi...\n",
              "16            16  ...  identifi biomark earli warn signal retrospect ...\n",
              "17            17  ...  identifi biomark earli warn signal retrospect ...\n",
              "18            18  ...  march confirm death worldwid older ag elev dim...\n",
              "19            19  ...  iou frequent at wors outcom diabet aim systema...\n",
              "20            20  ...  diabet distinct comorbid characterist outcom d...\n",
              "21            21  ...  reach level ing signific morbid mortal affect ...\n",
              "22            23  ...  comorbid at iti meta analysi aim explor pre ex...\n",
              "23            24  ...  studi aim identifi addit characterist featur a...\n",
              "24            25  ...  inflammatori respons plai critic role inflamma...\n",
              "25            26  ...  novel detect decemb approxim million worldwid ...\n",
              "26            27  ...  introduct decemb novel trigger world wide enor...\n",
              "27            28  ...  mild mode progress rapidli critic condit ing m...\n",
              "28            29  ...  respiratori syndrom cluster characterist respi...\n",
              "29            30  ...  mortal region larg focus gener studi aim clari...\n",
              "30            31  ...  decemb novel pneumonia ncip occur wuhan rapidl...\n",
              "31            32  ...  abstract decemb human ion novel known identifi...\n",
              "\n",
              "[32 rows x 11 columns]"
            ]
          },
          "metadata": {
            "tags": []
          },
          "execution_count": 43
        }
      ]
    },
    {
      "cell_type": "code",
      "metadata": {
        "id": "BNMfBqql3Fmg"
      },
      "source": [
        ""
      ],
      "execution_count": null,
      "outputs": []
    }
  ]
}