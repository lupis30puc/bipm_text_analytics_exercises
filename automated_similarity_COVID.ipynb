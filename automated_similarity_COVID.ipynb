{
  "nbformat": 4,
  "nbformat_minor": 0,
  "metadata": {
    "colab": {
      "name": "automated_similarity_COVID.ipynb",
      "provenance": [],
      "authorship_tag": "ABX9TyOJdJxA4NMwlutE4sMBy4lv",
      "include_colab_link": true
    },
    "kernelspec": {
      "name": "python3",
      "display_name": "Python 3"
    }
  },
  "cells": [
    {
      "cell_type": "markdown",
      "metadata": {
        "id": "view-in-github",
        "colab_type": "text"
      },
      "source": [
        "<a href=\"https://colab.research.google.com/github/lupis30puc/bipm_text_analytics_exercises/blob/main/automated_similarity_COVID.ipynb\" target=\"_parent\"><img src=\"https://colab.research.google.com/assets/colab-badge.svg\" alt=\"Open In Colab\"/></a>"
      ]
    },
    {
      "cell_type": "code",
      "metadata": {
        "id": "I5WLKSWVo39Q",
        "colab": {
          "base_uri": "https://localhost:8080/",
          "height": 52
        },
        "outputId": "000f3d12-abe9-499e-f47e-a9007eb0b08c"
      },
      "source": [
        "\"\"\"import requests\n",
        "\n",
        "url = \"https://jamanetwork.com/journals/jamainternalmedicine/fullarticle/2766086\"\n",
        "page = requests.get(url, verify=False)\n",
        "print(page.text)\"\"\""
      ],
      "execution_count": null,
      "outputs": [
        {
          "output_type": "execute_result",
          "data": {
            "application/vnd.google.colaboratory.intrinsic": {
              "type": "string"
            },
            "text/plain": [
              "'import requests\\n\\nurl = \"https://jamanetwork.com/journals/jamainternalmedicine/fullarticle/2766086\"\\npage = requests.get(url, verify=False)\\nprint(page.text)'"
            ]
          },
          "metadata": {
            "tags": []
          },
          "execution_count": 4
        }
      ]
    },
    {
      "cell_type": "code",
      "metadata": {
        "id": "aoqC6JAjlUf2",
        "colab": {
          "base_uri": "https://localhost:8080/",
          "height": 69
        },
        "outputId": "2196cdd4-6238-4096-9c1f-a92de2e3f467"
      },
      "source": [
        "\"\"\"import requests\n",
        "try: \n",
        "  webpage = requests.get(\"https://jamanetwork.com/journals/jamainternalmedicine/fullarticle/2766086\")\n",
        "  print(webpage.text)\n",
        "except requests.exceptions.ConnectionError:\n",
        "    r.status_code = \"Connection refused\"\n",
        "    \"\"\""
      ],
      "execution_count": null,
      "outputs": [
        {
          "output_type": "execute_result",
          "data": {
            "application/vnd.google.colaboratory.intrinsic": {
              "type": "string"
            },
            "text/plain": [
              "'import requests\\ntry: \\n  webpage = requests.get(\"https://jamanetwork.com/journals/jamainternalmedicine/fullarticle/2766086\")\\n  print(webpage.text)\\nexcept requests.exceptions.ConnectionError:\\n    r.status_code = \"Connection refused\"\\n    '"
            ]
          },
          "metadata": {
            "tags": []
          },
          "execution_count": 5
        }
      ]
    },
    {
      "cell_type": "code",
      "metadata": {
        "id": "ETQ_SiD9OeoY"
      },
      "source": [
        "import pandas as pd\n",
        "import numpy as np\n",
        "import re\n",
        "import en_core_web_sm\n",
        "import csv\n",
        "import pickle\n",
        "from google.colab import files\n",
        "\n",
        "from gensim.parsing.preprocessing import STOPWORDS, strip_tags, strip_numeric, strip_punctuation, strip_multiple_whitespaces, remove_stopwords, strip_short, stem_text\n",
        "from nltk.corpus import stopwords\n",
        "\n",
        "from gensim.test.utils import common_texts, get_tmpfile\n",
        "from gensim.models.doc2vec import Doc2Vec, TaggedDocument\n",
        "from scipy.spatial.distance import cosine, cdist"
      ],
      "execution_count": null,
      "outputs": []
    },
    {
      "cell_type": "code",
      "metadata": {
        "id": "C6Ncr1nolaPY",
        "colab": {
          "base_uri": "https://localhost:8080/",
          "height": 357
        },
        "outputId": "871a7248-67c1-4def-b5cb-35f80f6d4f1f"
      },
      "source": [
        "meta = pickle.load(open('/content/meta_stemmed (1)', 'rb'))\n",
        "meta.head()"
      ],
      "execution_count": null,
      "outputs": [
        {
          "output_type": "execute_result",
          "data": {
            "text/html": [
              "<div>\n",
              "<style scoped>\n",
              "    .dataframe tbody tr th:only-of-type {\n",
              "        vertical-align: middle;\n",
              "    }\n",
              "\n",
              "    .dataframe tbody tr th {\n",
              "        vertical-align: top;\n",
              "    }\n",
              "\n",
              "    .dataframe thead th {\n",
              "        text-align: right;\n",
              "    }\n",
              "</style>\n",
              "<table border=\"1\" class=\"dataframe\">\n",
              "  <thead>\n",
              "    <tr style=\"text-align: right;\">\n",
              "      <th></th>\n",
              "      <th>level_0</th>\n",
              "      <th>publish_time</th>\n",
              "      <th>title</th>\n",
              "      <th>abstract</th>\n",
              "      <th>date</th>\n",
              "      <th>year</th>\n",
              "      <th>language</th>\n",
              "    </tr>\n",
              "  </thead>\n",
              "  <tbody>\n",
              "    <tr>\n",
              "      <th>0</th>\n",
              "      <td>4131</td>\n",
              "      <td>2020-01-09</td>\n",
              "      <td>Cocaine and amphetamine-regulated transcript p...</td>\n",
              "      <td>iolog cocain amphetamin gul transcript ppropep...</td>\n",
              "      <td>2020-01-09</td>\n",
              "      <td>2020</td>\n",
              "      <td>en</td>\n",
              "    </tr>\n",
              "    <tr>\n",
              "      <th>1</th>\n",
              "      <td>4195</td>\n",
              "      <td>2020-01-21</td>\n",
              "      <td>Pioneering Experience of Uniportal Video-Assis...</td>\n",
              "      <td>optim wai tat thorac scoliosi controvsi conven...</td>\n",
              "      <td>2020-01-21</td>\n",
              "      <td>2020</td>\n",
              "      <td>en</td>\n",
              "    </tr>\n",
              "    <tr>\n",
              "      <th>2</th>\n",
              "      <td>4310</td>\n",
              "      <td>2020-02-10</td>\n",
              "      <td>Epidemiological and clinical characteristics o...</td>\n",
              "      <td>sult surveil iolog charactist car hai eldli in...</td>\n",
              "      <td>2020-02-10</td>\n",
              "      <td>2020</td>\n",
              "      <td>en</td>\n",
              "    </tr>\n",
              "    <tr>\n",
              "      <th>3</th>\n",
              "      <td>4358</td>\n",
              "      <td>2020-02-07</td>\n",
              "      <td>Therapeutic strategies in an outbreak scenario...</td>\n",
              "      <td>origin psent spiratori curnt effort foc contai...</td>\n",
              "      <td>2020-02-07</td>\n",
              "      <td>2020</td>\n",
              "      <td>en</td>\n",
              "    </tr>\n",
              "    <tr>\n",
              "      <th>4</th>\n",
              "      <td>4485</td>\n",
              "      <td>2020-01-17</td>\n",
              "      <td>Single-Virus Tracking: From Imaging Methodolog...</td>\n",
              "      <td>im text un mechan assembl crucial pvent spad t...</td>\n",
              "      <td>2020-01-17</td>\n",
              "      <td>2020</td>\n",
              "      <td>en</td>\n",
              "    </tr>\n",
              "  </tbody>\n",
              "</table>\n",
              "</div>"
            ],
            "text/plain": [
              "   level_0 publish_time  ...  year language\n",
              "0     4131   2020-01-09  ...  2020       en\n",
              "1     4195   2020-01-21  ...  2020       en\n",
              "2     4310   2020-02-10  ...  2020       en\n",
              "3     4358   2020-02-07  ...  2020       en\n",
              "4     4485   2020-01-17  ...  2020       en\n",
              "\n",
              "[5 rows x 7 columns]"
            ]
          },
          "metadata": {
            "tags": []
          },
          "execution_count": 9
        }
      ]
    },
    {
      "cell_type": "code",
      "metadata": {
        "id": "BtcsZw2MOb7q",
        "colab": {
          "base_uri": "https://localhost:8080/",
          "height": 357
        },
        "outputId": "384494d3-2666-4c06-9f67-87e42b706423"
      },
      "source": [
        "# resenting the index to fix an issue...\n",
        "meta.reset_index(drop=True, inplace=True)\n",
        "meta.head()"
      ],
      "execution_count": null,
      "outputs": [
        {
          "output_type": "execute_result",
          "data": {
            "text/html": [
              "<div>\n",
              "<style scoped>\n",
              "    .dataframe tbody tr th:only-of-type {\n",
              "        vertical-align: middle;\n",
              "    }\n",
              "\n",
              "    .dataframe tbody tr th {\n",
              "        vertical-align: top;\n",
              "    }\n",
              "\n",
              "    .dataframe thead th {\n",
              "        text-align: right;\n",
              "    }\n",
              "</style>\n",
              "<table border=\"1\" class=\"dataframe\">\n",
              "  <thead>\n",
              "    <tr style=\"text-align: right;\">\n",
              "      <th></th>\n",
              "      <th>level_0</th>\n",
              "      <th>publish_time</th>\n",
              "      <th>title</th>\n",
              "      <th>abstract</th>\n",
              "      <th>date</th>\n",
              "      <th>year</th>\n",
              "      <th>language</th>\n",
              "    </tr>\n",
              "  </thead>\n",
              "  <tbody>\n",
              "    <tr>\n",
              "      <th>0</th>\n",
              "      <td>4131</td>\n",
              "      <td>2020-01-09</td>\n",
              "      <td>Cocaine and amphetamine-regulated transcript p...</td>\n",
              "      <td>iolog cocain amphetamin gul transcript ppropep...</td>\n",
              "      <td>2020-01-09</td>\n",
              "      <td>2020</td>\n",
              "      <td>en</td>\n",
              "    </tr>\n",
              "    <tr>\n",
              "      <th>1</th>\n",
              "      <td>4195</td>\n",
              "      <td>2020-01-21</td>\n",
              "      <td>Pioneering Experience of Uniportal Video-Assis...</td>\n",
              "      <td>optim wai tat thorac scoliosi controvsi conven...</td>\n",
              "      <td>2020-01-21</td>\n",
              "      <td>2020</td>\n",
              "      <td>en</td>\n",
              "    </tr>\n",
              "    <tr>\n",
              "      <th>2</th>\n",
              "      <td>4310</td>\n",
              "      <td>2020-02-10</td>\n",
              "      <td>Epidemiological and clinical characteristics o...</td>\n",
              "      <td>sult surveil iolog charactist car hai eldli in...</td>\n",
              "      <td>2020-02-10</td>\n",
              "      <td>2020</td>\n",
              "      <td>en</td>\n",
              "    </tr>\n",
              "    <tr>\n",
              "      <th>3</th>\n",
              "      <td>4358</td>\n",
              "      <td>2020-02-07</td>\n",
              "      <td>Therapeutic strategies in an outbreak scenario...</td>\n",
              "      <td>origin psent spiratori curnt effort foc contai...</td>\n",
              "      <td>2020-02-07</td>\n",
              "      <td>2020</td>\n",
              "      <td>en</td>\n",
              "    </tr>\n",
              "    <tr>\n",
              "      <th>4</th>\n",
              "      <td>4485</td>\n",
              "      <td>2020-01-17</td>\n",
              "      <td>Single-Virus Tracking: From Imaging Methodolog...</td>\n",
              "      <td>im text un mechan assembl crucial pvent spad t...</td>\n",
              "      <td>2020-01-17</td>\n",
              "      <td>2020</td>\n",
              "      <td>en</td>\n",
              "    </tr>\n",
              "  </tbody>\n",
              "</table>\n",
              "</div>"
            ],
            "text/plain": [
              "   level_0 publish_time  ...  year language\n",
              "0     4131   2020-01-09  ...  2020       en\n",
              "1     4195   2020-01-21  ...  2020       en\n",
              "2     4310   2020-02-10  ...  2020       en\n",
              "3     4358   2020-02-07  ...  2020       en\n",
              "4     4485   2020-01-17  ...  2020       en\n",
              "\n",
              "[5 rows x 7 columns]"
            ]
          },
          "metadata": {
            "tags": []
          },
          "execution_count": 10
        }
      ]
    },
    {
      "cell_type": "code",
      "metadata": {
        "id": "YoeGnkwxOpVj",
        "colab": {
          "base_uri": "https://localhost:8080/",
          "height": 289
        },
        "outputId": "642cd2cd-9e34-41de-8528-b91a9a5f4437"
      },
      "source": [
        "target_df= pickle.load(open('smoking_stemmed', 'rb'))\n",
        "target_df.head()"
      ],
      "execution_count": null,
      "outputs": [
        {
          "output_type": "execute_result",
          "data": {
            "text/html": [
              "<div>\n",
              "<style scoped>\n",
              "    .dataframe tbody tr th:only-of-type {\n",
              "        vertical-align: middle;\n",
              "    }\n",
              "\n",
              "    .dataframe tbody tr th {\n",
              "        vertical-align: top;\n",
              "    }\n",
              "\n",
              "    .dataframe thead th {\n",
              "        text-align: right;\n",
              "    }\n",
              "</style>\n",
              "<table border=\"1\" class=\"dataframe\">\n",
              "  <thead>\n",
              "    <tr style=\"text-align: right;\">\n",
              "      <th></th>\n",
              "      <th>Date</th>\n",
              "      <th>title</th>\n",
              "      <th>abstract</th>\n",
              "    </tr>\n",
              "  </thead>\n",
              "  <tbody>\n",
              "    <tr>\n",
              "      <th>0</th>\n",
              "      <td>2020-05-22</td>\n",
              "      <td>Interim Analysis of Risk Factors for Severe Ou...</td>\n",
              "      <td>port ga design surveil network set ca race eth...</td>\n",
              "    </tr>\n",
              "    <tr>\n",
              "      <th>1</th>\n",
              "      <td>2020-05-19</td>\n",
              "      <td>Factors Associated With Intubation and Prolong...</td>\n",
              "      <td>extub design trospect obsv set chico metropoli...</td>\n",
              "    </tr>\n",
              "    <tr>\n",
              "      <th>2</th>\n",
              "      <td>2020-05-19</td>\n",
              "      <td>Risk factors for adverse clinical outcomes in ...</td>\n",
              "      <td>hetogen vari prognosi charactist cours off gui...</td>\n",
              "    </tr>\n",
              "    <tr>\n",
              "      <th>3</th>\n",
              "      <td>2020-05-16</td>\n",
              "      <td>Severe obesity is associated with higher in-ho...</td>\n",
              "      <td>york curnt epicent undps minor pval obes appea...</td>\n",
              "    </tr>\n",
              "    <tr>\n",
              "      <th>4</th>\n",
              "      <td>2020-05-15</td>\n",
              "      <td>Clinical Characteristics, Risk Factors and Out...</td>\n",
              "      <td>kuwait prior port ri mass scen incom travel ri...</td>\n",
              "    </tr>\n",
              "  </tbody>\n",
              "</table>\n",
              "</div>"
            ],
            "text/plain": [
              "         Date  ...                                           abstract\n",
              "0  2020-05-22  ...  port ga design surveil network set ca race eth...\n",
              "1  2020-05-19  ...  extub design trospect obsv set chico metropoli...\n",
              "2  2020-05-19  ...  hetogen vari prognosi charactist cours off gui...\n",
              "3  2020-05-16  ...  york curnt epicent undps minor pval obes appea...\n",
              "4  2020-05-15  ...  kuwait prior port ri mass scen incom travel ri...\n",
              "\n",
              "[5 rows x 3 columns]"
            ]
          },
          "metadata": {
            "tags": []
          },
          "execution_count": 11
        }
      ]
    },
    {
      "cell_type": "code",
      "metadata": {
        "id": "s8la8QMYOzJl"
      },
      "source": [
        "model = pickle.load(open('/content/d2v_model_saved.pkl', 'rb'))\n",
        "d2v_target = pickle.load(open('/content/d2v_target.pkl', 'rb'))"
      ],
      "execution_count": null,
      "outputs": []
    },
    {
      "cell_type": "code",
      "metadata": {
        "id": "Oob7HU9-O_2d",
        "colab": {
          "base_uri": "https://localhost:8080/",
          "height": 88
        },
        "outputId": "ad0dcd70-6704-4935-f58b-7e42c426791d"
      },
      "source": [
        "similars = model.docvecs.most_similar(positive=[d2v_target[1]], topn=3)\n",
        "print(similars)"
      ],
      "execution_count": null,
      "outputs": [
        {
          "output_type": "stream",
          "text": [
            "[(10970, 0.9892420768737793), (7054, 0.7739754319190979), (592, 0.7703381776809692)]\n"
          ],
          "name": "stdout"
        },
        {
          "output_type": "stream",
          "text": [
            "/usr/local/lib/python3.6/dist-packages/gensim/matutils.py:737: FutureWarning: Conversion of the second argument of issubdtype from `int` to `np.signedinteger` is deprecated. In future, it will be treated as `np.int64 == np.dtype(int).type`.\n",
            "  if np.issubdtype(vec.dtype, np.int):\n"
          ],
          "name": "stderr"
        }
      ]
    },
    {
      "cell_type": "code",
      "metadata": {
        "id": "IqFK-xW8PImS"
      },
      "source": [
        "# Making a function for getting the top similar to add to the target table\n",
        "\n",
        "def get_similar_docs(target_df, meta_df, d2v_model, d2v_target):\n",
        "  \"\"\"\n",
        "  This function takes:\n",
        "  [1] a target table dataframe\n",
        "  [2] the metadata table dataframe\n",
        "  [3] doc2vec model based on the metadata abstracts\n",
        "  [4] doc2vec model of the target table obtained with the metadata doc2vec model\n",
        "\n",
        "  Both the target and the metadata tables should contain columns for title and abstract.\n",
        "\n",
        "  For this function to run successfully, \n",
        "  the following packages need to be installed:\n",
        "   from gensim.models.doc2vec import Doc2Vec\n",
        "   import pandas as pd\n",
        "\n",
        "  At the end it prints the value count of the final dataframe that contains the following columns:\n",
        "  ('original_index', 'original_db', 'similarity_percentage', 'title', 'abstract');\n",
        "  and returns this mentioned dataframe.\n",
        "  \"\"\"\n",
        "\n",
        "# Run the similarity test assuming all titles are in the filtered dataset:\n",
        "  similar_to_target = []\n",
        "  for i in range(len(target_df.title)):\n",
        "    sim_test = d2v_model.docvecs.most_similar(positive=[d2v_target[i]], topn=3)\n",
        "    #this way the list could be used to create a dataframe\n",
        "    similar_to_target.append([i, 'target', 1, target_df.title[i], target_df.abstract[i]])\n",
        "    similar_to_target.append([sim_test[0][0], 'most similar', sim_test[0][1], meta_df.title[sim_test[0][0]], meta_df.abstract[sim_test[0][0]]])\n",
        "    similar_to_target.append([sim_test[1][0], 'second most similar', sim_test[1][1], meta_df.title[sim_test[1][0]], meta_df.abstract[sim_test[1][0]]])                        \n",
        "    similar_to_target.append([sim_test[2][0], 'third most similar', sim_test[2][1], meta_df.title[sim_test[0][0]], meta_df.abstract[sim_test[0][0]]])\n",
        "\n",
        "    # creating a dataframe with the top 3 most similar docs of the target ones!\n",
        "    df_colum = ['original_index', 'original_db', 'similarity_percentage', 'title', 'abstract']\n",
        "    similar_to_target_df = pd.DataFrame(similar_to_target, index=range(len(similar_to_target)), columns=df_colum)\n",
        "    new_docs_target_df = similar_to_target_df.drop_duplicates(subset='title', keep=\"first\", inplace=False)\n",
        "  \n",
        "  print(new_docs_target_df.original_db.value_counts())\n",
        "  return similar_to_target_df, new_docs_target_df"
      ],
      "execution_count": null,
      "outputs": []
    },
    {
      "cell_type": "code",
      "metadata": {
        "id": "jLIAezATP1dr",
        "colab": {
          "base_uri": "https://localhost:8080/",
          "height": 139
        },
        "outputId": "4a8c9c8c-a112-4713-9a33-31d8190906ca"
      },
      "source": [
        "smoke_similar_docs = get_similar_docs(target_df, meta, model, d2v_target)"
      ],
      "execution_count": null,
      "outputs": [
        {
          "output_type": "stream",
          "text": [
            "target                 30\n",
            "second most similar    29\n",
            "most similar            1\n",
            "Name: original_db, dtype: int64\n"
          ],
          "name": "stdout"
        },
        {
          "output_type": "stream",
          "text": [
            "/usr/local/lib/python3.6/dist-packages/gensim/matutils.py:737: FutureWarning: Conversion of the second argument of issubdtype from `int` to `np.signedinteger` is deprecated. In future, it will be treated as `np.int64 == np.dtype(int).type`.\n",
            "  if np.issubdtype(vec.dtype, np.int):\n"
          ],
          "name": "stderr"
        }
      ]
    },
    {
      "cell_type": "code",
      "metadata": {
        "id": "uywjsChZQCby",
        "colab": {
          "base_uri": "https://localhost:8080/",
          "height": 374
        },
        "outputId": "e83484c5-be4a-4d06-a432-366f61f48aa8"
      },
      "source": [
        "smoke_similar_docs.head()"
      ],
      "execution_count": null,
      "outputs": [
        {
          "output_type": "execute_result",
          "data": {
            "text/html": [
              "<div>\n",
              "<style scoped>\n",
              "    .dataframe tbody tr th:only-of-type {\n",
              "        vertical-align: middle;\n",
              "    }\n",
              "\n",
              "    .dataframe tbody tr th {\n",
              "        vertical-align: top;\n",
              "    }\n",
              "\n",
              "    .dataframe thead th {\n",
              "        text-align: right;\n",
              "    }\n",
              "</style>\n",
              "<table border=\"1\" class=\"dataframe\">\n",
              "  <thead>\n",
              "    <tr style=\"text-align: right;\">\n",
              "      <th></th>\n",
              "      <th>original_index</th>\n",
              "      <th>original_db</th>\n",
              "      <th>similarity_percentage</th>\n",
              "      <th>title</th>\n",
              "      <th>abstract</th>\n",
              "    </tr>\n",
              "  </thead>\n",
              "  <tbody>\n",
              "    <tr>\n",
              "      <th>0</th>\n",
              "      <td>0</td>\n",
              "      <td>target</td>\n",
              "      <td>1.000000</td>\n",
              "      <td>Interim Analysis of Risk Factors for Severe Ou...</td>\n",
              "      <td>port ga design surveil network set ca race eth...</td>\n",
              "    </tr>\n",
              "    <tr>\n",
              "      <th>2</th>\n",
              "      <td>6336</td>\n",
              "      <td>second most similar</td>\n",
              "      <td>0.874410</td>\n",
              "      <td>Characteristics and predictors of hospitalizat...</td>\n",
              "      <td>knowledg individu ord target stgi gen appropri...</td>\n",
              "    </tr>\n",
              "    <tr>\n",
              "      <th>4</th>\n",
              "      <td>1</td>\n",
              "      <td>target</td>\n",
              "      <td>1.000000</td>\n",
              "      <td>Factors Associated With Intubation and Prolong...</td>\n",
              "      <td>extub design trospect obsv set chico metropoli...</td>\n",
              "    </tr>\n",
              "    <tr>\n",
              "      <th>6</th>\n",
              "      <td>7054</td>\n",
              "      <td>second most similar</td>\n",
              "      <td>0.773975</td>\n",
              "      <td>Delirium Incidence, Duration and Severity in C...</td>\n",
              "      <td>delirium incid durat intens ca known obsv larg...</td>\n",
              "    </tr>\n",
              "    <tr>\n",
              "      <th>8</th>\n",
              "      <td>2</td>\n",
              "      <td>target</td>\n",
              "      <td>1.000000</td>\n",
              "      <td>Risk factors for adverse clinical outcomes in ...</td>\n",
              "      <td>hetogen vari prognosi charactist cours off gui...</td>\n",
              "    </tr>\n",
              "  </tbody>\n",
              "</table>\n",
              "</div>"
            ],
            "text/plain": [
              "   original_index  ...                                           abstract\n",
              "0               0  ...  port ga design surveil network set ca race eth...\n",
              "2            6336  ...  knowledg individu ord target stgi gen appropri...\n",
              "4               1  ...  extub design trospect obsv set chico metropoli...\n",
              "6            7054  ...  delirium incid durat intens ca known obsv larg...\n",
              "8               2  ...  hetogen vari prognosi charactist cours off gui...\n",
              "\n",
              "[5 rows x 5 columns]"
            ]
          },
          "metadata": {
            "tags": []
          },
          "execution_count": 24
        }
      ]
    },
    {
      "cell_type": "markdown",
      "metadata": {
        "id": "t7gyDAwRUko5"
      },
      "source": [
        "### Trying the whole process for diabetes"
      ]
    },
    {
      "cell_type": "code",
      "metadata": {
        "id": "7C3UUzXeQLIh",
        "colab": {
          "base_uri": "https://localhost:8080/",
          "height": 289
        },
        "outputId": "322e9a07-de29-4967-f132-b731580452a2"
      },
      "source": [
        "diabetes_df= pickle.load(open('diabetes_stemmed', 'rb'))\n",
        "diabetes_df.head()"
      ],
      "execution_count": null,
      "outputs": [
        {
          "output_type": "execute_result",
          "data": {
            "text/html": [
              "<div>\n",
              "<style scoped>\n",
              "    .dataframe tbody tr th:only-of-type {\n",
              "        vertical-align: middle;\n",
              "    }\n",
              "\n",
              "    .dataframe tbody tr th {\n",
              "        vertical-align: top;\n",
              "    }\n",
              "\n",
              "    .dataframe thead th {\n",
              "        text-align: right;\n",
              "    }\n",
              "</style>\n",
              "<table border=\"1\" class=\"dataframe\">\n",
              "  <thead>\n",
              "    <tr style=\"text-align: right;\">\n",
              "      <th></th>\n",
              "      <th>Date</th>\n",
              "      <th>title</th>\n",
              "      <th>abstract</th>\n",
              "    </tr>\n",
              "  </thead>\n",
              "  <tbody>\n",
              "    <tr>\n",
              "      <th>0</th>\n",
              "      <td>2020-06-30</td>\n",
              "      <td>Prevalence and severity of corona virus diseas...</td>\n",
              "      <td>port decemb outbak known spad charactist publi...</td>\n",
              "    </tr>\n",
              "    <tr>\n",
              "      <th>1</th>\n",
              "      <td>2020-06-30</td>\n",
              "      <td>Clinical features and short-term outcomes of 2...</td>\n",
              "      <td>late decemb outbak spiratori emg iolog featur ...</td>\n",
              "    </tr>\n",
              "    <tr>\n",
              "      <th>2</th>\n",
              "      <td>2020-06-03</td>\n",
              "      <td>Plasma albumin levels predict risk for nonsurv...</td>\n",
              "      <td>explor biomark progss mati mod vsu vsu vsu sul...</td>\n",
              "    </tr>\n",
              "    <tr>\n",
              "      <th>3</th>\n",
              "      <td>2020-06-01</td>\n",
              "      <td>COVID-19 with Different Severities: A Multicen...</td>\n",
              "      <td>nal concn charactist comput tomographi im tatm...</td>\n",
              "    </tr>\n",
              "    <tr>\n",
              "      <th>4</th>\n",
              "      <td>2020-06-01</td>\n",
              "      <td>Characteristics and Outcomes of COVID-19 Patie...</td>\n",
              "      <td>york citi nyc born ga burden charactist racial...</td>\n",
              "    </tr>\n",
              "  </tbody>\n",
              "</table>\n",
              "</div>"
            ],
            "text/plain": [
              "         Date  ...                                           abstract\n",
              "0  2020-06-30  ...  port decemb outbak known spad charactist publi...\n",
              "1  2020-06-30  ...  late decemb outbak spiratori emg iolog featur ...\n",
              "2  2020-06-03  ...  explor biomark progss mati mod vsu vsu vsu sul...\n",
              "3  2020-06-01  ...  nal concn charactist comput tomographi im tatm...\n",
              "4  2020-06-01  ...  york citi nyc born ga burden charactist racial...\n",
              "\n",
              "[5 rows x 3 columns]"
            ]
          },
          "metadata": {
            "tags": []
          },
          "execution_count": 25
        }
      ]
    },
    {
      "cell_type": "code",
      "metadata": {
        "id": "wqGRAJI2Txaj",
        "colab": {
          "base_uri": "https://localhost:8080/",
          "height": 54
        },
        "outputId": "a463f010-430b-43f6-ffd0-f6bc8b9fff59"
      },
      "source": [
        "corpus_diabetes= [doc.split() for doc in list(diabetes_df.abstract)]\n",
        "print(corpus_diabetes[0])"
      ],
      "execution_count": null,
      "outputs": [
        {
          "output_type": "stream",
          "text": [
            "['port', 'decemb', 'outbak', 'known', 'spad', 'charactist', 'publish', 'cent', 'medlin', 'sinom', 'embas', 'cochran', 'librari', 'iolog', 'sult', 'incid', 'fev', 'cough', 'fatigu', 'dyspnea', 'pval', 'diabet', 'hyptens', 'cardiovascular', 'malign', 'complic', 'ard', 'rang', 'pool', 'estim', 'ard', 'aci', 'aki', 'shock', 'rang', 'pool', 'estim', 'spect', 'pcent', 'diabet', 'hyptens', 'spect', 'fev', 'pval', 'comorbid', 'hyptens', 'diabet', 'ard', 'aci', 'obstacl', 'tatment']\n"
          ],
          "name": "stdout"
        }
      ]
    },
    {
      "cell_type": "code",
      "metadata": {
        "id": "qvGnOl8lUDNN",
        "colab": {
          "base_uri": "https://localhost:8080/",
          "height": 102
        },
        "outputId": "bf6fd71e-d436-43cf-92c6-d4926c7379ff"
      },
      "source": [
        "# Applying the model to the target datset\n",
        "d2v_diabetes = []\n",
        "for i in range(len(corpus_diabetes)):\n",
        "  model.random.seed(0)\n",
        "  d2v_diabetes.append(model.infer_vector(corpus_diabetes[i], epochs=200))\n",
        "\n",
        "d2v_diabetes[0]"
      ],
      "execution_count": null,
      "outputs": [
        {
          "output_type": "execute_result",
          "data": {
            "text/plain": [
              "array([-2.2191122 ,  4.9982414 , -3.5309076 , -0.8385328 , -0.793545  ,\n",
              "       -3.8545969 , -6.0812864 ,  1.2535665 , -0.7832953 ,  0.91301864,\n",
              "       -0.6431914 ,  3.103079  , -2.1967947 ,  0.65219283, -3.8912334 ,\n",
              "       -2.4234843 , -3.1107209 ,  3.1117568 , -0.21674915,  3.9767525 ],\n",
              "      dtype=float32)"
            ]
          },
          "metadata": {
            "tags": []
          },
          "execution_count": 28
        }
      ]
    },
    {
      "cell_type": "code",
      "metadata": {
        "id": "ELtV_1UVUQeC",
        "colab": {
          "base_uri": "https://localhost:8080/",
          "height": 951
        },
        "outputId": "f8bd97ef-ca4a-4455-fc74-1c2e2bb76d6e"
      },
      "source": [
        "diabetes_similar_docs, diabetes_new_docs = get_similar_docs(diabetes_df, meta, model, d2v_diabetes)\n",
        "diabetes_similar_docs.head(12)"
      ],
      "execution_count": null,
      "outputs": [
        {
          "output_type": "stream",
          "text": [
            "/usr/local/lib/python3.6/dist-packages/gensim/matutils.py:737: FutureWarning: Conversion of the second argument of issubdtype from `int` to `np.signedinteger` is deprecated. In future, it will be treated as `np.int64 == np.dtype(int).type`.\n",
            "  if np.issubdtype(vec.dtype, np.int):\n"
          ],
          "name": "stderr"
        },
        {
          "output_type": "stream",
          "text": [
            "target                 61\n",
            "second most similar    57\n",
            "most similar            2\n",
            "Name: original_db, dtype: int64\n"
          ],
          "name": "stdout"
        },
        {
          "output_type": "execute_result",
          "data": {
            "text/html": [
              "<div>\n",
              "<style scoped>\n",
              "    .dataframe tbody tr th:only-of-type {\n",
              "        vertical-align: middle;\n",
              "    }\n",
              "\n",
              "    .dataframe tbody tr th {\n",
              "        vertical-align: top;\n",
              "    }\n",
              "\n",
              "    .dataframe thead th {\n",
              "        text-align: right;\n",
              "    }\n",
              "</style>\n",
              "<table border=\"1\" class=\"dataframe\">\n",
              "  <thead>\n",
              "    <tr style=\"text-align: right;\">\n",
              "      <th></th>\n",
              "      <th>original_index</th>\n",
              "      <th>original_db</th>\n",
              "      <th>similarity_percentage</th>\n",
              "      <th>title</th>\n",
              "      <th>abstract</th>\n",
              "    </tr>\n",
              "  </thead>\n",
              "  <tbody>\n",
              "    <tr>\n",
              "      <th>0</th>\n",
              "      <td>0</td>\n",
              "      <td>target</td>\n",
              "      <td>1.000000</td>\n",
              "      <td>Prevalence and severity of corona virus diseas...</td>\n",
              "      <td>port decemb outbak known spad charactist publi...</td>\n",
              "    </tr>\n",
              "    <tr>\n",
              "      <th>1</th>\n",
              "      <td>10328</td>\n",
              "      <td>most similar</td>\n",
              "      <td>0.988107</td>\n",
              "      <td>Prevalence and severity of corona virus diseas...</td>\n",
              "      <td>port decemb outbak known spad charactist publi...</td>\n",
              "    </tr>\n",
              "    <tr>\n",
              "      <th>2</th>\n",
              "      <td>12221</td>\n",
              "      <td>second most similar</td>\n",
              "      <td>0.821373</td>\n",
              "      <td>Hypertension is associated with increased mort...</td>\n",
              "      <td>investig hyptens pneumonia pform systemat lita...</td>\n",
              "    </tr>\n",
              "    <tr>\n",
              "      <th>3</th>\n",
              "      <td>10864</td>\n",
              "      <td>third most similar</td>\n",
              "      <td>0.815593</td>\n",
              "      <td>Prevalence and severity of corona virus diseas...</td>\n",
              "      <td>port decemb outbak known spad charactist publi...</td>\n",
              "    </tr>\n",
              "    <tr>\n",
              "      <th>4</th>\n",
              "      <td>1</td>\n",
              "      <td>target</td>\n",
              "      <td>1.000000</td>\n",
              "      <td>Clinical features and short-term outcomes of 2...</td>\n",
              "      <td>late decemb outbak spiratori emg iolog featur ...</td>\n",
              "    </tr>\n",
              "    <tr>\n",
              "      <th>5</th>\n",
              "      <td>16220</td>\n",
              "      <td>most similar</td>\n",
              "      <td>0.991123</td>\n",
              "      <td>Clinical features and short-term outcomes of 2...</td>\n",
              "      <td>late decemb outbak spiratori emg iolog featur ...</td>\n",
              "    </tr>\n",
              "    <tr>\n",
              "      <th>6</th>\n",
              "      <td>6936</td>\n",
              "      <td>second most similar</td>\n",
              "      <td>0.946682</td>\n",
              "      <td>Clinical features and outcomes of 221 patients...</td>\n",
              "      <td>nal late decemb outbak spiratori offici name e...</td>\n",
              "    </tr>\n",
              "    <tr>\n",
              "      <th>7</th>\n",
              "      <td>12197</td>\n",
              "      <td>third most similar</td>\n",
              "      <td>0.825572</td>\n",
              "      <td>Clinical features and short-term outcomes of 2...</td>\n",
              "      <td>late decemb outbak spiratori emg iolog featur ...</td>\n",
              "    </tr>\n",
              "    <tr>\n",
              "      <th>8</th>\n",
              "      <td>2</td>\n",
              "      <td>target</td>\n",
              "      <td>1.000000</td>\n",
              "      <td>Plasma albumin levels predict risk for nonsurv...</td>\n",
              "      <td>explor biomark progss mati mod vsu vsu vsu sul...</td>\n",
              "    </tr>\n",
              "    <tr>\n",
              "      <th>9</th>\n",
              "      <td>11492</td>\n",
              "      <td>most similar</td>\n",
              "      <td>0.993745</td>\n",
              "      <td>Plasma albumin levels predict risk for nonsurv...</td>\n",
              "      <td>explor biomark progss mati mod vsu vsu vsu sul...</td>\n",
              "    </tr>\n",
              "    <tr>\n",
              "      <th>10</th>\n",
              "      <td>17991</td>\n",
              "      <td>second most similar</td>\n",
              "      <td>0.882838</td>\n",
              "      <td>Lymphopenia in severe coronavirus disease-2019...</td>\n",
              "      <td>biomark pdict essenti situat sourc alloc urgen...</td>\n",
              "    </tr>\n",
              "    <tr>\n",
              "      <th>11</th>\n",
              "      <td>12107</td>\n",
              "      <td>third most similar</td>\n",
              "      <td>0.861620</td>\n",
              "      <td>Plasma albumin levels predict risk for nonsurv...</td>\n",
              "      <td>explor biomark progss mati mod vsu vsu vsu sul...</td>\n",
              "    </tr>\n",
              "  </tbody>\n",
              "</table>\n",
              "</div>"
            ],
            "text/plain": [
              "    original_index  ...                                           abstract\n",
              "0                0  ...  port decemb outbak known spad charactist publi...\n",
              "1            10328  ...  port decemb outbak known spad charactist publi...\n",
              "2            12221  ...  investig hyptens pneumonia pform systemat lita...\n",
              "3            10864  ...  port decemb outbak known spad charactist publi...\n",
              "4                1  ...  late decemb outbak spiratori emg iolog featur ...\n",
              "5            16220  ...  late decemb outbak spiratori emg iolog featur ...\n",
              "6             6936  ...  nal late decemb outbak spiratori offici name e...\n",
              "7            12197  ...  late decemb outbak spiratori emg iolog featur ...\n",
              "8                2  ...  explor biomark progss mati mod vsu vsu vsu sul...\n",
              "9            11492  ...  explor biomark progss mati mod vsu vsu vsu sul...\n",
              "10           17991  ...  biomark pdict essenti situat sourc alloc urgen...\n",
              "11           12107  ...  explor biomark progss mati mod vsu vsu vsu sul...\n",
              "\n",
              "[12 rows x 5 columns]"
            ]
          },
          "metadata": {
            "tags": []
          },
          "execution_count": 33
        }
      ]
    },
    {
      "cell_type": "code",
      "metadata": {
        "id": "rTDXy3aRUeY7"
      },
      "source": [
        ""
      ],
      "execution_count": null,
      "outputs": []
    }
  ]
}