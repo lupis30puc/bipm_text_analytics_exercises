{
  "nbformat": 4,
  "nbformat_minor": 0,
  "metadata": {
    "colab": {
      "name": "Exercise_4_text_representation.ipynb",
      "provenance": [],
      "collapsed_sections": [],
      "include_colab_link": true
    },
    "kernelspec": {
      "name": "python3",
      "display_name": "Python 3"
    },
    "accelerator": "GPU",
    "widgets": {
      "application/vnd.jupyter.widget-state+json": {
        "1130a9e300494183bc606b644eb3de0d": {
          "model_module": "@jupyter-widgets/controls",
          "model_name": "HBoxModel",
          "state": {
            "_view_name": "HBoxView",
            "_dom_classes": [],
            "_model_name": "HBoxModel",
            "_view_module": "@jupyter-widgets/controls",
            "_model_module_version": "1.5.0",
            "_view_count": null,
            "_view_module_version": "1.5.0",
            "box_style": "",
            "layout": "IPY_MODEL_da4583fb81bf4a5d90be4132a351330a",
            "_model_module": "@jupyter-widgets/controls",
            "children": [
              "IPY_MODEL_efb8955963c14572a4ef97cb9bcfd1db",
              "IPY_MODEL_757fe637fb864bbdb53428e0aa4fd4d2"
            ]
          }
        },
        "da4583fb81bf4a5d90be4132a351330a": {
          "model_module": "@jupyter-widgets/base",
          "model_name": "LayoutModel",
          "state": {
            "_view_name": "LayoutView",
            "grid_template_rows": null,
            "right": null,
            "justify_content": null,
            "_view_module": "@jupyter-widgets/base",
            "overflow": null,
            "_model_module_version": "1.2.0",
            "_view_count": null,
            "flex_flow": null,
            "width": null,
            "min_width": null,
            "border": null,
            "align_items": null,
            "bottom": null,
            "_model_module": "@jupyter-widgets/base",
            "top": null,
            "grid_column": null,
            "overflow_y": null,
            "overflow_x": null,
            "grid_auto_flow": null,
            "grid_area": null,
            "grid_template_columns": null,
            "flex": null,
            "_model_name": "LayoutModel",
            "justify_items": null,
            "grid_row": null,
            "max_height": null,
            "align_content": null,
            "visibility": null,
            "align_self": null,
            "height": null,
            "min_height": null,
            "padding": null,
            "grid_auto_rows": null,
            "grid_gap": null,
            "max_width": null,
            "order": null,
            "_view_module_version": "1.2.0",
            "grid_template_areas": null,
            "object_position": null,
            "object_fit": null,
            "grid_auto_columns": null,
            "margin": null,
            "display": null,
            "left": null
          }
        },
        "efb8955963c14572a4ef97cb9bcfd1db": {
          "model_module": "@jupyter-widgets/controls",
          "model_name": "FloatProgressModel",
          "state": {
            "_view_name": "ProgressView",
            "style": "IPY_MODEL_60d6cbca7d3d432c859b6991a58ac3bc",
            "_dom_classes": [],
            "description": "Downloading: 100%",
            "_model_name": "FloatProgressModel",
            "bar_style": "success",
            "max": 231508,
            "_view_module": "@jupyter-widgets/controls",
            "_model_module_version": "1.5.0",
            "value": 231508,
            "_view_count": null,
            "_view_module_version": "1.5.0",
            "orientation": "horizontal",
            "min": 0,
            "description_tooltip": null,
            "_model_module": "@jupyter-widgets/controls",
            "layout": "IPY_MODEL_8040dc32117d46619805c74ecf3c0d7f"
          }
        },
        "757fe637fb864bbdb53428e0aa4fd4d2": {
          "model_module": "@jupyter-widgets/controls",
          "model_name": "HTMLModel",
          "state": {
            "_view_name": "HTMLView",
            "style": "IPY_MODEL_83b9410be45241338b24710773913d6b",
            "_dom_classes": [],
            "description": "",
            "_model_name": "HTMLModel",
            "placeholder": "​",
            "_view_module": "@jupyter-widgets/controls",
            "_model_module_version": "1.5.0",
            "value": " 232k/232k [00:00&lt;00:00, 300kB/s]",
            "_view_count": null,
            "_view_module_version": "1.5.0",
            "description_tooltip": null,
            "_model_module": "@jupyter-widgets/controls",
            "layout": "IPY_MODEL_32923a84341e4d08b4990346b0626789"
          }
        },
        "60d6cbca7d3d432c859b6991a58ac3bc": {
          "model_module": "@jupyter-widgets/controls",
          "model_name": "ProgressStyleModel",
          "state": {
            "_view_name": "StyleView",
            "_model_name": "ProgressStyleModel",
            "description_width": "initial",
            "_view_module": "@jupyter-widgets/base",
            "_model_module_version": "1.5.0",
            "_view_count": null,
            "_view_module_version": "1.2.0",
            "bar_color": null,
            "_model_module": "@jupyter-widgets/controls"
          }
        },
        "8040dc32117d46619805c74ecf3c0d7f": {
          "model_module": "@jupyter-widgets/base",
          "model_name": "LayoutModel",
          "state": {
            "_view_name": "LayoutView",
            "grid_template_rows": null,
            "right": null,
            "justify_content": null,
            "_view_module": "@jupyter-widgets/base",
            "overflow": null,
            "_model_module_version": "1.2.0",
            "_view_count": null,
            "flex_flow": null,
            "width": null,
            "min_width": null,
            "border": null,
            "align_items": null,
            "bottom": null,
            "_model_module": "@jupyter-widgets/base",
            "top": null,
            "grid_column": null,
            "overflow_y": null,
            "overflow_x": null,
            "grid_auto_flow": null,
            "grid_area": null,
            "grid_template_columns": null,
            "flex": null,
            "_model_name": "LayoutModel",
            "justify_items": null,
            "grid_row": null,
            "max_height": null,
            "align_content": null,
            "visibility": null,
            "align_self": null,
            "height": null,
            "min_height": null,
            "padding": null,
            "grid_auto_rows": null,
            "grid_gap": null,
            "max_width": null,
            "order": null,
            "_view_module_version": "1.2.0",
            "grid_template_areas": null,
            "object_position": null,
            "object_fit": null,
            "grid_auto_columns": null,
            "margin": null,
            "display": null,
            "left": null
          }
        },
        "83b9410be45241338b24710773913d6b": {
          "model_module": "@jupyter-widgets/controls",
          "model_name": "DescriptionStyleModel",
          "state": {
            "_view_name": "StyleView",
            "_model_name": "DescriptionStyleModel",
            "description_width": "",
            "_view_module": "@jupyter-widgets/base",
            "_model_module_version": "1.5.0",
            "_view_count": null,
            "_view_module_version": "1.2.0",
            "_model_module": "@jupyter-widgets/controls"
          }
        },
        "32923a84341e4d08b4990346b0626789": {
          "model_module": "@jupyter-widgets/base",
          "model_name": "LayoutModel",
          "state": {
            "_view_name": "LayoutView",
            "grid_template_rows": null,
            "right": null,
            "justify_content": null,
            "_view_module": "@jupyter-widgets/base",
            "overflow": null,
            "_model_module_version": "1.2.0",
            "_view_count": null,
            "flex_flow": null,
            "width": null,
            "min_width": null,
            "border": null,
            "align_items": null,
            "bottom": null,
            "_model_module": "@jupyter-widgets/base",
            "top": null,
            "grid_column": null,
            "overflow_y": null,
            "overflow_x": null,
            "grid_auto_flow": null,
            "grid_area": null,
            "grid_template_columns": null,
            "flex": null,
            "_model_name": "LayoutModel",
            "justify_items": null,
            "grid_row": null,
            "max_height": null,
            "align_content": null,
            "visibility": null,
            "align_self": null,
            "height": null,
            "min_height": null,
            "padding": null,
            "grid_auto_rows": null,
            "grid_gap": null,
            "max_width": null,
            "order": null,
            "_view_module_version": "1.2.0",
            "grid_template_areas": null,
            "object_position": null,
            "object_fit": null,
            "grid_auto_columns": null,
            "margin": null,
            "display": null,
            "left": null
          }
        },
        "eb36db878e024b2298f52cae454ca6f7": {
          "model_module": "@jupyter-widgets/controls",
          "model_name": "HBoxModel",
          "state": {
            "_view_name": "HBoxView",
            "_dom_classes": [],
            "_model_name": "HBoxModel",
            "_view_module": "@jupyter-widgets/controls",
            "_model_module_version": "1.5.0",
            "_view_count": null,
            "_view_module_version": "1.5.0",
            "box_style": "",
            "layout": "IPY_MODEL_5ae611cbe6944f4ca0f7ce6929432151",
            "_model_module": "@jupyter-widgets/controls",
            "children": [
              "IPY_MODEL_db73c43e70ca4e30b0933a3e1bf6e4c1",
              "IPY_MODEL_aeb4049506184f85bf96320cb968ee60"
            ]
          }
        },
        "5ae611cbe6944f4ca0f7ce6929432151": {
          "model_module": "@jupyter-widgets/base",
          "model_name": "LayoutModel",
          "state": {
            "_view_name": "LayoutView",
            "grid_template_rows": null,
            "right": null,
            "justify_content": null,
            "_view_module": "@jupyter-widgets/base",
            "overflow": null,
            "_model_module_version": "1.2.0",
            "_view_count": null,
            "flex_flow": null,
            "width": null,
            "min_width": null,
            "border": null,
            "align_items": null,
            "bottom": null,
            "_model_module": "@jupyter-widgets/base",
            "top": null,
            "grid_column": null,
            "overflow_y": null,
            "overflow_x": null,
            "grid_auto_flow": null,
            "grid_area": null,
            "grid_template_columns": null,
            "flex": null,
            "_model_name": "LayoutModel",
            "justify_items": null,
            "grid_row": null,
            "max_height": null,
            "align_content": null,
            "visibility": null,
            "align_self": null,
            "height": null,
            "min_height": null,
            "padding": null,
            "grid_auto_rows": null,
            "grid_gap": null,
            "max_width": null,
            "order": null,
            "_view_module_version": "1.2.0",
            "grid_template_areas": null,
            "object_position": null,
            "object_fit": null,
            "grid_auto_columns": null,
            "margin": null,
            "display": null,
            "left": null
          }
        },
        "db73c43e70ca4e30b0933a3e1bf6e4c1": {
          "model_module": "@jupyter-widgets/controls",
          "model_name": "FloatProgressModel",
          "state": {
            "_view_name": "ProgressView",
            "style": "IPY_MODEL_e0d8d24aba6346dba84dd29216a2fc53",
            "_dom_classes": [],
            "description": "Downloading: 100%",
            "_model_name": "FloatProgressModel",
            "bar_style": "success",
            "max": 433,
            "_view_module": "@jupyter-widgets/controls",
            "_model_module_version": "1.5.0",
            "value": 433,
            "_view_count": null,
            "_view_module_version": "1.5.0",
            "orientation": "horizontal",
            "min": 0,
            "description_tooltip": null,
            "_model_module": "@jupyter-widgets/controls",
            "layout": "IPY_MODEL_bf5e338d67684d01b248e6e9c213ed58"
          }
        },
        "aeb4049506184f85bf96320cb968ee60": {
          "model_module": "@jupyter-widgets/controls",
          "model_name": "HTMLModel",
          "state": {
            "_view_name": "HTMLView",
            "style": "IPY_MODEL_3fa4a6550d44438c9f3867f6dde86b17",
            "_dom_classes": [],
            "description": "",
            "_model_name": "HTMLModel",
            "placeholder": "​",
            "_view_module": "@jupyter-widgets/controls",
            "_model_module_version": "1.5.0",
            "value": " 433/433 [00:11&lt;00:00, 38.0B/s]",
            "_view_count": null,
            "_view_module_version": "1.5.0",
            "description_tooltip": null,
            "_model_module": "@jupyter-widgets/controls",
            "layout": "IPY_MODEL_4418622b6f0c49978dd63a232f5ef352"
          }
        },
        "e0d8d24aba6346dba84dd29216a2fc53": {
          "model_module": "@jupyter-widgets/controls",
          "model_name": "ProgressStyleModel",
          "state": {
            "_view_name": "StyleView",
            "_model_name": "ProgressStyleModel",
            "description_width": "initial",
            "_view_module": "@jupyter-widgets/base",
            "_model_module_version": "1.5.0",
            "_view_count": null,
            "_view_module_version": "1.2.0",
            "bar_color": null,
            "_model_module": "@jupyter-widgets/controls"
          }
        },
        "bf5e338d67684d01b248e6e9c213ed58": {
          "model_module": "@jupyter-widgets/base",
          "model_name": "LayoutModel",
          "state": {
            "_view_name": "LayoutView",
            "grid_template_rows": null,
            "right": null,
            "justify_content": null,
            "_view_module": "@jupyter-widgets/base",
            "overflow": null,
            "_model_module_version": "1.2.0",
            "_view_count": null,
            "flex_flow": null,
            "width": null,
            "min_width": null,
            "border": null,
            "align_items": null,
            "bottom": null,
            "_model_module": "@jupyter-widgets/base",
            "top": null,
            "grid_column": null,
            "overflow_y": null,
            "overflow_x": null,
            "grid_auto_flow": null,
            "grid_area": null,
            "grid_template_columns": null,
            "flex": null,
            "_model_name": "LayoutModel",
            "justify_items": null,
            "grid_row": null,
            "max_height": null,
            "align_content": null,
            "visibility": null,
            "align_self": null,
            "height": null,
            "min_height": null,
            "padding": null,
            "grid_auto_rows": null,
            "grid_gap": null,
            "max_width": null,
            "order": null,
            "_view_module_version": "1.2.0",
            "grid_template_areas": null,
            "object_position": null,
            "object_fit": null,
            "grid_auto_columns": null,
            "margin": null,
            "display": null,
            "left": null
          }
        },
        "3fa4a6550d44438c9f3867f6dde86b17": {
          "model_module": "@jupyter-widgets/controls",
          "model_name": "DescriptionStyleModel",
          "state": {
            "_view_name": "StyleView",
            "_model_name": "DescriptionStyleModel",
            "description_width": "",
            "_view_module": "@jupyter-widgets/base",
            "_model_module_version": "1.5.0",
            "_view_count": null,
            "_view_module_version": "1.2.0",
            "_model_module": "@jupyter-widgets/controls"
          }
        },
        "4418622b6f0c49978dd63a232f5ef352": {
          "model_module": "@jupyter-widgets/base",
          "model_name": "LayoutModel",
          "state": {
            "_view_name": "LayoutView",
            "grid_template_rows": null,
            "right": null,
            "justify_content": null,
            "_view_module": "@jupyter-widgets/base",
            "overflow": null,
            "_model_module_version": "1.2.0",
            "_view_count": null,
            "flex_flow": null,
            "width": null,
            "min_width": null,
            "border": null,
            "align_items": null,
            "bottom": null,
            "_model_module": "@jupyter-widgets/base",
            "top": null,
            "grid_column": null,
            "overflow_y": null,
            "overflow_x": null,
            "grid_auto_flow": null,
            "grid_area": null,
            "grid_template_columns": null,
            "flex": null,
            "_model_name": "LayoutModel",
            "justify_items": null,
            "grid_row": null,
            "max_height": null,
            "align_content": null,
            "visibility": null,
            "align_self": null,
            "height": null,
            "min_height": null,
            "padding": null,
            "grid_auto_rows": null,
            "grid_gap": null,
            "max_width": null,
            "order": null,
            "_view_module_version": "1.2.0",
            "grid_template_areas": null,
            "object_position": null,
            "object_fit": null,
            "grid_auto_columns": null,
            "margin": null,
            "display": null,
            "left": null
          }
        },
        "776b948434e241cdae645ff9bfe960dc": {
          "model_module": "@jupyter-widgets/controls",
          "model_name": "HBoxModel",
          "state": {
            "_view_name": "HBoxView",
            "_dom_classes": [],
            "_model_name": "HBoxModel",
            "_view_module": "@jupyter-widgets/controls",
            "_model_module_version": "1.5.0",
            "_view_count": null,
            "_view_module_version": "1.5.0",
            "box_style": "",
            "layout": "IPY_MODEL_83feb69b0a3f44139da3b3d809206342",
            "_model_module": "@jupyter-widgets/controls",
            "children": [
              "IPY_MODEL_7611499e04394d8098f0750f0b1148d6",
              "IPY_MODEL_af37f67640ee46f0a0c9b6c9e103c514"
            ]
          }
        },
        "83feb69b0a3f44139da3b3d809206342": {
          "model_module": "@jupyter-widgets/base",
          "model_name": "LayoutModel",
          "state": {
            "_view_name": "LayoutView",
            "grid_template_rows": null,
            "right": null,
            "justify_content": null,
            "_view_module": "@jupyter-widgets/base",
            "overflow": null,
            "_model_module_version": "1.2.0",
            "_view_count": null,
            "flex_flow": null,
            "width": null,
            "min_width": null,
            "border": null,
            "align_items": null,
            "bottom": null,
            "_model_module": "@jupyter-widgets/base",
            "top": null,
            "grid_column": null,
            "overflow_y": null,
            "overflow_x": null,
            "grid_auto_flow": null,
            "grid_area": null,
            "grid_template_columns": null,
            "flex": null,
            "_model_name": "LayoutModel",
            "justify_items": null,
            "grid_row": null,
            "max_height": null,
            "align_content": null,
            "visibility": null,
            "align_self": null,
            "height": null,
            "min_height": null,
            "padding": null,
            "grid_auto_rows": null,
            "grid_gap": null,
            "max_width": null,
            "order": null,
            "_view_module_version": "1.2.0",
            "grid_template_areas": null,
            "object_position": null,
            "object_fit": null,
            "grid_auto_columns": null,
            "margin": null,
            "display": null,
            "left": null
          }
        },
        "7611499e04394d8098f0750f0b1148d6": {
          "model_module": "@jupyter-widgets/controls",
          "model_name": "FloatProgressModel",
          "state": {
            "_view_name": "ProgressView",
            "style": "IPY_MODEL_3d91d59885794c57955071121026ea04",
            "_dom_classes": [],
            "description": "Downloading: 100%",
            "_model_name": "FloatProgressModel",
            "bar_style": "success",
            "max": 536063208,
            "_view_module": "@jupyter-widgets/controls",
            "_model_module_version": "1.5.0",
            "value": 536063208,
            "_view_count": null,
            "_view_module_version": "1.5.0",
            "orientation": "horizontal",
            "min": 0,
            "description_tooltip": null,
            "_model_module": "@jupyter-widgets/controls",
            "layout": "IPY_MODEL_a76443ba198f40118826f62af81a8207"
          }
        },
        "af37f67640ee46f0a0c9b6c9e103c514": {
          "model_module": "@jupyter-widgets/controls",
          "model_name": "HTMLModel",
          "state": {
            "_view_name": "HTMLView",
            "style": "IPY_MODEL_1bbda75325054794993a82c2a0aa7095",
            "_dom_classes": [],
            "description": "",
            "_model_name": "HTMLModel",
            "placeholder": "​",
            "_view_module": "@jupyter-widgets/controls",
            "_model_module_version": "1.5.0",
            "value": " 536M/536M [00:10&lt;00:00, 49.0MB/s]",
            "_view_count": null,
            "_view_module_version": "1.5.0",
            "description_tooltip": null,
            "_model_module": "@jupyter-widgets/controls",
            "layout": "IPY_MODEL_140145309a6f4e9b9241ec039ac8f973"
          }
        },
        "3d91d59885794c57955071121026ea04": {
          "model_module": "@jupyter-widgets/controls",
          "model_name": "ProgressStyleModel",
          "state": {
            "_view_name": "StyleView",
            "_model_name": "ProgressStyleModel",
            "description_width": "initial",
            "_view_module": "@jupyter-widgets/base",
            "_model_module_version": "1.5.0",
            "_view_count": null,
            "_view_module_version": "1.2.0",
            "bar_color": null,
            "_model_module": "@jupyter-widgets/controls"
          }
        },
        "a76443ba198f40118826f62af81a8207": {
          "model_module": "@jupyter-widgets/base",
          "model_name": "LayoutModel",
          "state": {
            "_view_name": "LayoutView",
            "grid_template_rows": null,
            "right": null,
            "justify_content": null,
            "_view_module": "@jupyter-widgets/base",
            "overflow": null,
            "_model_module_version": "1.2.0",
            "_view_count": null,
            "flex_flow": null,
            "width": null,
            "min_width": null,
            "border": null,
            "align_items": null,
            "bottom": null,
            "_model_module": "@jupyter-widgets/base",
            "top": null,
            "grid_column": null,
            "overflow_y": null,
            "overflow_x": null,
            "grid_auto_flow": null,
            "grid_area": null,
            "grid_template_columns": null,
            "flex": null,
            "_model_name": "LayoutModel",
            "justify_items": null,
            "grid_row": null,
            "max_height": null,
            "align_content": null,
            "visibility": null,
            "align_self": null,
            "height": null,
            "min_height": null,
            "padding": null,
            "grid_auto_rows": null,
            "grid_gap": null,
            "max_width": null,
            "order": null,
            "_view_module_version": "1.2.0",
            "grid_template_areas": null,
            "object_position": null,
            "object_fit": null,
            "grid_auto_columns": null,
            "margin": null,
            "display": null,
            "left": null
          }
        },
        "1bbda75325054794993a82c2a0aa7095": {
          "model_module": "@jupyter-widgets/controls",
          "model_name": "DescriptionStyleModel",
          "state": {
            "_view_name": "StyleView",
            "_model_name": "DescriptionStyleModel",
            "description_width": "",
            "_view_module": "@jupyter-widgets/base",
            "_model_module_version": "1.5.0",
            "_view_count": null,
            "_view_module_version": "1.2.0",
            "_model_module": "@jupyter-widgets/controls"
          }
        },
        "140145309a6f4e9b9241ec039ac8f973": {
          "model_module": "@jupyter-widgets/base",
          "model_name": "LayoutModel",
          "state": {
            "_view_name": "LayoutView",
            "grid_template_rows": null,
            "right": null,
            "justify_content": null,
            "_view_module": "@jupyter-widgets/base",
            "overflow": null,
            "_model_module_version": "1.2.0",
            "_view_count": null,
            "flex_flow": null,
            "width": null,
            "min_width": null,
            "border": null,
            "align_items": null,
            "bottom": null,
            "_model_module": "@jupyter-widgets/base",
            "top": null,
            "grid_column": null,
            "overflow_y": null,
            "overflow_x": null,
            "grid_auto_flow": null,
            "grid_area": null,
            "grid_template_columns": null,
            "flex": null,
            "_model_name": "LayoutModel",
            "justify_items": null,
            "grid_row": null,
            "max_height": null,
            "align_content": null,
            "visibility": null,
            "align_self": null,
            "height": null,
            "min_height": null,
            "padding": null,
            "grid_auto_rows": null,
            "grid_gap": null,
            "max_width": null,
            "order": null,
            "_view_module_version": "1.2.0",
            "grid_template_areas": null,
            "object_position": null,
            "object_fit": null,
            "grid_auto_columns": null,
            "margin": null,
            "display": null,
            "left": null
          }
        }
      }
    }
  },
  "cells": [
    {
      "cell_type": "markdown",
      "metadata": {
        "id": "view-in-github",
        "colab_type": "text"
      },
      "source": [
        "<a href=\"https://colab.research.google.com/github/lupis30puc/bipm_text_analytics_exercises/blob/main/Exercise_4_text_representation.ipynb\" target=\"_parent\"><img src=\"https://colab.research.google.com/assets/colab-badge.svg\" alt=\"Open In Colab\"/></a>"
      ]
    },
    {
      "cell_type": "code",
      "metadata": {
        "id": "xh0k7ddEYPbW",
        "colab": {
          "base_uri": "https://localhost:8080/",
          "height": 615
        },
        "outputId": "bb6aa012-f722-4e8f-f460-4621df448cd4"
      },
      "source": [
        "!pip install transformers\n",
        "import pickle\n",
        "import pandas as pd\n",
        "import tensorflow_hub as hub\n",
        "import tensorflow as tf\n",
        "tf.compat.v1.disable_eager_execution()\n",
        "from gensim.test.utils import common_texts, get_tmpfile\n",
        "from gensim.models import Word2Vec\n",
        "from gensim.models.doc2vec import Doc2Vec, TaggedDocument\n",
        "from google.colab import files\n",
        "from scipy.spatial.distance import cosine, cdist\n",
        "from tensorflow.keras.preprocessing.sequence import pad_sequences\n",
        "from transformers import *"
      ],
      "execution_count": null,
      "outputs": [
        {
          "output_type": "stream",
          "text": [
            "Collecting transformers\n",
            "\u001b[?25l  Downloading https://files.pythonhosted.org/packages/27/3c/91ed8f5c4e7ef3227b4119200fc0ed4b4fd965b1f0172021c25701087825/transformers-3.0.2-py3-none-any.whl (769kB)\n",
            "\u001b[K     |████████████████████████████████| 778kB 2.6MB/s \n",
            "\u001b[?25hRequirement already satisfied: filelock in /usr/local/lib/python3.6/dist-packages (from transformers) (3.0.12)\n",
            "Collecting sacremoses\n",
            "\u001b[?25l  Downloading https://files.pythonhosted.org/packages/7d/34/09d19aff26edcc8eb2a01bed8e98f13a1537005d31e95233fd48216eed10/sacremoses-0.0.43.tar.gz (883kB)\n",
            "\u001b[K     |████████████████████████████████| 890kB 7.0MB/s \n",
            "\u001b[?25hCollecting tokenizers==0.8.1.rc1\n",
            "\u001b[?25l  Downloading https://files.pythonhosted.org/packages/40/d0/30d5f8d221a0ed981a186c8eb986ce1c94e3a6e87f994eae9f4aa5250217/tokenizers-0.8.1rc1-cp36-cp36m-manylinux1_x86_64.whl (3.0MB)\n",
            "\u001b[K     |████████████████████████████████| 3.0MB 13.8MB/s \n",
            "\u001b[?25hRequirement already satisfied: numpy in /usr/local/lib/python3.6/dist-packages (from transformers) (1.18.5)\n",
            "Requirement already satisfied: regex!=2019.12.17 in /usr/local/lib/python3.6/dist-packages (from transformers) (2019.12.20)\n",
            "Requirement already satisfied: packaging in /usr/local/lib/python3.6/dist-packages (from transformers) (20.4)\n",
            "Collecting sentencepiece!=0.1.92\n",
            "\u001b[?25l  Downloading https://files.pythonhosted.org/packages/d4/a4/d0a884c4300004a78cca907a6ff9a5e9fe4f090f5d95ab341c53d28cbc58/sentencepiece-0.1.91-cp36-cp36m-manylinux1_x86_64.whl (1.1MB)\n",
            "\u001b[K     |████████████████████████████████| 1.1MB 31.6MB/s \n",
            "\u001b[?25hRequirement already satisfied: dataclasses; python_version < \"3.7\" in /usr/local/lib/python3.6/dist-packages (from transformers) (0.7)\n",
            "Requirement already satisfied: tqdm>=4.27 in /usr/local/lib/python3.6/dist-packages (from transformers) (4.41.1)\n",
            "Requirement already satisfied: requests in /usr/local/lib/python3.6/dist-packages (from transformers) (2.23.0)\n",
            "Requirement already satisfied: six in /usr/local/lib/python3.6/dist-packages (from sacremoses->transformers) (1.12.0)\n",
            "Requirement already satisfied: click in /usr/local/lib/python3.6/dist-packages (from sacremoses->transformers) (7.1.2)\n",
            "Requirement already satisfied: joblib in /usr/local/lib/python3.6/dist-packages (from sacremoses->transformers) (0.16.0)\n",
            "Requirement already satisfied: pyparsing>=2.0.2 in /usr/local/lib/python3.6/dist-packages (from packaging->transformers) (2.4.7)\n",
            "Requirement already satisfied: certifi>=2017.4.17 in /usr/local/lib/python3.6/dist-packages (from requests->transformers) (2020.6.20)\n",
            "Requirement already satisfied: idna<3,>=2.5 in /usr/local/lib/python3.6/dist-packages (from requests->transformers) (2.10)\n",
            "Requirement already satisfied: chardet<4,>=3.0.2 in /usr/local/lib/python3.6/dist-packages (from requests->transformers) (3.0.4)\n",
            "Requirement already satisfied: urllib3!=1.25.0,!=1.25.1,<1.26,>=1.21.1 in /usr/local/lib/python3.6/dist-packages (from requests->transformers) (1.24.3)\n",
            "Building wheels for collected packages: sacremoses\n",
            "  Building wheel for sacremoses (setup.py) ... \u001b[?25l\u001b[?25hdone\n",
            "  Created wheel for sacremoses: filename=sacremoses-0.0.43-cp36-none-any.whl size=893260 sha256=1a98b680ae2f13de650a1021ee78ad5870c024a1f0f0db8ffa4b00df737956e6\n",
            "  Stored in directory: /root/.cache/pip/wheels/29/3c/fd/7ce5c3f0666dab31a50123635e6fb5e19ceb42ce38d4e58f45\n",
            "Successfully built sacremoses\n",
            "Installing collected packages: sacremoses, tokenizers, sentencepiece, transformers\n",
            "Successfully installed sacremoses-0.0.43 sentencepiece-0.1.91 tokenizers-0.8.1rc1 transformers-3.0.2\n"
          ],
          "name": "stdout"
        }
      ]
    },
    {
      "cell_type": "code",
      "metadata": {
        "id": "1m6eE3GHoTxW",
        "colab": {
          "resources": {
            "http://localhost:8080/nbextensions/google.colab/files.js": {
              "data": "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",
              "ok": true,
              "headers": [
                [
                  "content-type",
                  "application/javascript"
                ]
              ],
              "status": 200,
              "status_text": ""
            }
          },
          "base_uri": "https://localhost:8080/",
          "height": 72
        },
        "outputId": "9bd5d117-c30e-4f75-c418-4e3ef45d4e26"
      },
      "source": [
        "uploaded = files.upload()"
      ],
      "execution_count": null,
      "outputs": [
        {
          "output_type": "display_data",
          "data": {
            "text/html": [
              "\n",
              "     <input type=\"file\" id=\"files-dcb92660-458c-44dc-a680-9feb0109f8ef\" name=\"files[]\" multiple disabled\n",
              "        style=\"border:none\" />\n",
              "     <output id=\"result-dcb92660-458c-44dc-a680-9feb0109f8ef\">\n",
              "      Upload widget is only available when the cell has been executed in the\n",
              "      current browser session. Please rerun this cell to enable.\n",
              "      </output>\n",
              "      <script src=\"/nbextensions/google.colab/files.js\"></script> "
            ],
            "text/plain": [
              "<IPython.core.display.HTML object>"
            ]
          },
          "metadata": {
            "tags": []
          }
        },
        {
          "output_type": "stream",
          "text": [
            "Saving Stemmed.pkl to Stemmed.pkl\n"
          ],
          "name": "stdout"
        }
      ]
    },
    {
      "cell_type": "code",
      "metadata": {
        "id": "ro5GazS-phVe",
        "colab": {
          "base_uri": "https://localhost:8080/",
          "height": 54
        },
        "outputId": "a210fa80-49f4-42cf-bda7-004044169ba7"
      },
      "source": [
        "# Load dataset and check first entry\n",
        "stem_data = pickle.load(open('Stemmed.pkl','rb'))\n",
        "print(stem_data[0])"
      ],
      "execution_count": null,
      "outputs": [
        {
          "output_type": "stream",
          "text": [
            "car wonder enlighten car saw dai door sport car look late earli call bricklin door small addit bumper separ rest bodi know tellm model engin spec year product car histori info funki look car mail thank\n"
          ],
          "name": "stdout"
        }
      ]
    },
    {
      "cell_type": "code",
      "metadata": {
        "id": "Y0O15DGnvWuD"
      },
      "source": [
        "# Generate a corpus of splitted texts\n",
        "corpus_gen=[doc.split() for doc in stem_data]"
      ],
      "execution_count": null,
      "outputs": []
    },
    {
      "cell_type": "markdown",
      "metadata": {
        "id": "ox8jVzXp1UJf"
      },
      "source": [
        "### **Part 1: Word2vec**\n",
        "5. Run the following code. What is it doing?"
      ]
    },
    {
      "cell_type": "code",
      "metadata": {
        "id": "s3pUNwKwvwI8",
        "colab": {
          "base_uri": "https://localhost:8080/",
          "height": 71
        },
        "outputId": "fe27e597-4565-47d8-ba9b-2a48dd1c97cf"
      },
      "source": [
        "# Initializing the semi-trained model\n",
        "path = get_tmpfile(\"word2vec.model\")\n",
        "\n",
        "# Applying the word2vec vectorization in the corpus\n",
        "model = Word2Vec(corpus_gen, size=100, min_count=566)\n",
        "model.save(\"word2vec.model\")"
      ],
      "execution_count": null,
      "outputs": [
        {
          "output_type": "stream",
          "text": [
            "/usr/local/lib/python3.6/dist-packages/smart_open/smart_open_lib.py:254: UserWarning: This function is deprecated, use smart_open.open instead. See the migration notes for details: https://github.com/RaRe-Technologies/smart_open/blob/master/README.rst#migrating-to-the-new-open-function\n",
            "  'See the migration notes for details: %s' % _MIGRATION_NOTES_URL\n"
          ],
          "name": "stderr"
        }
      ]
    },
    {
      "cell_type": "markdown",
      "metadata": {
        "id": "LpgR4CFl1zGo"
      },
      "source": [
        "*The 100 is size is the nodes in the hidden layer.*\n",
        "\n",
        "### Size is how big the embedding is"
      ]
    },
    {
      "cell_type": "markdown",
      "metadata": {
        "id": "BMJMD5mC1eKT"
      },
      "source": [
        "6. Print the sorted features of the model using model.wv.vocab.keys(). Compare them with those from Exercise 3."
      ]
    },
    {
      "cell_type": "code",
      "metadata": {
        "id": "_skNc92dwCwV",
        "colab": {
          "base_uri": "https://localhost:8080/",
          "height": 71
        },
        "outputId": "5dc787e8-c69b-48c6-8256-e22677db8ee8"
      },
      "source": [
        "# Sorting the features\n",
        "w2v_features = model.wv.vocab.keys()\n",
        "print(sorted(w2v_features))\n",
        "print(\"Number of features: \" + str(len(w2v_features)))"
      ],
      "execution_count": null,
      "outputs": [
        {
          "output_type": "stream",
          "text": [
            "['abl', 'accept', 'access', 'act', 'action', 'activ', 'actual', 'addit', 'address', 'advanc', 'ago', 'agre', 'allow', 'american', 'anonym', 'answer', 'anybodi', 'appear', 'appl', 'appli', 'applic', 'appreci', 'apr', 'april', 'arab', 'area', 'argument', 'arm', 'armenian', 'articl', 'ask', 'assum', 'atheist', 'attack', 'author', 'avail', 'awai', 'bad', 'base', 'basic', 'believ', 'best', 'better', 'bibl', 'big', 'bike', 'bit', 'black', 'board', 'bodi', 'book', 'box', 'bui', 'build', 'busi', 'call', 'came', 'car', 'card', 'care', 'carri', 'case', 'caus', 'center', 'certain', 'certainli', 'chang', 'check', 'children', 'chip', 'christ', 'christian', 'church', 'citi', 'claim', 'clear', 'clinton', 'clipper', 'close', 'code', 'color', 'com', 'come', 'command', 'comment', 'commun', 'compani', 'compar', 'complet', 'concern', 'connect', 'consid', 'contact', 'contain', 'continu', 'control', 'convert', 'copi', 'correct', 'cost', 'countri', 'coupl', 'cours', 'cover', 'creat', 'crime', 'current', 'dai', 'data', 'date', 'david', 'deal', 'death', 'decid', 'defens', 'defin', 'definit', 'design', 'develop', 'devic', 'differ', 'direct', 'discuss', 'disk', 'displai', 'do', 'document', 'drive', 'driver', 'drug', 'earth', 'edu', 'effect', 'email', 'encrypt', 'end', 'engin', 'entri', 'error', 'event', 'evid', 'exampl', 'exist', 'expect', 'experi', 'explain', 'face', 'fact', 'faith', 'faq', 'far', 'fast', 'fax', 'feel', 'figur', 'file', 'final', 'follow', 'forc', 'form', 'format', 'free', 'friend', 'ftp', 'function', 'game', 'gener', 'get', 'give', 'given', 'go', 'goal', 'god', 'good', 'got', 'gov', 'govern', 'graphic', 'great', 'ground', 'group', 'guess', 'gui', 'gun', 'hand', 'happen', 'hard', 'hardwar', 'have', 'head', 'hear', 'heard', 'hell', 'help', 'high', 'histori', 'hit', 'hockei', 'hold', 'home', 'hope', 'hous', 'human', 'ibm', 'idea', 'imag', 'import', 'includ', 'individu', 'info', 'inform', 'instal', 'instead', 'interest', 'intern', 'internet', 'involv', 'isn', 'isra', 'israel', 'issu', 'jesu', 'jew', 'jewish', 'job', 'john', 'kei', 'kill', 'kind', 'know', 'known', 'land', 'larg', 'later', 'law', 'lead', 'learn', 'leav', 'left', 'legal', 'let', 'level', 'life', 'light', 'like', 'limit', 'line', 'list', 'littl', 'live', 'local', 'long', 'look', 'lot', 'love', 'low', 'mac', 'machin', 'mail', 'major', 'make', 'man', 'manag', 'mark', 'matter', 'max', 'mayb', 'mean', 'member', 'memori', 'men', 'mention', 'messag', 'michael', 'mike', 'mind', 'mit', 'mode', 'model', 'monei', 'monitor', 'month', 'moral', 'nasa', 'nation', 'natur', 'need', 'net', 'netcom', 'network', 'new', 'nice', 'non', 'note', 'number', 'object', 'offer', 'offic', 'old', 'open', 'oper', 'opinion', 'option', 'order', 'org', 'organ', 'origin', 'output', 'packag', 'pai', 'pass', 'paul', 'peopl', 'perform', 'period', 'person', 'phone', 'place', 'plai', 'plan', 'player', 'point', 'polic', 'polit', 'posit', 'possibl', 'post', 'power', 'present', 'presid', 'press', 'pretti', 'price', 'privat', 'probabl', 'problem', 'process', 'product', 'program', 'project', 'propos', 'protect', 'provid', 'pub', 'public', 'purpos', 'question', 'quot', 'rate', 'read', 'real', 'reason', 'receiv', 'recent', 'record', 'refer', 'relat', 'releas', 'religion', 'rememb', 'repli', 'report', 'request', 'requir', 'research', 'respons', 'result', 'return', 'right', 'road', 'rule', 'run', 'sai', 'said', 'sale', 'save', 'saw', 'school', 'scienc', 'screen', 'scsi', 'season', 'second', 'secur', 'seen', 'sell', 'send', 'sens', 'server', 'servic', 'set', 'show', 'similar', 'simpli', 'singl', 'site', 'situat', 'size', 'small', 'softwar', 'sort', 'sound', 'sourc', 'space', 'speak', 'specif', 'speed', 'stand', 'standard', 'start', 'state', 'statement', 'steve', 'stop', 'studi', 'stuff', 'subject', 'suggest', 'sun', 'support', 'suppos', 'sure', 'system', 'take', 'talk', 'team', 'technolog', 'tell', 'term', 'test', 'text', 'thank', 'thing', 'think', 'thought', 'time', 'todai', 'told', 'took', 'total', 'tri', 'true', 'truth', 'try', 'turkish', 'turn', 'type', 'understand', 'unit', 'univers', 'us', 'user', 'usual', 'uucp', 'valu', 'version', 'video', 'view', 'wai', 'want', 'war', 'washington', 'weapon', 'week', 'went', 'white', 'win', 'window', 'won', 'wonder', 'word', 'work', 'world', 'wouldn', 'write', 'wrong', 'wrote', 'ye', 'year']\n",
            "Number of features: 479\n"
          ],
          "name": "stdout"
        }
      ]
    },
    {
      "cell_type": "markdown",
      "metadata": {
        "id": "sJRTbH5S20wH"
      },
      "source": [
        "We have more features than in Exercise 3 because we didn't specify the maximum"
      ]
    },
    {
      "cell_type": "markdown",
      "metadata": {
        "id": "NsLiM0fP1Kv1"
      },
      "source": [
        "7. Show model.wv['car']. What is it doing? Why does it have this size?"
      ]
    },
    {
      "cell_type": "code",
      "metadata": {
        "id": "2ILj0gAtwQrI",
        "colab": {
          "base_uri": "https://localhost:8080/",
          "height": 374
        },
        "outputId": "96052c6d-84ca-435a-8308-7f981e945b5e"
      },
      "source": [
        "#This is showing the vectors of car \n",
        "model.wv['car']"
      ],
      "execution_count": null,
      "outputs": [
        {
          "output_type": "execute_result",
          "data": {
            "text/plain": [
              "array([-0.14637282,  0.98556244,  1.6013836 , -0.03132056, -0.5604003 ,\n",
              "       -0.81393015, -1.30699   ,  0.21027012,  1.0483739 , -0.9911072 ,\n",
              "       -0.05815872, -0.8272026 ,  1.2839276 ,  0.45224813, -0.103787  ,\n",
              "        0.2672654 , -0.2948971 , -0.14477168, -1.1630518 , -0.17413844,\n",
              "        1.0117905 ,  0.25145894,  1.2817863 ,  0.4804006 , -1.0387725 ,\n",
              "       -2.2523549 ,  0.24814583,  1.8395394 , -0.08427715, -0.24417557,\n",
              "        0.9415932 , -0.6933158 , -0.15570147,  1.0521992 ,  0.2688034 ,\n",
              "        1.4255916 , -0.4079378 ,  0.11174265,  0.40249506,  0.6500152 ,\n",
              "       -0.20325631,  1.0814307 ,  0.24425259,  0.12754859, -0.17260498,\n",
              "       -0.65929645,  0.8306198 , -0.444138  , -1.4689739 , -1.2078575 ,\n",
              "       -0.6934617 ,  1.1964586 , -2.0705087 ,  1.5931517 , -2.300306  ,\n",
              "       -0.58168894,  0.39446354,  0.8557328 ,  0.20158881, -1.6523231 ,\n",
              "        1.2672195 ,  1.0935109 , -1.1118063 ,  1.2197587 , -0.31890464,\n",
              "        0.5593808 , -0.28223276, -1.071275  ,  0.31821355, -1.0361819 ,\n",
              "       -0.09527422,  0.68054503,  0.8653995 , -0.35804924, -1.0656903 ,\n",
              "        0.2896365 ,  0.06009559,  0.00360442, -0.0562949 ,  0.1638408 ,\n",
              "       -0.32825762, -1.0018731 , -0.9607471 ,  0.9711187 ,  0.18540731,\n",
              "       -1.400145  , -0.06593686,  1.6969222 , -0.366621  ,  0.93711567,\n",
              "       -1.4221071 , -0.80012614, -0.19383965,  0.847684  , -1.0333345 ,\n",
              "        0.5864267 ,  1.0551023 ,  0.47802645, -0.41996473,  0.05307365],\n",
              "      dtype=float32)"
            ]
          },
          "metadata": {
            "tags": []
          },
          "execution_count": 7
        }
      ]
    },
    {
      "cell_type": "markdown",
      "metadata": {
        "id": "HBYYxyrljoTM"
      },
      "source": [
        "### It has that size because we specify it when initializing the model"
      ]
    },
    {
      "cell_type": "markdown",
      "metadata": {
        "id": "hgiu574A1kYv"
      },
      "source": [
        "8. Run model.wv.most_similar('car'). Does the result make sense?"
      ]
    },
    {
      "cell_type": "code",
      "metadata": {
        "id": "zm40biG-wVMQ",
        "colab": {
          "base_uri": "https://localhost:8080/",
          "height": 241
        },
        "outputId": "30479740-6f4a-4a57-b502-513001deb5c5"
      },
      "source": [
        "# With this we get the similar words of car\n",
        "model.wv.most_similar('car')"
      ],
      "execution_count": null,
      "outputs": [
        {
          "output_type": "stream",
          "text": [
            "/usr/local/lib/python3.6/dist-packages/gensim/matutils.py:737: FutureWarning: Conversion of the second argument of issubdtype from `int` to `np.signedinteger` is deprecated. In future, it will be treated as `np.int64 == np.dtype(int).type`.\n",
            "  if np.issubdtype(vec.dtype, np.int):\n"
          ],
          "name": "stderr"
        },
        {
          "output_type": "execute_result",
          "data": {
            "text/plain": [
              "[('bike', 0.6594415903091431),\n",
              " ('bui', 0.5785438418388367),\n",
              " ('nice', 0.5288523435592651),\n",
              " ('road', 0.511917769908905),\n",
              " ('fast', 0.4591946303844452),\n",
              " ('price', 0.45437362790107727),\n",
              " ('friend', 0.45134100317955017),\n",
              " ('pai', 0.4461021423339844),\n",
              " ('speed', 0.43983107805252075),\n",
              " ('sell', 0.43869104981422424)]"
            ]
          },
          "metadata": {
            "tags": []
          },
          "execution_count": 9
        }
      ]
    },
    {
      "cell_type": "markdown",
      "metadata": {
        "id": "yvWQU39_3Laq"
      },
      "source": [
        "*Is there a threshold?? of a very similar cosine distance?*\n",
        "\n",
        "### The result make sense to some extend, showing us bike, speed and road as similar to car"
      ]
    },
    {
      "cell_type": "markdown",
      "metadata": {
        "id": "t3mgAs_21mzr"
      },
      "source": [
        "9. Run model.wv.most_similar(positive=['bike', 'engin'], topn=1). What is it doing? Test other combinations.\n"
      ]
    },
    {
      "cell_type": "code",
      "metadata": {
        "id": "N3SrX6CMwcqA",
        "colab": {
          "base_uri": "https://localhost:8080/",
          "height": 88
        },
        "outputId": "da138663-a98a-4db0-e609-9ab9418f2f22"
      },
      "source": [
        "#This is getting most similar word to bike and engin, like a synonym\n",
        "model.wv.most_similar(positive=['bike', 'engin'], topn=1)"
      ],
      "execution_count": null,
      "outputs": [
        {
          "output_type": "stream",
          "text": [
            "/usr/local/lib/python3.6/dist-packages/gensim/matutils.py:737: FutureWarning: Conversion of the second argument of issubdtype from `int` to `np.signedinteger` is deprecated. In future, it will be treated as `np.int64 == np.dtype(int).type`.\n",
            "  if np.issubdtype(vec.dtype, np.int):\n"
          ],
          "name": "stderr"
        },
        {
          "output_type": "execute_result",
          "data": {
            "text/plain": [
              "[('car', 0.6377220153808594)]"
            ]
          },
          "metadata": {
            "tags": []
          },
          "execution_count": 10
        }
      ]
    },
    {
      "cell_type": "code",
      "metadata": {
        "id": "f7lwOJwZgfS-",
        "colab": {
          "base_uri": "https://localhost:8080/",
          "height": 88
        },
        "outputId": "e6e571ff-e447-4617-9b40-c9c5d3637f27"
      },
      "source": [
        "#This is getting most similar word to attack and bad\n",
        "model.wv.most_similar(positive=['attack', 'bad'], topn=1)"
      ],
      "execution_count": null,
      "outputs": [
        {
          "output_type": "stream",
          "text": [
            "/usr/local/lib/python3.6/dist-packages/gensim/matutils.py:737: FutureWarning: Conversion of the second argument of issubdtype from `int` to `np.signedinteger` is deprecated. In future, it will be treated as `np.int64 == np.dtype(int).type`.\n",
            "  if np.issubdtype(vec.dtype, np.int):\n"
          ],
          "name": "stderr"
        },
        {
          "output_type": "execute_result",
          "data": {
            "text/plain": [
              "[('stop', 0.7145868539810181)]"
            ]
          },
          "metadata": {
            "tags": []
          },
          "execution_count": 11
        }
      ]
    },
    {
      "cell_type": "code",
      "metadata": {
        "id": "_wnTjZ6pgq2q",
        "colab": {
          "base_uri": "https://localhost:8080/",
          "height": 88
        },
        "outputId": "6e44135f-e14c-4658-e9fe-2281474ca42f"
      },
      "source": [
        "#This is getting less similar word to attack and bad, like antonym\n",
        "model.wv.most_similar(negative=['attack', 'bad'], topn=1)"
      ],
      "execution_count": null,
      "outputs": [
        {
          "output_type": "stream",
          "text": [
            "/usr/local/lib/python3.6/dist-packages/gensim/matutils.py:737: FutureWarning: Conversion of the second argument of issubdtype from `int` to `np.signedinteger` is deprecated. In future, it will be treated as `np.int64 == np.dtype(int).type`.\n",
            "  if np.issubdtype(vec.dtype, np.int):\n"
          ],
          "name": "stderr"
        },
        {
          "output_type": "execute_result",
          "data": {
            "text/plain": [
              "[('info', 0.5327364206314087)]"
            ]
          },
          "metadata": {
            "tags": []
          },
          "execution_count": 12
        }
      ]
    },
    {
      "cell_type": "code",
      "metadata": {
        "id": "Tg7D0zONg3ph",
        "colab": {
          "base_uri": "https://localhost:8080/",
          "height": 88
        },
        "outputId": "c01b3f5f-76ba-4aee-9095-861d10f94627"
      },
      "source": [
        "#This is getting less similar word to correct\n",
        "model.wv.most_similar(positive=['correct'], topn=1)"
      ],
      "execution_count": null,
      "outputs": [
        {
          "output_type": "stream",
          "text": [
            "/usr/local/lib/python3.6/dist-packages/gensim/matutils.py:737: FutureWarning: Conversion of the second argument of issubdtype from `int` to `np.signedinteger` is deprecated. In future, it will be treated as `np.int64 == np.dtype(int).type`.\n",
            "  if np.issubdtype(vec.dtype, np.int):\n"
          ],
          "name": "stderr"
        },
        {
          "output_type": "execute_result",
          "data": {
            "text/plain": [
              "[('error', 0.6655834317207336)]"
            ]
          },
          "metadata": {
            "tags": []
          },
          "execution_count": 13
        }
      ]
    },
    {
      "cell_type": "markdown",
      "metadata": {
        "id": "M1zJmcuUkOkz"
      },
      "source": [
        "It works quite good"
      ]
    },
    {
      "cell_type": "markdown",
      "metadata": {
        "id": "AT-hn9y61qGH"
      },
      "source": [
        "10. Generate a corpus as a list, where for each document the list entry consists of the list of word2vec embeddings of the words in this document. \n",
        "\n",
        "> Remove from it the empty documents. Why were those generated?"
      ]
    },
    {
      "cell_type": "code",
      "metadata": {
        "id": "PjbAaVbZ1vYU"
      },
      "source": [
        "corpus_lst = []\n",
        "empty_docs = []\n",
        "index_list = []\n",
        "\n",
        "for d in range(len(corpus_gen)):  #d as in doc\n",
        "  embd_lst = []  #list of embeddings\n",
        "  \n",
        "  for w in corpus_gen[d]:   #w as in word\n",
        "    try:\n",
        "      embd_lst.append(model.wv[w])\n",
        "    except:\n",
        "      pass\n",
        "\n",
        "  #checking if doc is empty  \n",
        "  if len(embd_lst) != 0:\n",
        "    corpus_lst.append(embd_lst)\n",
        "    index_list.append(d)\n",
        "  else:\n",
        "    #to have the index of empty docs\n",
        "    empty_docs.append(d)\n"
      ],
      "execution_count": null,
      "outputs": []
    },
    {
      "cell_type": "code",
      "metadata": {
        "id": "e2--xhpZliLH",
        "colab": {
          "base_uri": "https://localhost:8080/",
          "height": 34
        },
        "outputId": "84e36ef6-96fd-46e9-9a3b-46cc6ce7af2e"
      },
      "source": [
        "print(empty_docs)"
      ],
      "execution_count": null,
      "outputs": [
        {
          "output_type": "stream",
          "text": [
            "[800, 1015, 1410, 1636, 3682, 4474, 4829, 6294, 6303, 6324, 7709, 8076, 9622, 9989]\n"
          ],
          "name": "stdout"
        }
      ]
    },
    {
      "cell_type": "code",
      "metadata": {
        "id": "_zCmBpy-iq2i",
        "colab": {
          "base_uri": "https://localhost:8080/",
          "height": 34
        },
        "outputId": "2bfbe1d5-9807-47fa-f455-1da0641d4344"
      },
      "source": [
        "len(corpus_lst)"
      ],
      "execution_count": null,
      "outputs": [
        {
          "output_type": "execute_result",
          "data": {
            "text/plain": [
              "11300"
            ]
          },
          "metadata": {
            "tags": []
          },
          "execution_count": 17
        }
      ]
    },
    {
      "cell_type": "markdown",
      "metadata": {
        "id": "NPcobQtUukVE"
      },
      "source": [
        "\n",
        "> Aggregate the values at a document level (i.e., one embedding per document) by averaging the word embeddings. "
      ]
    },
    {
      "cell_type": "code",
      "metadata": {
        "id": "anXzigOcrrTO",
        "colab": {
          "base_uri": "https://localhost:8080/",
          "height": 34
        },
        "outputId": "1d3e271e-1ab4-44a6-ad51-1ca7f350bbfd"
      },
      "source": [
        "avg_corpus_lst = [sum(d) / len(d) for d in corpus_lst]\n",
        "print(len(avg_corpus_lst))"
      ],
      "execution_count": null,
      "outputs": [
        {
          "output_type": "stream",
          "text": [
            "11300\n"
          ],
          "name": "stdout"
        }
      ]
    },
    {
      "cell_type": "markdown",
      "metadata": {
        "id": "I2kYdtY1umy8"
      },
      "source": [
        "\n",
        "> Store the result for all documents in a data frame."
      ]
    },
    {
      "cell_type": "code",
      "metadata": {
        "id": "Txu_eEJ2uppp",
        "colab": {
          "base_uri": "https://localhost:8080/",
          "height": 253
        },
        "outputId": "e135470f-f077-4b7e-e80f-712f0281dd4c"
      },
      "source": [
        "#using index_list to keep the original index from the corpus\n",
        "w2v_df = pd.DataFrame(avg_corpus_lst, index=index_list)\n",
        "w2v_df.head()"
      ],
      "execution_count": null,
      "outputs": [
        {
          "output_type": "execute_result",
          "data": {
            "text/html": [
              "<div>\n",
              "<style scoped>\n",
              "    .dataframe tbody tr th:only-of-type {\n",
              "        vertical-align: middle;\n",
              "    }\n",
              "\n",
              "    .dataframe tbody tr th {\n",
              "        vertical-align: top;\n",
              "    }\n",
              "\n",
              "    .dataframe thead th {\n",
              "        text-align: right;\n",
              "    }\n",
              "</style>\n",
              "<table border=\"1\" class=\"dataframe\">\n",
              "  <thead>\n",
              "    <tr style=\"text-align: right;\">\n",
              "      <th></th>\n",
              "      <th>0</th>\n",
              "      <th>1</th>\n",
              "      <th>2</th>\n",
              "      <th>3</th>\n",
              "      <th>4</th>\n",
              "      <th>5</th>\n",
              "      <th>6</th>\n",
              "      <th>7</th>\n",
              "      <th>8</th>\n",
              "      <th>9</th>\n",
              "      <th>10</th>\n",
              "      <th>11</th>\n",
              "      <th>12</th>\n",
              "      <th>13</th>\n",
              "      <th>14</th>\n",
              "      <th>15</th>\n",
              "      <th>16</th>\n",
              "      <th>17</th>\n",
              "      <th>18</th>\n",
              "      <th>19</th>\n",
              "      <th>20</th>\n",
              "      <th>21</th>\n",
              "      <th>22</th>\n",
              "      <th>23</th>\n",
              "      <th>24</th>\n",
              "      <th>25</th>\n",
              "      <th>26</th>\n",
              "      <th>27</th>\n",
              "      <th>28</th>\n",
              "      <th>29</th>\n",
              "      <th>30</th>\n",
              "      <th>31</th>\n",
              "      <th>32</th>\n",
              "      <th>33</th>\n",
              "      <th>34</th>\n",
              "      <th>35</th>\n",
              "      <th>36</th>\n",
              "      <th>37</th>\n",
              "      <th>38</th>\n",
              "      <th>39</th>\n",
              "      <th>...</th>\n",
              "      <th>60</th>\n",
              "      <th>61</th>\n",
              "      <th>62</th>\n",
              "      <th>63</th>\n",
              "      <th>64</th>\n",
              "      <th>65</th>\n",
              "      <th>66</th>\n",
              "      <th>67</th>\n",
              "      <th>68</th>\n",
              "      <th>69</th>\n",
              "      <th>70</th>\n",
              "      <th>71</th>\n",
              "      <th>72</th>\n",
              "      <th>73</th>\n",
              "      <th>74</th>\n",
              "      <th>75</th>\n",
              "      <th>76</th>\n",
              "      <th>77</th>\n",
              "      <th>78</th>\n",
              "      <th>79</th>\n",
              "      <th>80</th>\n",
              "      <th>81</th>\n",
              "      <th>82</th>\n",
              "      <th>83</th>\n",
              "      <th>84</th>\n",
              "      <th>85</th>\n",
              "      <th>86</th>\n",
              "      <th>87</th>\n",
              "      <th>88</th>\n",
              "      <th>89</th>\n",
              "      <th>90</th>\n",
              "      <th>91</th>\n",
              "      <th>92</th>\n",
              "      <th>93</th>\n",
              "      <th>94</th>\n",
              "      <th>95</th>\n",
              "      <th>96</th>\n",
              "      <th>97</th>\n",
              "      <th>98</th>\n",
              "      <th>99</th>\n",
              "    </tr>\n",
              "  </thead>\n",
              "  <tbody>\n",
              "    <tr>\n",
              "      <th>0</th>\n",
              "      <td>0.115746</td>\n",
              "      <td>0.346055</td>\n",
              "      <td>0.491456</td>\n",
              "      <td>0.121413</td>\n",
              "      <td>0.079659</td>\n",
              "      <td>-0.116975</td>\n",
              "      <td>-0.174135</td>\n",
              "      <td>-0.119210</td>\n",
              "      <td>0.371539</td>\n",
              "      <td>-0.150262</td>\n",
              "      <td>-0.186835</td>\n",
              "      <td>-0.564306</td>\n",
              "      <td>0.392212</td>\n",
              "      <td>0.178459</td>\n",
              "      <td>-0.043869</td>\n",
              "      <td>0.044449</td>\n",
              "      <td>0.035643</td>\n",
              "      <td>0.248571</td>\n",
              "      <td>-0.375743</td>\n",
              "      <td>0.064097</td>\n",
              "      <td>0.114127</td>\n",
              "      <td>0.281326</td>\n",
              "      <td>0.453258</td>\n",
              "      <td>0.196232</td>\n",
              "      <td>-0.148341</td>\n",
              "      <td>-0.436081</td>\n",
              "      <td>-0.092475</td>\n",
              "      <td>0.664568</td>\n",
              "      <td>-0.140854</td>\n",
              "      <td>0.006391</td>\n",
              "      <td>0.346249</td>\n",
              "      <td>-0.198806</td>\n",
              "      <td>0.105210</td>\n",
              "      <td>0.565256</td>\n",
              "      <td>0.357739</td>\n",
              "      <td>0.435850</td>\n",
              "      <td>0.064172</td>\n",
              "      <td>-0.166957</td>\n",
              "      <td>0.092945</td>\n",
              "      <td>0.179849</td>\n",
              "      <td>...</td>\n",
              "      <td>0.265036</td>\n",
              "      <td>0.407790</td>\n",
              "      <td>-0.144942</td>\n",
              "      <td>0.370585</td>\n",
              "      <td>-0.149648</td>\n",
              "      <td>0.104838</td>\n",
              "      <td>-0.401898</td>\n",
              "      <td>-0.284797</td>\n",
              "      <td>0.242510</td>\n",
              "      <td>-0.415179</td>\n",
              "      <td>-0.142128</td>\n",
              "      <td>0.204276</td>\n",
              "      <td>0.112435</td>\n",
              "      <td>0.080985</td>\n",
              "      <td>-0.546583</td>\n",
              "      <td>0.015049</td>\n",
              "      <td>-0.074467</td>\n",
              "      <td>-0.291051</td>\n",
              "      <td>-0.161736</td>\n",
              "      <td>0.105428</td>\n",
              "      <td>-0.022917</td>\n",
              "      <td>-0.242474</td>\n",
              "      <td>-0.378325</td>\n",
              "      <td>0.309111</td>\n",
              "      <td>0.000134</td>\n",
              "      <td>-0.420909</td>\n",
              "      <td>0.162460</td>\n",
              "      <td>0.614611</td>\n",
              "      <td>0.185027</td>\n",
              "      <td>0.335989</td>\n",
              "      <td>-0.454446</td>\n",
              "      <td>-0.094241</td>\n",
              "      <td>0.098293</td>\n",
              "      <td>0.450260</td>\n",
              "      <td>-0.000921</td>\n",
              "      <td>0.055754</td>\n",
              "      <td>0.350806</td>\n",
              "      <td>0.081844</td>\n",
              "      <td>-0.007381</td>\n",
              "      <td>-0.058043</td>\n",
              "    </tr>\n",
              "    <tr>\n",
              "      <th>1</th>\n",
              "      <td>0.194835</td>\n",
              "      <td>0.044899</td>\n",
              "      <td>0.040681</td>\n",
              "      <td>-0.060655</td>\n",
              "      <td>0.017288</td>\n",
              "      <td>0.054058</td>\n",
              "      <td>0.146961</td>\n",
              "      <td>0.180149</td>\n",
              "      <td>0.010209</td>\n",
              "      <td>0.157936</td>\n",
              "      <td>-0.064834</td>\n",
              "      <td>-0.207949</td>\n",
              "      <td>0.095307</td>\n",
              "      <td>0.464591</td>\n",
              "      <td>0.235780</td>\n",
              "      <td>-0.384986</td>\n",
              "      <td>0.186484</td>\n",
              "      <td>0.026037</td>\n",
              "      <td>0.293431</td>\n",
              "      <td>0.183401</td>\n",
              "      <td>-0.030151</td>\n",
              "      <td>0.304702</td>\n",
              "      <td>0.074193</td>\n",
              "      <td>0.091067</td>\n",
              "      <td>-0.259002</td>\n",
              "      <td>0.248643</td>\n",
              "      <td>-0.436143</td>\n",
              "      <td>-0.122579</td>\n",
              "      <td>-0.337997</td>\n",
              "      <td>-0.064507</td>\n",
              "      <td>-0.172225</td>\n",
              "      <td>-0.264132</td>\n",
              "      <td>-0.033212</td>\n",
              "      <td>0.160498</td>\n",
              "      <td>0.259907</td>\n",
              "      <td>0.191276</td>\n",
              "      <td>0.136686</td>\n",
              "      <td>0.131775</td>\n",
              "      <td>0.287449</td>\n",
              "      <td>0.312058</td>\n",
              "      <td>...</td>\n",
              "      <td>0.284999</td>\n",
              "      <td>0.014143</td>\n",
              "      <td>0.079842</td>\n",
              "      <td>0.401564</td>\n",
              "      <td>0.032416</td>\n",
              "      <td>0.101119</td>\n",
              "      <td>0.037380</td>\n",
              "      <td>-0.072989</td>\n",
              "      <td>0.021628</td>\n",
              "      <td>-0.125201</td>\n",
              "      <td>-0.170204</td>\n",
              "      <td>0.198925</td>\n",
              "      <td>-0.012987</td>\n",
              "      <td>0.339347</td>\n",
              "      <td>-0.586944</td>\n",
              "      <td>0.184637</td>\n",
              "      <td>0.041451</td>\n",
              "      <td>-0.016188</td>\n",
              "      <td>-0.001760</td>\n",
              "      <td>-0.001433</td>\n",
              "      <td>0.155419</td>\n",
              "      <td>0.353284</td>\n",
              "      <td>-0.237219</td>\n",
              "      <td>-0.001307</td>\n",
              "      <td>-0.270063</td>\n",
              "      <td>0.157930</td>\n",
              "      <td>0.421950</td>\n",
              "      <td>-0.058791</td>\n",
              "      <td>-0.101004</td>\n",
              "      <td>0.109225</td>\n",
              "      <td>-0.406577</td>\n",
              "      <td>0.142414</td>\n",
              "      <td>0.033228</td>\n",
              "      <td>0.060010</td>\n",
              "      <td>0.171585</td>\n",
              "      <td>0.146355</td>\n",
              "      <td>-0.187961</td>\n",
              "      <td>-0.084116</td>\n",
              "      <td>-0.019380</td>\n",
              "      <td>0.085351</td>\n",
              "    </tr>\n",
              "    <tr>\n",
              "      <th>2</th>\n",
              "      <td>0.075178</td>\n",
              "      <td>-0.033329</td>\n",
              "      <td>0.172677</td>\n",
              "      <td>0.187888</td>\n",
              "      <td>0.060043</td>\n",
              "      <td>0.051471</td>\n",
              "      <td>0.246902</td>\n",
              "      <td>-0.015402</td>\n",
              "      <td>0.128208</td>\n",
              "      <td>-0.104511</td>\n",
              "      <td>-0.075165</td>\n",
              "      <td>-0.107310</td>\n",
              "      <td>-0.209495</td>\n",
              "      <td>0.186609</td>\n",
              "      <td>0.152026</td>\n",
              "      <td>-0.219980</td>\n",
              "      <td>-0.089289</td>\n",
              "      <td>0.089099</td>\n",
              "      <td>-0.066401</td>\n",
              "      <td>0.118157</td>\n",
              "      <td>0.009739</td>\n",
              "      <td>0.272556</td>\n",
              "      <td>0.127842</td>\n",
              "      <td>0.129828</td>\n",
              "      <td>-0.213406</td>\n",
              "      <td>0.100345</td>\n",
              "      <td>-0.318316</td>\n",
              "      <td>0.066507</td>\n",
              "      <td>0.003315</td>\n",
              "      <td>0.207295</td>\n",
              "      <td>-0.053648</td>\n",
              "      <td>-0.125496</td>\n",
              "      <td>0.194709</td>\n",
              "      <td>0.310627</td>\n",
              "      <td>0.042245</td>\n",
              "      <td>-0.247857</td>\n",
              "      <td>-0.028095</td>\n",
              "      <td>-0.110320</td>\n",
              "      <td>0.149030</td>\n",
              "      <td>0.129186</td>\n",
              "      <td>...</td>\n",
              "      <td>0.202695</td>\n",
              "      <td>0.019816</td>\n",
              "      <td>-0.021175</td>\n",
              "      <td>0.153387</td>\n",
              "      <td>0.188063</td>\n",
              "      <td>-0.055097</td>\n",
              "      <td>-0.413697</td>\n",
              "      <td>-0.099593</td>\n",
              "      <td>-0.003911</td>\n",
              "      <td>-0.176802</td>\n",
              "      <td>-0.062280</td>\n",
              "      <td>0.315230</td>\n",
              "      <td>-0.099425</td>\n",
              "      <td>0.136124</td>\n",
              "      <td>-0.298901</td>\n",
              "      <td>-0.012298</td>\n",
              "      <td>-0.082239</td>\n",
              "      <td>0.036413</td>\n",
              "      <td>-0.166253</td>\n",
              "      <td>0.133600</td>\n",
              "      <td>0.051405</td>\n",
              "      <td>-0.031441</td>\n",
              "      <td>-0.115950</td>\n",
              "      <td>0.267420</td>\n",
              "      <td>-0.270000</td>\n",
              "      <td>0.086568</td>\n",
              "      <td>0.064360</td>\n",
              "      <td>0.100947</td>\n",
              "      <td>0.050668</td>\n",
              "      <td>0.037131</td>\n",
              "      <td>-0.248791</td>\n",
              "      <td>0.025441</td>\n",
              "      <td>0.080475</td>\n",
              "      <td>0.255783</td>\n",
              "      <td>0.180637</td>\n",
              "      <td>-0.068833</td>\n",
              "      <td>0.268717</td>\n",
              "      <td>0.002451</td>\n",
              "      <td>-0.052029</td>\n",
              "      <td>0.015871</td>\n",
              "    </tr>\n",
              "    <tr>\n",
              "      <th>3</th>\n",
              "      <td>-0.077582</td>\n",
              "      <td>0.145228</td>\n",
              "      <td>-0.097053</td>\n",
              "      <td>-0.008064</td>\n",
              "      <td>0.236674</td>\n",
              "      <td>0.174005</td>\n",
              "      <td>0.366116</td>\n",
              "      <td>0.311394</td>\n",
              "      <td>0.175824</td>\n",
              "      <td>0.083834</td>\n",
              "      <td>-0.066011</td>\n",
              "      <td>-0.072930</td>\n",
              "      <td>-0.341688</td>\n",
              "      <td>0.271677</td>\n",
              "      <td>0.404952</td>\n",
              "      <td>-0.589545</td>\n",
              "      <td>0.218617</td>\n",
              "      <td>-0.033446</td>\n",
              "      <td>-0.150516</td>\n",
              "      <td>0.067210</td>\n",
              "      <td>0.116956</td>\n",
              "      <td>0.584135</td>\n",
              "      <td>-0.070125</td>\n",
              "      <td>0.240222</td>\n",
              "      <td>0.188668</td>\n",
              "      <td>-0.058251</td>\n",
              "      <td>-0.244791</td>\n",
              "      <td>0.337257</td>\n",
              "      <td>0.028926</td>\n",
              "      <td>-0.032046</td>\n",
              "      <td>-0.407054</td>\n",
              "      <td>-0.079370</td>\n",
              "      <td>-0.050515</td>\n",
              "      <td>-0.084721</td>\n",
              "      <td>0.333295</td>\n",
              "      <td>-0.047619</td>\n",
              "      <td>0.099733</td>\n",
              "      <td>-0.008626</td>\n",
              "      <td>0.381635</td>\n",
              "      <td>-0.131042</td>\n",
              "      <td>...</td>\n",
              "      <td>0.088898</td>\n",
              "      <td>0.026447</td>\n",
              "      <td>-0.048576</td>\n",
              "      <td>0.105267</td>\n",
              "      <td>0.212922</td>\n",
              "      <td>0.079488</td>\n",
              "      <td>-0.126846</td>\n",
              "      <td>0.169406</td>\n",
              "      <td>-0.066401</td>\n",
              "      <td>-0.114051</td>\n",
              "      <td>-0.190268</td>\n",
              "      <td>-0.066663</td>\n",
              "      <td>-0.001433</td>\n",
              "      <td>0.117705</td>\n",
              "      <td>-0.288064</td>\n",
              "      <td>-0.219889</td>\n",
              "      <td>0.207585</td>\n",
              "      <td>0.099548</td>\n",
              "      <td>-0.034949</td>\n",
              "      <td>0.001419</td>\n",
              "      <td>0.035105</td>\n",
              "      <td>-0.209180</td>\n",
              "      <td>-0.060104</td>\n",
              "      <td>-0.142465</td>\n",
              "      <td>-0.102963</td>\n",
              "      <td>0.154876</td>\n",
              "      <td>0.367982</td>\n",
              "      <td>0.297486</td>\n",
              "      <td>0.168493</td>\n",
              "      <td>0.255885</td>\n",
              "      <td>-0.028961</td>\n",
              "      <td>-0.062082</td>\n",
              "      <td>-0.173889</td>\n",
              "      <td>0.056714</td>\n",
              "      <td>-0.227807</td>\n",
              "      <td>-0.075816</td>\n",
              "      <td>-0.125499</td>\n",
              "      <td>-0.147846</td>\n",
              "      <td>-0.240588</td>\n",
              "      <td>-0.079845</td>\n",
              "    </tr>\n",
              "    <tr>\n",
              "      <th>4</th>\n",
              "      <td>0.008898</td>\n",
              "      <td>0.240865</td>\n",
              "      <td>0.062242</td>\n",
              "      <td>-0.082950</td>\n",
              "      <td>0.127834</td>\n",
              "      <td>0.143931</td>\n",
              "      <td>0.327371</td>\n",
              "      <td>0.282790</td>\n",
              "      <td>0.175498</td>\n",
              "      <td>-0.220475</td>\n",
              "      <td>-0.218737</td>\n",
              "      <td>0.043127</td>\n",
              "      <td>-0.448824</td>\n",
              "      <td>0.182799</td>\n",
              "      <td>0.406757</td>\n",
              "      <td>-0.271944</td>\n",
              "      <td>-0.180451</td>\n",
              "      <td>-0.146458</td>\n",
              "      <td>-0.016162</td>\n",
              "      <td>-0.125024</td>\n",
              "      <td>0.003330</td>\n",
              "      <td>0.286768</td>\n",
              "      <td>0.121201</td>\n",
              "      <td>0.041618</td>\n",
              "      <td>-0.058492</td>\n",
              "      <td>0.166994</td>\n",
              "      <td>-0.355898</td>\n",
              "      <td>-0.208345</td>\n",
              "      <td>0.270745</td>\n",
              "      <td>0.059024</td>\n",
              "      <td>-0.190921</td>\n",
              "      <td>-0.127404</td>\n",
              "      <td>0.006508</td>\n",
              "      <td>-0.278231</td>\n",
              "      <td>-0.004818</td>\n",
              "      <td>-0.434680</td>\n",
              "      <td>-0.037802</td>\n",
              "      <td>0.063300</td>\n",
              "      <td>0.327257</td>\n",
              "      <td>0.193587</td>\n",
              "      <td>...</td>\n",
              "      <td>0.137147</td>\n",
              "      <td>-0.054372</td>\n",
              "      <td>0.066112</td>\n",
              "      <td>0.103271</td>\n",
              "      <td>0.515827</td>\n",
              "      <td>0.114029</td>\n",
              "      <td>-0.101729</td>\n",
              "      <td>0.043100</td>\n",
              "      <td>0.182746</td>\n",
              "      <td>-0.044693</td>\n",
              "      <td>0.035732</td>\n",
              "      <td>0.134505</td>\n",
              "      <td>-0.199799</td>\n",
              "      <td>0.021799</td>\n",
              "      <td>-0.127459</td>\n",
              "      <td>0.088038</td>\n",
              "      <td>0.045424</td>\n",
              "      <td>0.140401</td>\n",
              "      <td>-0.077744</td>\n",
              "      <td>0.053173</td>\n",
              "      <td>-0.088336</td>\n",
              "      <td>-0.069454</td>\n",
              "      <td>-0.238761</td>\n",
              "      <td>-0.316477</td>\n",
              "      <td>0.016533</td>\n",
              "      <td>0.313346</td>\n",
              "      <td>0.400096</td>\n",
              "      <td>0.137363</td>\n",
              "      <td>-0.203706</td>\n",
              "      <td>-0.084819</td>\n",
              "      <td>-0.128551</td>\n",
              "      <td>-0.149213</td>\n",
              "      <td>-0.229851</td>\n",
              "      <td>0.123029</td>\n",
              "      <td>0.077479</td>\n",
              "      <td>-0.153982</td>\n",
              "      <td>-0.167638</td>\n",
              "      <td>0.019885</td>\n",
              "      <td>-0.047679</td>\n",
              "      <td>-0.063191</td>\n",
              "    </tr>\n",
              "  </tbody>\n",
              "</table>\n",
              "<p>5 rows × 100 columns</p>\n",
              "</div>"
            ],
            "text/plain": [
              "         0         1         2   ...        97        98        99\n",
              "0  0.115746  0.346055  0.491456  ...  0.081844 -0.007381 -0.058043\n",
              "1  0.194835  0.044899  0.040681  ... -0.084116 -0.019380  0.085351\n",
              "2  0.075178 -0.033329  0.172677  ...  0.002451 -0.052029  0.015871\n",
              "3 -0.077582  0.145228 -0.097053  ... -0.147846 -0.240588 -0.079845\n",
              "4  0.008898  0.240865  0.062242  ...  0.019885 -0.047679 -0.063191\n",
              "\n",
              "[5 rows x 100 columns]"
            ]
          },
          "metadata": {
            "tags": []
          },
          "execution_count": 19
        }
      ]
    },
    {
      "cell_type": "markdown",
      "metadata": {
        "id": "UbxDozyt1uA_"
      },
      "source": [
        "11. Find the most similar words to the embedding representing the first document from 10. \n",
        "\n",
        "\n",
        "> Also cosine() to determine the document on the corpus most similar to it.\n",
        "\n"
      ]
    },
    {
      "cell_type": "code",
      "metadata": {
        "id": "PFNOItPnwh6A",
        "colab": {
          "base_uri": "https://localhost:8080/",
          "height": 156
        },
        "outputId": "45bb59d5-f4d3-4679-dc3f-d6e9f9fac68d"
      },
      "source": [
        "#it gets the similarity by vector that has to be in a numpy array\n",
        "model.wv.similar_by_vector(w2v_df.iloc[0,:].to_numpy(), topn=5)"
      ],
      "execution_count": null,
      "outputs": [
        {
          "output_type": "stream",
          "text": [
            "/usr/local/lib/python3.6/dist-packages/gensim/matutils.py:737: FutureWarning: Conversion of the second argument of issubdtype from `int` to `np.signedinteger` is deprecated. In future, it will be treated as `np.int64 == np.dtype(int).type`.\n",
            "  if np.issubdtype(vec.dtype, np.int):\n"
          ],
          "name": "stderr"
        },
        {
          "output_type": "execute_result",
          "data": {
            "text/plain": [
              "[('car', 0.8723206520080566),\n",
              " ('nice', 0.5938571691513062),\n",
              " ('bike', 0.5845675468444824),\n",
              " ('bui', 0.5576478242874146),\n",
              " ('look', 0.5467740297317505)]"
            ]
          },
          "metadata": {
            "tags": []
          },
          "execution_count": 20
        }
      ]
    },
    {
      "cell_type": "code",
      "metadata": {
        "id": "HKM3KPgPwoMi",
        "colab": {
          "base_uri": "https://localhost:8080/",
          "height": 34
        },
        "outputId": "98835858-a64c-440c-8693-37e8b650408c"
      },
      "source": [
        "#cosine(w2v_df[:1])\n",
        "similar_docs = cdist(w2v_df[:1], w2v_df, metric='cosine')\n",
        "print(similar_docs)"
      ],
      "execution_count": null,
      "outputs": [
        {
          "output_type": "stream",
          "text": [
            "[[0.         0.65077947 0.50877886 ... 0.86396651 1.09012187 0.46563418]]\n"
          ],
          "name": "stdout"
        }
      ]
    },
    {
      "cell_type": "code",
      "metadata": {
        "id": "4R9etPYSym_L",
        "colab": {
          "base_uri": "https://localhost:8080/",
          "height": 34
        },
        "outputId": "f1879216-049a-4612-d65d-0143433a0e80"
      },
      "source": [
        "import numpy as np\n",
        "print(np.argmax(similar_docs))"
      ],
      "execution_count": null,
      "outputs": [
        {
          "output_type": "stream",
          "text": [
            "6490\n"
          ],
          "name": "stdout"
        }
      ]
    },
    {
      "cell_type": "code",
      "metadata": {
        "id": "01NtwDQpzfz4",
        "colab": {
          "base_uri": "https://localhost:8080/",
          "height": 71
        },
        "outputId": "25e252ac-3532-449e-9151-2f8c661c55c6"
      },
      "source": [
        "most_similar = w2v_df.index[np.argmax(similar_docs)]\n",
        "print(most_similar)\n",
        "print(stem_data[most_similar])"
      ],
      "execution_count": null,
      "outputs": [
        {
          "output_type": "stream",
          "text": [
            "6500\n",
            "inimit rushdi articl dbstu dbstu benedikt rosenau write assum religi law follow religion beg question religion right defin follow offend disagre religi law appli categor belong religion event judg appli prevent situat member religion charg claim member religion free happen gregg\n"
          ],
          "name": "stdout"
        }
      ]
    },
    {
      "cell_type": "markdown",
      "metadata": {
        "id": "teq6ymg50H0R"
      },
      "source": [
        "### Part 2: Doc2vec\n",
        "12. Run gensim doc2vec model on corpus_gen (vector_size=100, min_count=566). (Note: Doc2vec requires tagged documents). \n",
        "\n",
        "Determine the embedding representation for the first document as well as the document in the dataset most similar to it. \n",
        "\n",
        "Compare it to the result in 11. "
      ]
    },
    {
      "cell_type": "code",
      "metadata": {
        "id": "7gWUvgeozWie"
      },
      "source": [
        " docs = [TaggedDocument(doc, [i]) for i, doc in enumerate(corpus_gen)]\n",
        " model_d2v = Doc2Vec(docs, vector_size=100, min_count=566)"
      ],
      "execution_count": null,
      "outputs": []
    },
    {
      "cell_type": "code",
      "metadata": {
        "id": "WkzWJ_Jn1RSL",
        "colab": {
          "base_uri": "https://localhost:8080/",
          "height": 374
        },
        "outputId": "79aa6969-2627-49d8-bc2a-1793422374c3"
      },
      "source": [
        "model_d2v[0] "
      ],
      "execution_count": null,
      "outputs": [
        {
          "output_type": "execute_result",
          "data": {
            "text/plain": [
              "array([-0.00769571,  0.02575505,  0.02223225,  0.01527679, -0.01356297,\n",
              "        0.00489009,  0.02474311, -0.03643313,  0.04081266, -0.02772816,\n",
              "        0.02970245, -0.05956564, -0.0211523 ,  0.03362303,  0.04612701,\n",
              "       -0.04549494,  0.02226132,  0.01454111, -0.03628159, -0.0172617 ,\n",
              "       -0.01569478,  0.01674451,  0.02569687,  0.01674143,  0.04677236,\n",
              "        0.07242755, -0.02726835,  0.06624119, -0.03433381,  0.05977648,\n",
              "        0.01317966,  0.00062943,  0.00960542,  0.02635494,  0.05932525,\n",
              "        0.01350342,  0.00621799, -0.05047704,  0.00494697,  0.02962803,\n",
              "       -0.00451402, -0.04295325,  0.08832821,  0.09198774,  0.04377612,\n",
              "       -0.01548638,  0.0547283 , -0.01762848, -0.05057545, -0.01462605,\n",
              "        0.00014163,  0.00074124, -0.03490152,  0.04129788, -0.03654723,\n",
              "       -0.02234605,  0.09587798,  0.05830868, -0.01738056, -0.02965097,\n",
              "       -0.0107477 ,  0.04497408,  0.01547105,  0.08796446, -0.01800635,\n",
              "        0.04384307, -0.0540631 ,  0.02155822,  0.04487549,  0.00077329,\n",
              "       -0.0401822 ,  0.01597165,  0.0310021 , -0.0194896 , -0.00722319,\n",
              "        0.02674823, -0.01572766, -0.03907951,  0.01217609,  0.05884775,\n",
              "       -0.04608607,  0.00312027, -0.02472864,  0.06643163,  0.0033261 ,\n",
              "       -0.02249674, -0.0130311 ,  0.05694689,  0.00376542,  0.00330171,\n",
              "       -0.04855321,  0.01602755,  0.02464867,  0.08360362, -0.02482758,\n",
              "       -0.04299357,  0.05017801, -0.02413205, -0.01952878,  0.01374494],\n",
              "      dtype=float32)"
            ]
          },
          "metadata": {
            "tags": []
          },
          "execution_count": 25
        }
      ]
    },
    {
      "cell_type": "code",
      "metadata": {
        "id": "aAraF6o94Qtf",
        "colab": {
          "base_uri": "https://localhost:8080/",
          "height": 88
        },
        "outputId": "535c6c91-d32f-4065-d1be-b573f34bd10c"
      },
      "source": [
        "most_similar2 = model_d2v.docvecs.most_similar(0, topn=1)\n",
        "print(most_similar2)"
      ],
      "execution_count": null,
      "outputs": [
        {
          "output_type": "stream",
          "text": [
            "[(958, 0.8973060250282288)]\n"
          ],
          "name": "stdout"
        },
        {
          "output_type": "stream",
          "text": [
            "/usr/local/lib/python3.6/dist-packages/gensim/matutils.py:737: FutureWarning: Conversion of the second argument of issubdtype from `int` to `np.signedinteger` is deprecated. In future, it will be treated as `np.int64 == np.dtype(int).type`.\n",
            "  if np.issubdtype(vec.dtype, np.int):\n"
          ],
          "name": "stderr"
        }
      ]
    },
    {
      "cell_type": "code",
      "metadata": {
        "id": "2mad4zMx4gIT",
        "colab": {
          "base_uri": "https://localhost:8080/",
          "height": 54
        },
        "outputId": "aa94def5-2b5f-4d4a-b635-39451c30ec12"
      },
      "source": [
        "print(stem_data[most_similar2[0][0]])"
      ],
      "execution_count": null,
      "outputs": [
        {
          "output_type": "stream",
          "text": [
            "car articl apr wam umd edu lerxst wam umd edu thing write wonder enlighten car saw dai door sport car look late earli call bricklin door small addit bumper separ rest bodi know tellm model engin spec year product car histori info funki look car mail bricklin manufactur engin ford odd look encas bumper aren lot hem motor new usus list basic perform ford new style slap brought neighborhood lerxst rush fan robert seymour rseymour reed edu physic philosophi reed colleg nextmail accept artifici life project reed colleg reed solar energi project soltrain portland\n"
          ],
          "name": "stdout"
        }
      ]
    },
    {
      "cell_type": "markdown",
      "metadata": {
        "id": "51hdXXAG43Jz"
      },
      "source": [
        "\n",
        "Generate the final corpus as a data frame.\n"
      ]
    },
    {
      "cell_type": "code",
      "metadata": {
        "id": "Vx3Su5IQ4qWN"
      },
      "source": [
        "d2v_df = pd.DataFrame()\n",
        "for i in range(len(model_d2v.docvecs)):\n",
        "  d2v_df = d2v_df.append(pd.Series(model_d2v.docvecs[1]), ignore_index=True)"
      ],
      "execution_count": null,
      "outputs": []
    },
    {
      "cell_type": "code",
      "metadata": {
        "id": "RSQF4h6E5Z4h",
        "colab": {
          "base_uri": "https://localhost:8080/",
          "height": 253
        },
        "outputId": "635b59a3-d02d-4fb3-92e7-31c79033fbc2"
      },
      "source": [
        "d2v_df.head()"
      ],
      "execution_count": null,
      "outputs": [
        {
          "output_type": "execute_result",
          "data": {
            "text/html": [
              "<div>\n",
              "<style scoped>\n",
              "    .dataframe tbody tr th:only-of-type {\n",
              "        vertical-align: middle;\n",
              "    }\n",
              "\n",
              "    .dataframe tbody tr th {\n",
              "        vertical-align: top;\n",
              "    }\n",
              "\n",
              "    .dataframe thead th {\n",
              "        text-align: right;\n",
              "    }\n",
              "</style>\n",
              "<table border=\"1\" class=\"dataframe\">\n",
              "  <thead>\n",
              "    <tr style=\"text-align: right;\">\n",
              "      <th></th>\n",
              "      <th>0</th>\n",
              "      <th>1</th>\n",
              "      <th>2</th>\n",
              "      <th>3</th>\n",
              "      <th>4</th>\n",
              "      <th>5</th>\n",
              "      <th>6</th>\n",
              "      <th>7</th>\n",
              "      <th>8</th>\n",
              "      <th>9</th>\n",
              "      <th>10</th>\n",
              "      <th>11</th>\n",
              "      <th>12</th>\n",
              "      <th>13</th>\n",
              "      <th>14</th>\n",
              "      <th>15</th>\n",
              "      <th>16</th>\n",
              "      <th>17</th>\n",
              "      <th>18</th>\n",
              "      <th>19</th>\n",
              "      <th>20</th>\n",
              "      <th>21</th>\n",
              "      <th>22</th>\n",
              "      <th>23</th>\n",
              "      <th>24</th>\n",
              "      <th>25</th>\n",
              "      <th>26</th>\n",
              "      <th>27</th>\n",
              "      <th>28</th>\n",
              "      <th>29</th>\n",
              "      <th>30</th>\n",
              "      <th>31</th>\n",
              "      <th>32</th>\n",
              "      <th>33</th>\n",
              "      <th>34</th>\n",
              "      <th>35</th>\n",
              "      <th>36</th>\n",
              "      <th>37</th>\n",
              "      <th>38</th>\n",
              "      <th>39</th>\n",
              "      <th>...</th>\n",
              "      <th>60</th>\n",
              "      <th>61</th>\n",
              "      <th>62</th>\n",
              "      <th>63</th>\n",
              "      <th>64</th>\n",
              "      <th>65</th>\n",
              "      <th>66</th>\n",
              "      <th>67</th>\n",
              "      <th>68</th>\n",
              "      <th>69</th>\n",
              "      <th>70</th>\n",
              "      <th>71</th>\n",
              "      <th>72</th>\n",
              "      <th>73</th>\n",
              "      <th>74</th>\n",
              "      <th>75</th>\n",
              "      <th>76</th>\n",
              "      <th>77</th>\n",
              "      <th>78</th>\n",
              "      <th>79</th>\n",
              "      <th>80</th>\n",
              "      <th>81</th>\n",
              "      <th>82</th>\n",
              "      <th>83</th>\n",
              "      <th>84</th>\n",
              "      <th>85</th>\n",
              "      <th>86</th>\n",
              "      <th>87</th>\n",
              "      <th>88</th>\n",
              "      <th>89</th>\n",
              "      <th>90</th>\n",
              "      <th>91</th>\n",
              "      <th>92</th>\n",
              "      <th>93</th>\n",
              "      <th>94</th>\n",
              "      <th>95</th>\n",
              "      <th>96</th>\n",
              "      <th>97</th>\n",
              "      <th>98</th>\n",
              "      <th>99</th>\n",
              "    </tr>\n",
              "  </thead>\n",
              "  <tbody>\n",
              "    <tr>\n",
              "      <th>0</th>\n",
              "      <td>0.014268</td>\n",
              "      <td>-0.020844</td>\n",
              "      <td>0.015708</td>\n",
              "      <td>-0.015266</td>\n",
              "      <td>0.013023</td>\n",
              "      <td>0.011935</td>\n",
              "      <td>0.029978</td>\n",
              "      <td>0.023444</td>\n",
              "      <td>0.008436</td>\n",
              "      <td>0.005959</td>\n",
              "      <td>-0.001054</td>\n",
              "      <td>0.000272</td>\n",
              "      <td>0.033009</td>\n",
              "      <td>0.02525</td>\n",
              "      <td>0.010799</td>\n",
              "      <td>-0.026137</td>\n",
              "      <td>0.008986</td>\n",
              "      <td>-0.008573</td>\n",
              "      <td>0.055154</td>\n",
              "      <td>0.00482</td>\n",
              "      <td>-0.019473</td>\n",
              "      <td>0.030629</td>\n",
              "      <td>0.007406</td>\n",
              "      <td>-0.013729</td>\n",
              "      <td>-0.015364</td>\n",
              "      <td>0.014051</td>\n",
              "      <td>-0.056472</td>\n",
              "      <td>-0.039674</td>\n",
              "      <td>-0.056238</td>\n",
              "      <td>0.001247</td>\n",
              "      <td>-0.004781</td>\n",
              "      <td>-0.034979</td>\n",
              "      <td>-0.016578</td>\n",
              "      <td>0.039082</td>\n",
              "      <td>-0.00425</td>\n",
              "      <td>0.03612</td>\n",
              "      <td>-0.018737</td>\n",
              "      <td>0.015872</td>\n",
              "      <td>0.008743</td>\n",
              "      <td>-0.010307</td>\n",
              "      <td>...</td>\n",
              "      <td>0.042746</td>\n",
              "      <td>0.012748</td>\n",
              "      <td>0.005035</td>\n",
              "      <td>0.0183</td>\n",
              "      <td>-0.025726</td>\n",
              "      <td>-0.013014</td>\n",
              "      <td>0.013489</td>\n",
              "      <td>0.010146</td>\n",
              "      <td>-0.005598</td>\n",
              "      <td>-0.004773</td>\n",
              "      <td>-0.008157</td>\n",
              "      <td>0.015173</td>\n",
              "      <td>-0.012491</td>\n",
              "      <td>0.026006</td>\n",
              "      <td>-0.048524</td>\n",
              "      <td>0.030665</td>\n",
              "      <td>0.013788</td>\n",
              "      <td>-0.01577</td>\n",
              "      <td>0.009276</td>\n",
              "      <td>0.006422</td>\n",
              "      <td>0.017188</td>\n",
              "      <td>0.033319</td>\n",
              "      <td>-0.012391</td>\n",
              "      <td>-0.020306</td>\n",
              "      <td>-0.019503</td>\n",
              "      <td>-0.006663</td>\n",
              "      <td>0.0281</td>\n",
              "      <td>-0.015506</td>\n",
              "      <td>-0.009367</td>\n",
              "      <td>0.022402</td>\n",
              "      <td>0.003736</td>\n",
              "      <td>0.00926</td>\n",
              "      <td>0.000411</td>\n",
              "      <td>-0.008099</td>\n",
              "      <td>0.024666</td>\n",
              "      <td>0.026176</td>\n",
              "      <td>0.006419</td>\n",
              "      <td>-0.014455</td>\n",
              "      <td>-0.02141</td>\n",
              "      <td>0.013611</td>\n",
              "    </tr>\n",
              "    <tr>\n",
              "      <th>1</th>\n",
              "      <td>0.014268</td>\n",
              "      <td>-0.020844</td>\n",
              "      <td>0.015708</td>\n",
              "      <td>-0.015266</td>\n",
              "      <td>0.013023</td>\n",
              "      <td>0.011935</td>\n",
              "      <td>0.029978</td>\n",
              "      <td>0.023444</td>\n",
              "      <td>0.008436</td>\n",
              "      <td>0.005959</td>\n",
              "      <td>-0.001054</td>\n",
              "      <td>0.000272</td>\n",
              "      <td>0.033009</td>\n",
              "      <td>0.02525</td>\n",
              "      <td>0.010799</td>\n",
              "      <td>-0.026137</td>\n",
              "      <td>0.008986</td>\n",
              "      <td>-0.008573</td>\n",
              "      <td>0.055154</td>\n",
              "      <td>0.00482</td>\n",
              "      <td>-0.019473</td>\n",
              "      <td>0.030629</td>\n",
              "      <td>0.007406</td>\n",
              "      <td>-0.013729</td>\n",
              "      <td>-0.015364</td>\n",
              "      <td>0.014051</td>\n",
              "      <td>-0.056472</td>\n",
              "      <td>-0.039674</td>\n",
              "      <td>-0.056238</td>\n",
              "      <td>0.001247</td>\n",
              "      <td>-0.004781</td>\n",
              "      <td>-0.034979</td>\n",
              "      <td>-0.016578</td>\n",
              "      <td>0.039082</td>\n",
              "      <td>-0.00425</td>\n",
              "      <td>0.03612</td>\n",
              "      <td>-0.018737</td>\n",
              "      <td>0.015872</td>\n",
              "      <td>0.008743</td>\n",
              "      <td>-0.010307</td>\n",
              "      <td>...</td>\n",
              "      <td>0.042746</td>\n",
              "      <td>0.012748</td>\n",
              "      <td>0.005035</td>\n",
              "      <td>0.0183</td>\n",
              "      <td>-0.025726</td>\n",
              "      <td>-0.013014</td>\n",
              "      <td>0.013489</td>\n",
              "      <td>0.010146</td>\n",
              "      <td>-0.005598</td>\n",
              "      <td>-0.004773</td>\n",
              "      <td>-0.008157</td>\n",
              "      <td>0.015173</td>\n",
              "      <td>-0.012491</td>\n",
              "      <td>0.026006</td>\n",
              "      <td>-0.048524</td>\n",
              "      <td>0.030665</td>\n",
              "      <td>0.013788</td>\n",
              "      <td>-0.01577</td>\n",
              "      <td>0.009276</td>\n",
              "      <td>0.006422</td>\n",
              "      <td>0.017188</td>\n",
              "      <td>0.033319</td>\n",
              "      <td>-0.012391</td>\n",
              "      <td>-0.020306</td>\n",
              "      <td>-0.019503</td>\n",
              "      <td>-0.006663</td>\n",
              "      <td>0.0281</td>\n",
              "      <td>-0.015506</td>\n",
              "      <td>-0.009367</td>\n",
              "      <td>0.022402</td>\n",
              "      <td>0.003736</td>\n",
              "      <td>0.00926</td>\n",
              "      <td>0.000411</td>\n",
              "      <td>-0.008099</td>\n",
              "      <td>0.024666</td>\n",
              "      <td>0.026176</td>\n",
              "      <td>0.006419</td>\n",
              "      <td>-0.014455</td>\n",
              "      <td>-0.02141</td>\n",
              "      <td>0.013611</td>\n",
              "    </tr>\n",
              "    <tr>\n",
              "      <th>2</th>\n",
              "      <td>0.014268</td>\n",
              "      <td>-0.020844</td>\n",
              "      <td>0.015708</td>\n",
              "      <td>-0.015266</td>\n",
              "      <td>0.013023</td>\n",
              "      <td>0.011935</td>\n",
              "      <td>0.029978</td>\n",
              "      <td>0.023444</td>\n",
              "      <td>0.008436</td>\n",
              "      <td>0.005959</td>\n",
              "      <td>-0.001054</td>\n",
              "      <td>0.000272</td>\n",
              "      <td>0.033009</td>\n",
              "      <td>0.02525</td>\n",
              "      <td>0.010799</td>\n",
              "      <td>-0.026137</td>\n",
              "      <td>0.008986</td>\n",
              "      <td>-0.008573</td>\n",
              "      <td>0.055154</td>\n",
              "      <td>0.00482</td>\n",
              "      <td>-0.019473</td>\n",
              "      <td>0.030629</td>\n",
              "      <td>0.007406</td>\n",
              "      <td>-0.013729</td>\n",
              "      <td>-0.015364</td>\n",
              "      <td>0.014051</td>\n",
              "      <td>-0.056472</td>\n",
              "      <td>-0.039674</td>\n",
              "      <td>-0.056238</td>\n",
              "      <td>0.001247</td>\n",
              "      <td>-0.004781</td>\n",
              "      <td>-0.034979</td>\n",
              "      <td>-0.016578</td>\n",
              "      <td>0.039082</td>\n",
              "      <td>-0.00425</td>\n",
              "      <td>0.03612</td>\n",
              "      <td>-0.018737</td>\n",
              "      <td>0.015872</td>\n",
              "      <td>0.008743</td>\n",
              "      <td>-0.010307</td>\n",
              "      <td>...</td>\n",
              "      <td>0.042746</td>\n",
              "      <td>0.012748</td>\n",
              "      <td>0.005035</td>\n",
              "      <td>0.0183</td>\n",
              "      <td>-0.025726</td>\n",
              "      <td>-0.013014</td>\n",
              "      <td>0.013489</td>\n",
              "      <td>0.010146</td>\n",
              "      <td>-0.005598</td>\n",
              "      <td>-0.004773</td>\n",
              "      <td>-0.008157</td>\n",
              "      <td>0.015173</td>\n",
              "      <td>-0.012491</td>\n",
              "      <td>0.026006</td>\n",
              "      <td>-0.048524</td>\n",
              "      <td>0.030665</td>\n",
              "      <td>0.013788</td>\n",
              "      <td>-0.01577</td>\n",
              "      <td>0.009276</td>\n",
              "      <td>0.006422</td>\n",
              "      <td>0.017188</td>\n",
              "      <td>0.033319</td>\n",
              "      <td>-0.012391</td>\n",
              "      <td>-0.020306</td>\n",
              "      <td>-0.019503</td>\n",
              "      <td>-0.006663</td>\n",
              "      <td>0.0281</td>\n",
              "      <td>-0.015506</td>\n",
              "      <td>-0.009367</td>\n",
              "      <td>0.022402</td>\n",
              "      <td>0.003736</td>\n",
              "      <td>0.00926</td>\n",
              "      <td>0.000411</td>\n",
              "      <td>-0.008099</td>\n",
              "      <td>0.024666</td>\n",
              "      <td>0.026176</td>\n",
              "      <td>0.006419</td>\n",
              "      <td>-0.014455</td>\n",
              "      <td>-0.02141</td>\n",
              "      <td>0.013611</td>\n",
              "    </tr>\n",
              "    <tr>\n",
              "      <th>3</th>\n",
              "      <td>0.014268</td>\n",
              "      <td>-0.020844</td>\n",
              "      <td>0.015708</td>\n",
              "      <td>-0.015266</td>\n",
              "      <td>0.013023</td>\n",
              "      <td>0.011935</td>\n",
              "      <td>0.029978</td>\n",
              "      <td>0.023444</td>\n",
              "      <td>0.008436</td>\n",
              "      <td>0.005959</td>\n",
              "      <td>-0.001054</td>\n",
              "      <td>0.000272</td>\n",
              "      <td>0.033009</td>\n",
              "      <td>0.02525</td>\n",
              "      <td>0.010799</td>\n",
              "      <td>-0.026137</td>\n",
              "      <td>0.008986</td>\n",
              "      <td>-0.008573</td>\n",
              "      <td>0.055154</td>\n",
              "      <td>0.00482</td>\n",
              "      <td>-0.019473</td>\n",
              "      <td>0.030629</td>\n",
              "      <td>0.007406</td>\n",
              "      <td>-0.013729</td>\n",
              "      <td>-0.015364</td>\n",
              "      <td>0.014051</td>\n",
              "      <td>-0.056472</td>\n",
              "      <td>-0.039674</td>\n",
              "      <td>-0.056238</td>\n",
              "      <td>0.001247</td>\n",
              "      <td>-0.004781</td>\n",
              "      <td>-0.034979</td>\n",
              "      <td>-0.016578</td>\n",
              "      <td>0.039082</td>\n",
              "      <td>-0.00425</td>\n",
              "      <td>0.03612</td>\n",
              "      <td>-0.018737</td>\n",
              "      <td>0.015872</td>\n",
              "      <td>0.008743</td>\n",
              "      <td>-0.010307</td>\n",
              "      <td>...</td>\n",
              "      <td>0.042746</td>\n",
              "      <td>0.012748</td>\n",
              "      <td>0.005035</td>\n",
              "      <td>0.0183</td>\n",
              "      <td>-0.025726</td>\n",
              "      <td>-0.013014</td>\n",
              "      <td>0.013489</td>\n",
              "      <td>0.010146</td>\n",
              "      <td>-0.005598</td>\n",
              "      <td>-0.004773</td>\n",
              "      <td>-0.008157</td>\n",
              "      <td>0.015173</td>\n",
              "      <td>-0.012491</td>\n",
              "      <td>0.026006</td>\n",
              "      <td>-0.048524</td>\n",
              "      <td>0.030665</td>\n",
              "      <td>0.013788</td>\n",
              "      <td>-0.01577</td>\n",
              "      <td>0.009276</td>\n",
              "      <td>0.006422</td>\n",
              "      <td>0.017188</td>\n",
              "      <td>0.033319</td>\n",
              "      <td>-0.012391</td>\n",
              "      <td>-0.020306</td>\n",
              "      <td>-0.019503</td>\n",
              "      <td>-0.006663</td>\n",
              "      <td>0.0281</td>\n",
              "      <td>-0.015506</td>\n",
              "      <td>-0.009367</td>\n",
              "      <td>0.022402</td>\n",
              "      <td>0.003736</td>\n",
              "      <td>0.00926</td>\n",
              "      <td>0.000411</td>\n",
              "      <td>-0.008099</td>\n",
              "      <td>0.024666</td>\n",
              "      <td>0.026176</td>\n",
              "      <td>0.006419</td>\n",
              "      <td>-0.014455</td>\n",
              "      <td>-0.02141</td>\n",
              "      <td>0.013611</td>\n",
              "    </tr>\n",
              "    <tr>\n",
              "      <th>4</th>\n",
              "      <td>0.014268</td>\n",
              "      <td>-0.020844</td>\n",
              "      <td>0.015708</td>\n",
              "      <td>-0.015266</td>\n",
              "      <td>0.013023</td>\n",
              "      <td>0.011935</td>\n",
              "      <td>0.029978</td>\n",
              "      <td>0.023444</td>\n",
              "      <td>0.008436</td>\n",
              "      <td>0.005959</td>\n",
              "      <td>-0.001054</td>\n",
              "      <td>0.000272</td>\n",
              "      <td>0.033009</td>\n",
              "      <td>0.02525</td>\n",
              "      <td>0.010799</td>\n",
              "      <td>-0.026137</td>\n",
              "      <td>0.008986</td>\n",
              "      <td>-0.008573</td>\n",
              "      <td>0.055154</td>\n",
              "      <td>0.00482</td>\n",
              "      <td>-0.019473</td>\n",
              "      <td>0.030629</td>\n",
              "      <td>0.007406</td>\n",
              "      <td>-0.013729</td>\n",
              "      <td>-0.015364</td>\n",
              "      <td>0.014051</td>\n",
              "      <td>-0.056472</td>\n",
              "      <td>-0.039674</td>\n",
              "      <td>-0.056238</td>\n",
              "      <td>0.001247</td>\n",
              "      <td>-0.004781</td>\n",
              "      <td>-0.034979</td>\n",
              "      <td>-0.016578</td>\n",
              "      <td>0.039082</td>\n",
              "      <td>-0.00425</td>\n",
              "      <td>0.03612</td>\n",
              "      <td>-0.018737</td>\n",
              "      <td>0.015872</td>\n",
              "      <td>0.008743</td>\n",
              "      <td>-0.010307</td>\n",
              "      <td>...</td>\n",
              "      <td>0.042746</td>\n",
              "      <td>0.012748</td>\n",
              "      <td>0.005035</td>\n",
              "      <td>0.0183</td>\n",
              "      <td>-0.025726</td>\n",
              "      <td>-0.013014</td>\n",
              "      <td>0.013489</td>\n",
              "      <td>0.010146</td>\n",
              "      <td>-0.005598</td>\n",
              "      <td>-0.004773</td>\n",
              "      <td>-0.008157</td>\n",
              "      <td>0.015173</td>\n",
              "      <td>-0.012491</td>\n",
              "      <td>0.026006</td>\n",
              "      <td>-0.048524</td>\n",
              "      <td>0.030665</td>\n",
              "      <td>0.013788</td>\n",
              "      <td>-0.01577</td>\n",
              "      <td>0.009276</td>\n",
              "      <td>0.006422</td>\n",
              "      <td>0.017188</td>\n",
              "      <td>0.033319</td>\n",
              "      <td>-0.012391</td>\n",
              "      <td>-0.020306</td>\n",
              "      <td>-0.019503</td>\n",
              "      <td>-0.006663</td>\n",
              "      <td>0.0281</td>\n",
              "      <td>-0.015506</td>\n",
              "      <td>-0.009367</td>\n",
              "      <td>0.022402</td>\n",
              "      <td>0.003736</td>\n",
              "      <td>0.00926</td>\n",
              "      <td>0.000411</td>\n",
              "      <td>-0.008099</td>\n",
              "      <td>0.024666</td>\n",
              "      <td>0.026176</td>\n",
              "      <td>0.006419</td>\n",
              "      <td>-0.014455</td>\n",
              "      <td>-0.02141</td>\n",
              "      <td>0.013611</td>\n",
              "    </tr>\n",
              "  </tbody>\n",
              "</table>\n",
              "<p>5 rows × 100 columns</p>\n",
              "</div>"
            ],
            "text/plain": [
              "         0         1         2   ...        97       98        99\n",
              "0  0.014268 -0.020844  0.015708  ... -0.014455 -0.02141  0.013611\n",
              "1  0.014268 -0.020844  0.015708  ... -0.014455 -0.02141  0.013611\n",
              "2  0.014268 -0.020844  0.015708  ... -0.014455 -0.02141  0.013611\n",
              "3  0.014268 -0.020844  0.015708  ... -0.014455 -0.02141  0.013611\n",
              "4  0.014268 -0.020844  0.015708  ... -0.014455 -0.02141  0.013611\n",
              "\n",
              "[5 rows x 100 columns]"
            ]
          },
          "metadata": {
            "tags": []
          },
          "execution_count": 29
        }
      ]
    },
    {
      "cell_type": "markdown",
      "metadata": {
        "id": "LH_1U66s5-N2"
      },
      "source": [
        "### Part 3: ELMo\n",
        "13. Run the following code. What is it doing?"
      ]
    },
    {
      "cell_type": "code",
      "metadata": {
        "id": "4PQiz5Fl6NZd",
        "colab": {
          "base_uri": "https://localhost:8080/",
          "height": 85
        },
        "outputId": "327ae618-c027-43dd-f193-b06979557c94"
      },
      "source": [
        "elmo = hub.Module(\"https://tfhub.dev/google/elmo/3\")"
      ],
      "execution_count": null,
      "outputs": [
        {
          "output_type": "stream",
          "text": [
            "INFO:absl:Using /tmp/tfhub_modules to cache modules.\n",
            "INFO:absl:Downloading TF-Hub Module 'https://tfhub.dev/google/elmo/3'.\n",
            "INFO:absl:Downloaded https://tfhub.dev/google/elmo/3, Total size: 357.40MB\n",
            "INFO:absl:Downloaded TF-Hub Module 'https://tfhub.dev/google/elmo/3'.\n"
          ],
          "name": "stderr"
        }
      ]
    },
    {
      "cell_type": "code",
      "metadata": {
        "id": "yq-clvdo6Ry_",
        "colab": {
          "base_uri": "https://localhost:8080/",
          "height": 68
        },
        "outputId": "a20062f5-69cd-43c4-af49-c032c5ae8270"
      },
      "source": [
        "embeddings = elmo(stem_data[0:10], signature=\"default\",as_dict=True)[\"elmo\"]\n",
        "#embeddings = elmo(stem_data[0:10], signature=\"default\",as_dict=True)[\"default\"]\n",
        "embeddings.shape"
      ],
      "execution_count": null,
      "outputs": [
        {
          "output_type": "stream",
          "text": [
            "INFO:tensorflow:Saver not created because there are no variables in the graph to restore\n"
          ],
          "name": "stdout"
        },
        {
          "output_type": "stream",
          "text": [
            "INFO:tensorflow:Saver not created because there are no variables in the graph to restore\n"
          ],
          "name": "stderr"
        },
        {
          "output_type": "execute_result",
          "data": {
            "text/plain": [
              "TensorShape([10, 211, 1024])"
            ]
          },
          "metadata": {
            "tags": []
          },
          "execution_count": 36
        }
      ]
    },
    {
      "cell_type": "code",
      "metadata": {
        "id": "ZebA0WH36c99"
      },
      "source": [
        "#init = tf.compat.v1.initialize_all_variables()\n",
        "\n",
        "with tf.compat.v1.Session() as sess: \n",
        "  sess.run(tf.compat.v1.global_variables_initializer())\n",
        "  corpus_elm = sess.run(embeddings)"
      ],
      "execution_count": null,
      "outputs": []
    },
    {
      "cell_type": "markdown",
      "metadata": {
        "id": "5MrJ7rjoomTO"
      },
      "source": [
        "*Returns an Op that initializes global variables.* --> tf.compat.v1.global_variables_initializer()"
      ]
    },
    {
      "cell_type": "code",
      "metadata": {
        "id": "dvbsOj0EpZtd",
        "colab": {
          "base_uri": "https://localhost:8080/",
          "height": 34
        },
        "outputId": "b656e499-1922-4dd7-d21e-87ece8117bb6"
      },
      "source": [
        "print(corpus_elm.shape)"
      ],
      "execution_count": null,
      "outputs": [
        {
          "output_type": "stream",
          "text": [
            "(10, 1024)\n"
          ],
          "name": "stdout"
        }
      ]
    },
    {
      "cell_type": "markdown",
      "metadata": {
        "id": "5oDNhUw36EnD"
      },
      "source": [
        "a) Print the embedding values for the first document. Can you interpret it?"
      ]
    },
    {
      "cell_type": "code",
      "metadata": {
        "id": "Ofs1aF6B5t_v",
        "colab": {
          "base_uri": "https://localhost:8080/",
          "height": 51
        },
        "outputId": "2971545b-8043-4a11-c1d2-d1438538b374"
      },
      "source": [
        "corpus_elm[0]"
      ],
      "execution_count": null,
      "outputs": [
        {
          "output_type": "execute_result",
          "data": {
            "text/plain": [
              "array([ 0.07138148,  0.19519429, -0.09149865, ..., -0.37476006,\n",
              "        0.18867464,  0.16174582], dtype=float32)"
            ]
          },
          "metadata": {
            "tags": []
          },
          "execution_count": 33
        }
      ]
    },
    {
      "cell_type": "markdown",
      "metadata": {
        "id": "xj3ru4we79nD"
      },
      "source": [
        "b) Store the embeddings for all documents in a data frame corpus_elm_df. How can\n",
        "you use corpus_elm_df for further tasks?\n",
        "\n",
        "Note: you can use more than 10 documents, but make sure you distribute those in\n",
        "different sessions."
      ]
    },
    {
      "cell_type": "code",
      "metadata": {
        "id": "57IdlXN_7-GD",
        "colab": {
          "base_uri": "https://localhost:8080/",
          "height": 253
        },
        "outputId": "2fe61d74-f932-4c7f-d294-d2e834454bd0"
      },
      "source": [
        "corpus_elm_df = pd.DataFrame(corpus_elm)\n",
        "corpus_elm_df.head()"
      ],
      "execution_count": null,
      "outputs": [
        {
          "output_type": "execute_result",
          "data": {
            "text/html": [
              "<div>\n",
              "<style scoped>\n",
              "    .dataframe tbody tr th:only-of-type {\n",
              "        vertical-align: middle;\n",
              "    }\n",
              "\n",
              "    .dataframe tbody tr th {\n",
              "        vertical-align: top;\n",
              "    }\n",
              "\n",
              "    .dataframe thead th {\n",
              "        text-align: right;\n",
              "    }\n",
              "</style>\n",
              "<table border=\"1\" class=\"dataframe\">\n",
              "  <thead>\n",
              "    <tr style=\"text-align: right;\">\n",
              "      <th></th>\n",
              "      <th>0</th>\n",
              "      <th>1</th>\n",
              "      <th>2</th>\n",
              "      <th>3</th>\n",
              "      <th>4</th>\n",
              "      <th>5</th>\n",
              "      <th>6</th>\n",
              "      <th>7</th>\n",
              "      <th>8</th>\n",
              "      <th>9</th>\n",
              "      <th>10</th>\n",
              "      <th>11</th>\n",
              "      <th>12</th>\n",
              "      <th>13</th>\n",
              "      <th>14</th>\n",
              "      <th>15</th>\n",
              "      <th>16</th>\n",
              "      <th>17</th>\n",
              "      <th>18</th>\n",
              "      <th>19</th>\n",
              "      <th>20</th>\n",
              "      <th>21</th>\n",
              "      <th>22</th>\n",
              "      <th>23</th>\n",
              "      <th>24</th>\n",
              "      <th>25</th>\n",
              "      <th>26</th>\n",
              "      <th>27</th>\n",
              "      <th>28</th>\n",
              "      <th>29</th>\n",
              "      <th>30</th>\n",
              "      <th>31</th>\n",
              "      <th>32</th>\n",
              "      <th>33</th>\n",
              "      <th>34</th>\n",
              "      <th>35</th>\n",
              "      <th>36</th>\n",
              "      <th>37</th>\n",
              "      <th>38</th>\n",
              "      <th>39</th>\n",
              "      <th>...</th>\n",
              "      <th>984</th>\n",
              "      <th>985</th>\n",
              "      <th>986</th>\n",
              "      <th>987</th>\n",
              "      <th>988</th>\n",
              "      <th>989</th>\n",
              "      <th>990</th>\n",
              "      <th>991</th>\n",
              "      <th>992</th>\n",
              "      <th>993</th>\n",
              "      <th>994</th>\n",
              "      <th>995</th>\n",
              "      <th>996</th>\n",
              "      <th>997</th>\n",
              "      <th>998</th>\n",
              "      <th>999</th>\n",
              "      <th>1000</th>\n",
              "      <th>1001</th>\n",
              "      <th>1002</th>\n",
              "      <th>1003</th>\n",
              "      <th>1004</th>\n",
              "      <th>1005</th>\n",
              "      <th>1006</th>\n",
              "      <th>1007</th>\n",
              "      <th>1008</th>\n",
              "      <th>1009</th>\n",
              "      <th>1010</th>\n",
              "      <th>1011</th>\n",
              "      <th>1012</th>\n",
              "      <th>1013</th>\n",
              "      <th>1014</th>\n",
              "      <th>1015</th>\n",
              "      <th>1016</th>\n",
              "      <th>1017</th>\n",
              "      <th>1018</th>\n",
              "      <th>1019</th>\n",
              "      <th>1020</th>\n",
              "      <th>1021</th>\n",
              "      <th>1022</th>\n",
              "      <th>1023</th>\n",
              "    </tr>\n",
              "  </thead>\n",
              "  <tbody>\n",
              "    <tr>\n",
              "      <th>0</th>\n",
              "      <td>0.071381</td>\n",
              "      <td>0.195194</td>\n",
              "      <td>-0.091499</td>\n",
              "      <td>-0.056139</td>\n",
              "      <td>0.060336</td>\n",
              "      <td>0.602086</td>\n",
              "      <td>-0.428267</td>\n",
              "      <td>0.147217</td>\n",
              "      <td>-0.223365</td>\n",
              "      <td>-0.002364</td>\n",
              "      <td>-0.360357</td>\n",
              "      <td>0.267460</td>\n",
              "      <td>-0.653219</td>\n",
              "      <td>0.014107</td>\n",
              "      <td>-0.011198</td>\n",
              "      <td>0.153389</td>\n",
              "      <td>0.378626</td>\n",
              "      <td>0.386909</td>\n",
              "      <td>-0.418051</td>\n",
              "      <td>0.069700</td>\n",
              "      <td>0.755093</td>\n",
              "      <td>-0.149906</td>\n",
              "      <td>0.002108</td>\n",
              "      <td>-0.310571</td>\n",
              "      <td>0.213514</td>\n",
              "      <td>-0.101479</td>\n",
              "      <td>0.197859</td>\n",
              "      <td>-0.121517</td>\n",
              "      <td>0.207179</td>\n",
              "      <td>0.278058</td>\n",
              "      <td>0.341266</td>\n",
              "      <td>0.185140</td>\n",
              "      <td>0.188046</td>\n",
              "      <td>-0.467464</td>\n",
              "      <td>0.003810</td>\n",
              "      <td>0.232802</td>\n",
              "      <td>-0.347815</td>\n",
              "      <td>0.272836</td>\n",
              "      <td>0.354792</td>\n",
              "      <td>0.684967</td>\n",
              "      <td>...</td>\n",
              "      <td>0.354261</td>\n",
              "      <td>0.281943</td>\n",
              "      <td>0.001335</td>\n",
              "      <td>0.397741</td>\n",
              "      <td>0.297757</td>\n",
              "      <td>-0.502097</td>\n",
              "      <td>0.096041</td>\n",
              "      <td>0.063876</td>\n",
              "      <td>0.032441</td>\n",
              "      <td>-0.173737</td>\n",
              "      <td>0.188458</td>\n",
              "      <td>0.047619</td>\n",
              "      <td>-0.381535</td>\n",
              "      <td>-0.310682</td>\n",
              "      <td>-0.101096</td>\n",
              "      <td>0.348021</td>\n",
              "      <td>0.140095</td>\n",
              "      <td>-0.000057</td>\n",
              "      <td>-0.233020</td>\n",
              "      <td>0.182884</td>\n",
              "      <td>0.396763</td>\n",
              "      <td>-0.139555</td>\n",
              "      <td>0.102448</td>\n",
              "      <td>-0.637644</td>\n",
              "      <td>-0.141189</td>\n",
              "      <td>-0.086752</td>\n",
              "      <td>-0.182303</td>\n",
              "      <td>0.053941</td>\n",
              "      <td>-0.247799</td>\n",
              "      <td>-0.055875</td>\n",
              "      <td>-0.276381</td>\n",
              "      <td>0.332053</td>\n",
              "      <td>-0.225546</td>\n",
              "      <td>0.123052</td>\n",
              "      <td>-0.108826</td>\n",
              "      <td>-0.335023</td>\n",
              "      <td>0.275925</td>\n",
              "      <td>-0.374760</td>\n",
              "      <td>0.188675</td>\n",
              "      <td>0.161746</td>\n",
              "    </tr>\n",
              "    <tr>\n",
              "      <th>1</th>\n",
              "      <td>0.197677</td>\n",
              "      <td>0.139034</td>\n",
              "      <td>-0.162011</td>\n",
              "      <td>-0.094836</td>\n",
              "      <td>0.130264</td>\n",
              "      <td>0.229831</td>\n",
              "      <td>-0.285739</td>\n",
              "      <td>0.421668</td>\n",
              "      <td>0.197578</td>\n",
              "      <td>-0.164257</td>\n",
              "      <td>-0.247899</td>\n",
              "      <td>0.047955</td>\n",
              "      <td>-0.567297</td>\n",
              "      <td>0.121708</td>\n",
              "      <td>0.165591</td>\n",
              "      <td>0.036047</td>\n",
              "      <td>0.281482</td>\n",
              "      <td>0.446328</td>\n",
              "      <td>-0.587396</td>\n",
              "      <td>-0.068240</td>\n",
              "      <td>0.624128</td>\n",
              "      <td>0.427305</td>\n",
              "      <td>-0.050798</td>\n",
              "      <td>-0.060474</td>\n",
              "      <td>0.200221</td>\n",
              "      <td>0.143442</td>\n",
              "      <td>0.347401</td>\n",
              "      <td>-0.088222</td>\n",
              "      <td>0.098820</td>\n",
              "      <td>0.304108</td>\n",
              "      <td>-0.104149</td>\n",
              "      <td>0.164165</td>\n",
              "      <td>0.228108</td>\n",
              "      <td>-0.653909</td>\n",
              "      <td>0.032777</td>\n",
              "      <td>0.108331</td>\n",
              "      <td>-0.268706</td>\n",
              "      <td>0.167775</td>\n",
              "      <td>0.322713</td>\n",
              "      <td>0.587584</td>\n",
              "      <td>...</td>\n",
              "      <td>0.262288</td>\n",
              "      <td>0.285806</td>\n",
              "      <td>0.228223</td>\n",
              "      <td>0.475427</td>\n",
              "      <td>0.499776</td>\n",
              "      <td>-0.465738</td>\n",
              "      <td>0.265414</td>\n",
              "      <td>0.420376</td>\n",
              "      <td>0.114693</td>\n",
              "      <td>-0.120252</td>\n",
              "      <td>-0.058504</td>\n",
              "      <td>-0.070585</td>\n",
              "      <td>-0.316707</td>\n",
              "      <td>-0.141274</td>\n",
              "      <td>0.093630</td>\n",
              "      <td>0.424727</td>\n",
              "      <td>0.224331</td>\n",
              "      <td>0.442175</td>\n",
              "      <td>0.111860</td>\n",
              "      <td>0.140983</td>\n",
              "      <td>0.555419</td>\n",
              "      <td>-0.242645</td>\n",
              "      <td>0.113901</td>\n",
              "      <td>-0.303311</td>\n",
              "      <td>-0.075745</td>\n",
              "      <td>-0.244403</td>\n",
              "      <td>0.044823</td>\n",
              "      <td>-0.262665</td>\n",
              "      <td>-0.206717</td>\n",
              "      <td>0.025739</td>\n",
              "      <td>-0.278786</td>\n",
              "      <td>-0.067715</td>\n",
              "      <td>0.270636</td>\n",
              "      <td>0.083944</td>\n",
              "      <td>0.291727</td>\n",
              "      <td>-0.105083</td>\n",
              "      <td>0.131594</td>\n",
              "      <td>-0.084821</td>\n",
              "      <td>0.454332</td>\n",
              "      <td>-0.033999</td>\n",
              "    </tr>\n",
              "    <tr>\n",
              "      <th>2</th>\n",
              "      <td>0.170616</td>\n",
              "      <td>-0.435246</td>\n",
              "      <td>0.100215</td>\n",
              "      <td>-0.043610</td>\n",
              "      <td>0.330289</td>\n",
              "      <td>0.502139</td>\n",
              "      <td>-0.226096</td>\n",
              "      <td>0.234854</td>\n",
              "      <td>-0.316113</td>\n",
              "      <td>-0.091387</td>\n",
              "      <td>-0.271925</td>\n",
              "      <td>0.111460</td>\n",
              "      <td>-0.611972</td>\n",
              "      <td>-0.076087</td>\n",
              "      <td>0.107744</td>\n",
              "      <td>-0.005868</td>\n",
              "      <td>0.365481</td>\n",
              "      <td>0.176191</td>\n",
              "      <td>-0.519185</td>\n",
              "      <td>0.150881</td>\n",
              "      <td>0.567667</td>\n",
              "      <td>-0.049746</td>\n",
              "      <td>0.220452</td>\n",
              "      <td>-0.135826</td>\n",
              "      <td>0.338678</td>\n",
              "      <td>-0.064376</td>\n",
              "      <td>0.058292</td>\n",
              "      <td>0.146376</td>\n",
              "      <td>0.074083</td>\n",
              "      <td>0.461452</td>\n",
              "      <td>0.372899</td>\n",
              "      <td>0.268020</td>\n",
              "      <td>0.067177</td>\n",
              "      <td>-0.304049</td>\n",
              "      <td>-0.070484</td>\n",
              "      <td>0.348015</td>\n",
              "      <td>-0.228523</td>\n",
              "      <td>0.041331</td>\n",
              "      <td>0.205810</td>\n",
              "      <td>0.440166</td>\n",
              "      <td>...</td>\n",
              "      <td>0.326271</td>\n",
              "      <td>0.417339</td>\n",
              "      <td>0.174676</td>\n",
              "      <td>0.404286</td>\n",
              "      <td>0.205106</td>\n",
              "      <td>-0.412850</td>\n",
              "      <td>0.197703</td>\n",
              "      <td>0.127029</td>\n",
              "      <td>0.210548</td>\n",
              "      <td>-0.287393</td>\n",
              "      <td>-0.018736</td>\n",
              "      <td>-0.104600</td>\n",
              "      <td>-0.209796</td>\n",
              "      <td>-0.345535</td>\n",
              "      <td>0.006915</td>\n",
              "      <td>0.646273</td>\n",
              "      <td>-0.235767</td>\n",
              "      <td>0.334497</td>\n",
              "      <td>0.054455</td>\n",
              "      <td>0.047398</td>\n",
              "      <td>0.297288</td>\n",
              "      <td>-0.118444</td>\n",
              "      <td>0.037223</td>\n",
              "      <td>-0.323689</td>\n",
              "      <td>-0.179704</td>\n",
              "      <td>-0.209463</td>\n",
              "      <td>-0.090724</td>\n",
              "      <td>-0.256350</td>\n",
              "      <td>-0.182799</td>\n",
              "      <td>-0.287376</td>\n",
              "      <td>-0.294561</td>\n",
              "      <td>0.072671</td>\n",
              "      <td>0.127512</td>\n",
              "      <td>0.115997</td>\n",
              "      <td>0.360114</td>\n",
              "      <td>-0.090129</td>\n",
              "      <td>0.050056</td>\n",
              "      <td>-0.022320</td>\n",
              "      <td>0.432490</td>\n",
              "      <td>-0.021742</td>\n",
              "    </tr>\n",
              "    <tr>\n",
              "      <th>3</th>\n",
              "      <td>0.112675</td>\n",
              "      <td>-0.106532</td>\n",
              "      <td>0.029696</td>\n",
              "      <td>-0.188042</td>\n",
              "      <td>0.024403</td>\n",
              "      <td>0.845828</td>\n",
              "      <td>-0.371575</td>\n",
              "      <td>0.434558</td>\n",
              "      <td>-0.001990</td>\n",
              "      <td>0.009475</td>\n",
              "      <td>-0.358585</td>\n",
              "      <td>0.081786</td>\n",
              "      <td>-0.709006</td>\n",
              "      <td>-0.042012</td>\n",
              "      <td>-0.072861</td>\n",
              "      <td>0.049609</td>\n",
              "      <td>0.480018</td>\n",
              "      <td>0.533367</td>\n",
              "      <td>-0.708592</td>\n",
              "      <td>0.338966</td>\n",
              "      <td>0.901059</td>\n",
              "      <td>-0.188399</td>\n",
              "      <td>0.295823</td>\n",
              "      <td>-0.069612</td>\n",
              "      <td>0.442792</td>\n",
              "      <td>-0.050616</td>\n",
              "      <td>-0.087286</td>\n",
              "      <td>0.070540</td>\n",
              "      <td>0.349901</td>\n",
              "      <td>0.720822</td>\n",
              "      <td>0.360695</td>\n",
              "      <td>0.262907</td>\n",
              "      <td>0.411075</td>\n",
              "      <td>-0.229887</td>\n",
              "      <td>-0.177007</td>\n",
              "      <td>0.218887</td>\n",
              "      <td>-0.321949</td>\n",
              "      <td>0.203934</td>\n",
              "      <td>0.382982</td>\n",
              "      <td>0.505422</td>\n",
              "      <td>...</td>\n",
              "      <td>0.347870</td>\n",
              "      <td>0.343024</td>\n",
              "      <td>0.249943</td>\n",
              "      <td>0.487751</td>\n",
              "      <td>0.137853</td>\n",
              "      <td>-0.527354</td>\n",
              "      <td>0.218220</td>\n",
              "      <td>0.322993</td>\n",
              "      <td>0.067699</td>\n",
              "      <td>-0.305773</td>\n",
              "      <td>-0.112115</td>\n",
              "      <td>-0.215133</td>\n",
              "      <td>-0.114937</td>\n",
              "      <td>-0.325125</td>\n",
              "      <td>-0.037927</td>\n",
              "      <td>0.538973</td>\n",
              "      <td>-0.173471</td>\n",
              "      <td>0.268805</td>\n",
              "      <td>0.058968</td>\n",
              "      <td>0.047156</td>\n",
              "      <td>0.247988</td>\n",
              "      <td>-0.069754</td>\n",
              "      <td>0.129090</td>\n",
              "      <td>-0.370793</td>\n",
              "      <td>-0.252172</td>\n",
              "      <td>0.019999</td>\n",
              "      <td>0.002496</td>\n",
              "      <td>-0.264802</td>\n",
              "      <td>0.032591</td>\n",
              "      <td>-0.134799</td>\n",
              "      <td>-0.307827</td>\n",
              "      <td>0.178420</td>\n",
              "      <td>0.267531</td>\n",
              "      <td>0.197801</td>\n",
              "      <td>0.301834</td>\n",
              "      <td>0.044331</td>\n",
              "      <td>-0.034822</td>\n",
              "      <td>-0.060457</td>\n",
              "      <td>0.317629</td>\n",
              "      <td>0.018689</td>\n",
              "    </tr>\n",
              "    <tr>\n",
              "      <th>4</th>\n",
              "      <td>0.114391</td>\n",
              "      <td>-0.255723</td>\n",
              "      <td>-0.013560</td>\n",
              "      <td>-0.353646</td>\n",
              "      <td>0.287903</td>\n",
              "      <td>0.444778</td>\n",
              "      <td>-0.394945</td>\n",
              "      <td>0.236275</td>\n",
              "      <td>-0.257917</td>\n",
              "      <td>-0.194771</td>\n",
              "      <td>-0.283504</td>\n",
              "      <td>-0.182900</td>\n",
              "      <td>-0.664141</td>\n",
              "      <td>0.246531</td>\n",
              "      <td>0.118883</td>\n",
              "      <td>0.154575</td>\n",
              "      <td>0.502999</td>\n",
              "      <td>0.335899</td>\n",
              "      <td>-0.479125</td>\n",
              "      <td>0.206198</td>\n",
              "      <td>0.599743</td>\n",
              "      <td>0.122603</td>\n",
              "      <td>0.152474</td>\n",
              "      <td>-0.028882</td>\n",
              "      <td>0.567735</td>\n",
              "      <td>-0.132621</td>\n",
              "      <td>0.008428</td>\n",
              "      <td>0.004917</td>\n",
              "      <td>0.321629</td>\n",
              "      <td>0.602193</td>\n",
              "      <td>0.201842</td>\n",
              "      <td>0.336668</td>\n",
              "      <td>0.075853</td>\n",
              "      <td>-0.191283</td>\n",
              "      <td>-0.038348</td>\n",
              "      <td>0.239463</td>\n",
              "      <td>-0.378110</td>\n",
              "      <td>0.131521</td>\n",
              "      <td>0.214341</td>\n",
              "      <td>0.436583</td>\n",
              "      <td>...</td>\n",
              "      <td>0.550671</td>\n",
              "      <td>0.641285</td>\n",
              "      <td>0.642541</td>\n",
              "      <td>0.608518</td>\n",
              "      <td>0.576593</td>\n",
              "      <td>-0.262087</td>\n",
              "      <td>0.270709</td>\n",
              "      <td>-0.085255</td>\n",
              "      <td>0.284999</td>\n",
              "      <td>0.048246</td>\n",
              "      <td>-0.287580</td>\n",
              "      <td>-0.335839</td>\n",
              "      <td>-0.216407</td>\n",
              "      <td>-0.075507</td>\n",
              "      <td>0.087952</td>\n",
              "      <td>0.153030</td>\n",
              "      <td>-0.057662</td>\n",
              "      <td>0.266731</td>\n",
              "      <td>0.244756</td>\n",
              "      <td>-0.019399</td>\n",
              "      <td>0.347825</td>\n",
              "      <td>-0.268087</td>\n",
              "      <td>-0.268204</td>\n",
              "      <td>-0.268714</td>\n",
              "      <td>-0.482284</td>\n",
              "      <td>-0.037457</td>\n",
              "      <td>-0.146996</td>\n",
              "      <td>-0.309631</td>\n",
              "      <td>-0.240904</td>\n",
              "      <td>-0.198971</td>\n",
              "      <td>-0.473094</td>\n",
              "      <td>-0.048939</td>\n",
              "      <td>0.286491</td>\n",
              "      <td>0.058721</td>\n",
              "      <td>0.528682</td>\n",
              "      <td>0.099932</td>\n",
              "      <td>0.180572</td>\n",
              "      <td>-0.011466</td>\n",
              "      <td>0.108144</td>\n",
              "      <td>-0.094277</td>\n",
              "    </tr>\n",
              "  </tbody>\n",
              "</table>\n",
              "<p>5 rows × 1024 columns</p>\n",
              "</div>"
            ],
            "text/plain": [
              "       0         1         2     ...      1021      1022      1023\n",
              "0  0.071381  0.195194 -0.091499  ... -0.374760  0.188675  0.161746\n",
              "1  0.197677  0.139034 -0.162011  ... -0.084821  0.454332 -0.033999\n",
              "2  0.170616 -0.435246  0.100215  ... -0.022320  0.432490 -0.021742\n",
              "3  0.112675 -0.106532  0.029696  ... -0.060457  0.317629  0.018689\n",
              "4  0.114391 -0.255723 -0.013560  ... -0.011466  0.108144 -0.094277\n",
              "\n",
              "[5 rows x 1024 columns]"
            ]
          },
          "metadata": {
            "tags": []
          },
          "execution_count": 34
        }
      ]
    },
    {
      "cell_type": "markdown",
      "metadata": {
        "id": "P9H_Ykc5pqhi"
      },
      "source": [
        "Maybe we could use the elmo embeddings to check for similarity?"
      ]
    },
    {
      "cell_type": "code",
      "metadata": {
        "id": "pf7oiJH_p5TR",
        "colab": {
          "base_uri": "https://localhost:8080/",
          "height": 68
        },
        "outputId": "0a5af750-905d-4e07-fde4-e4181c4324fd"
      },
      "source": [
        "#cosine(w2v_df[:1])\n",
        "elmo_similar = cdist(corpus_elm_df[:1], corpus_elm_df, metric='cosine')\n",
        "print(elmo_similar)"
      ],
      "execution_count": null,
      "outputs": [
        {
          "output_type": "stream",
          "text": [
            "[[1.11022302e-16 1.94381002e-01 2.19225268e-01 2.12467655e-01\n",
            "  3.00232087e-01 2.28327178e-01 3.34123060e-01 2.12331353e-01\n",
            "  2.99280351e-01 1.61800893e-01]]\n"
          ],
          "name": "stdout"
        }
      ]
    },
    {
      "cell_type": "code",
      "metadata": {
        "id": "bO3K6CSgqKlO",
        "colab": {
          "base_uri": "https://localhost:8080/",
          "height": 71
        },
        "outputId": "1faaf52f-edea-4010-dc7c-e444f2169c91"
      },
      "source": [
        "elmo_most_sim = corpus_elm_df.index[np.argmax(elmo_similar)]\n",
        "print(elmo_most_sim)\n",
        "print(stem_data[elmo_most_sim])"
      ],
      "execution_count": null,
      "outputs": [
        {
          "output_type": "stream",
          "text": [
            "6\n",
            "brain tumor treatment thank peopl respond request info treatment astrocytoma email couldn thank directli mail bounc prob sean debra sharon thought publicli thank thank sure glad accident hit instead try delet file septemb hmmm new\n"
          ],
          "name": "stdout"
        }
      ]
    },
    {
      "cell_type": "code",
      "metadata": {
        "id": "LI1uiYJuqf4d",
        "colab": {
          "base_uri": "https://localhost:8080/",
          "height": 54
        },
        "outputId": "5adfc22f-1acb-47b7-c5e0-dcbb2d8e9d92"
      },
      "source": [
        "print(stem_data[corpus_elm_df[:1].index[0]])"
      ],
      "execution_count": null,
      "outputs": [
        {
          "output_type": "stream",
          "text": [
            "car wonder enlighten car saw dai door sport car look late earli call bricklin door small addit bumper separ rest bodi know tellm model engin spec year product car histori info funki look car mail thank\n"
          ],
          "name": "stdout"
        }
      ]
    },
    {
      "cell_type": "markdown",
      "metadata": {
        "id": "CXjVJXj18iPs"
      },
      "source": [
        "### Part 4: BERT\n",
        "14. Load and import the lemmatized dataset from Exercise 2. Call it data_lemma."
      ]
    },
    {
      "cell_type": "code",
      "metadata": {
        "id": "4A9TNfvZ8c3u",
        "colab": {
          "resources": {
            "http://localhost:8080/nbextensions/google.colab/files.js": {
              "data": "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",
              "ok": true,
              "headers": [
                [
                  "content-type",
                  "application/javascript"
                ]
              ],
              "status": 200,
              "status_text": ""
            }
          },
          "base_uri": "https://localhost:8080/",
          "height": 72
        },
        "outputId": "c68d9c6b-cd6e-41ff-c141-9ec5c01a96cb"
      },
      "source": [
        "uploaded = files.upload()"
      ],
      "execution_count": null,
      "outputs": [
        {
          "output_type": "display_data",
          "data": {
            "text/html": [
              "\n",
              "     <input type=\"file\" id=\"files-4c4c54fd-b524-4d9d-b0fc-203fa132fc01\" name=\"files[]\" multiple disabled\n",
              "        style=\"border:none\" />\n",
              "     <output id=\"result-4c4c54fd-b524-4d9d-b0fc-203fa132fc01\">\n",
              "      Upload widget is only available when the cell has been executed in the\n",
              "      current browser session. Please rerun this cell to enable.\n",
              "      </output>\n",
              "      <script src=\"/nbextensions/google.colab/files.js\"></script> "
            ],
            "text/plain": [
              "<IPython.core.display.HTML object>"
            ]
          },
          "metadata": {
            "tags": []
          }
        },
        {
          "output_type": "stream",
          "text": [
            "Saving Lemma.pkl to Lemma.pkl\n"
          ],
          "name": "stdout"
        }
      ]
    },
    {
      "cell_type": "code",
      "metadata": {
        "id": "j6-2UEK08s4M",
        "colab": {
          "base_uri": "https://localhost:8080/",
          "height": 54
        },
        "outputId": "dc5be5d3-3c4c-416d-98e0-ade7a32f1fde"
      },
      "source": [
        "# Load dataset and check first entry\n",
        "data_lemma = pickle.load(open('Lemma.pkl','rb'))\n",
        "print(data_lemma[0])"
      ],
      "execution_count": null,
      "outputs": [
        {
          "output_type": "stream",
          "text": [
            "car wonder enlighten car see day door sport car look late early call bricklin door small addition bumper separate rest body know tellme model engine specs year production car history info funky look car mail thank\n"
          ],
          "name": "stdout"
        }
      ]
    },
    {
      "cell_type": "markdown",
      "metadata": {
        "id": "fmGgkSsY8nOU"
      },
      "source": [
        "15. Run the following code and print the output of each step for the first document. What\n",
        "are those steps doing and why? Hint: You may wish to do a web research to find out."
      ]
    },
    {
      "cell_type": "markdown",
      "metadata": {
        "id": "4Il6Mc9xxeMv"
      },
      "source": [
        "\n",
        "\n",
        "> To make this pooling scheme work, BERT prepends a **[CLS]** token (short for \"classification\") to the start of each sentence (this is essentially like a start-of-sentence token).\n",
        "\n",
        "\n",
        "\n",
        "> When taking two sentences as input, BERT separates the sentences with a special **[SEP]** token. \n",
        "\n",
        "\n"
      ]
    },
    {
      "cell_type": "code",
      "metadata": {
        "id": "c-z3ZP9-8ntd",
        "colab": {
          "base_uri": "https://localhost:8080/",
          "height": 54
        },
        "outputId": "f96bf1e1-9fb9-4644-d748-349f2774fa93"
      },
      "source": [
        "sentences = [\"[CLS] \" + query + \" [SEP]\" for query in data_lemma]\n",
        "print(sentences[0])"
      ],
      "execution_count": null,
      "outputs": [
        {
          "output_type": "stream",
          "text": [
            "[CLS] car wonder enlighten car see day door sport car look late early call bricklin door small addition bumper separate rest body know tellme model engine specs year production car history info funky look car mail thank [SEP]\n"
          ],
          "name": "stdout"
        }
      ]
    },
    {
      "cell_type": "markdown",
      "metadata": {
        "id": "RbmiSFKfzP6r"
      },
      "source": [
        "> Our first step will be initializing a tokenizer so that we handle the input in the same way the BERT model did while pretraining."
      ]
    },
    {
      "cell_type": "code",
      "metadata": {
        "id": "1nlg9eca9KB-",
        "colab": {
          "base_uri": "https://localhost:8080/",
          "height": 103,
          "referenced_widgets": [
            "1130a9e300494183bc606b644eb3de0d",
            "da4583fb81bf4a5d90be4132a351330a",
            "efb8955963c14572a4ef97cb9bcfd1db",
            "757fe637fb864bbdb53428e0aa4fd4d2",
            "60d6cbca7d3d432c859b6991a58ac3bc",
            "8040dc32117d46619805c74ecf3c0d7f",
            "83b9410be45241338b24710773913d6b",
            "32923a84341e4d08b4990346b0626789"
          ]
        },
        "outputId": "ae9a35f4-6491-4b4b-ec68-040294d9c76a"
      },
      "source": [
        "tokenizer = BertTokenizer.from_pretrained('bert-base-uncased')\n",
        "tokenized_texts = [tokenizer.tokenize(sent) for sent in sentences]\n",
        "print(tokenized_texts[0])"
      ],
      "execution_count": null,
      "outputs": [
        {
          "output_type": "display_data",
          "data": {
            "application/vnd.jupyter.widget-view+json": {
              "model_id": "1130a9e300494183bc606b644eb3de0d",
              "version_minor": 0,
              "version_major": 2
            },
            "text/plain": [
              "HBox(children=(FloatProgress(value=0.0, description='Downloading', max=231508.0, style=ProgressStyle(descripti…"
            ]
          },
          "metadata": {
            "tags": []
          }
        },
        {
          "output_type": "stream",
          "text": [
            "\n",
            "['[CLS]', 'car', 'wonder', 'en', '##light', '##en', 'car', 'see', 'day', 'door', 'sport', 'car', 'look', 'late', 'early', 'call', 'brick', '##lin', 'door', 'small', 'addition', 'bumper', 'separate', 'rest', 'body', 'know', 'tell', '##me', 'model', 'engine', 'spec', '##s', 'year', 'production', 'car', 'history', 'info', 'funky', 'look', 'car', 'mail', 'thank', '[SEP]']\n"
          ],
          "name": "stdout"
        }
      ]
    },
    {
      "cell_type": "markdown",
      "metadata": {
        "id": "yfafJICLz8H0"
      },
      "source": [
        "> pad_sequences is used to ensure that all sequences in a list have the same length. By default this is done by padding 0 in the beginning of each sequence until each sequence has the same length as the longest sequence"
      ]
    },
    {
      "cell_type": "code",
      "metadata": {
        "id": "8IiKsrlt9W0q",
        "colab": {
          "base_uri": "https://localhost:8080/",
          "height": 391
        },
        "outputId": "352a5e01-f090-4cb1-e82c-ff45b70875e8"
      },
      "source": [
        "sentences_padded = pad_sequences(tokenized_texts, dtype=object,maxlen= 200, value='[PAD]', truncating=\"post\",padding=\"post\")\n",
        "print(sentences_padded[0])"
      ],
      "execution_count": null,
      "outputs": [
        {
          "output_type": "stream",
          "text": [
            "['[CLS]' 'car' 'wonder' 'en' '##light' '##en' 'car' 'see' 'day' 'door'\n",
            " 'sport' 'car' 'look' 'late' 'early' 'call' 'brick' '##lin' 'door' 'small'\n",
            " 'addition' 'bumper' 'separate' 'rest' 'body' 'know' 'tell' '##me' 'model'\n",
            " 'engine' 'spec' '##s' 'year' 'production' 'car' 'history' 'info' 'funky'\n",
            " 'look' 'car' 'mail' 'thank' '[SEP]' '[PAD]' '[PAD]' '[PAD]' '[PAD]'\n",
            " '[PAD]' '[PAD]' '[PAD]' '[PAD]' '[PAD]' '[PAD]' '[PAD]' '[PAD]' '[PAD]'\n",
            " '[PAD]' '[PAD]' '[PAD]' '[PAD]' '[PAD]' '[PAD]' '[PAD]' '[PAD]' '[PAD]'\n",
            " '[PAD]' '[PAD]' '[PAD]' '[PAD]' '[PAD]' '[PAD]' '[PAD]' '[PAD]' '[PAD]'\n",
            " '[PAD]' '[PAD]' '[PAD]' '[PAD]' '[PAD]' '[PAD]' '[PAD]' '[PAD]' '[PAD]'\n",
            " '[PAD]' '[PAD]' '[PAD]' '[PAD]' '[PAD]' '[PAD]' '[PAD]' '[PAD]' '[PAD]'\n",
            " '[PAD]' '[PAD]' '[PAD]' '[PAD]' '[PAD]' '[PAD]' '[PAD]' '[PAD]' '[PAD]'\n",
            " '[PAD]' '[PAD]' '[PAD]' '[PAD]' '[PAD]' '[PAD]' '[PAD]' '[PAD]' '[PAD]'\n",
            " '[PAD]' '[PAD]' '[PAD]' '[PAD]' '[PAD]' '[PAD]' '[PAD]' '[PAD]' '[PAD]'\n",
            " '[PAD]' '[PAD]' '[PAD]' '[PAD]' '[PAD]' '[PAD]' '[PAD]' '[PAD]' '[PAD]'\n",
            " '[PAD]' '[PAD]' '[PAD]' '[PAD]' '[PAD]' '[PAD]' '[PAD]' '[PAD]' '[PAD]'\n",
            " '[PAD]' '[PAD]' '[PAD]' '[PAD]' '[PAD]' '[PAD]' '[PAD]' '[PAD]' '[PAD]'\n",
            " '[PAD]' '[PAD]' '[PAD]' '[PAD]' '[PAD]' '[PAD]' '[PAD]' '[PAD]' '[PAD]'\n",
            " '[PAD]' '[PAD]' '[PAD]' '[PAD]' '[PAD]' '[PAD]' '[PAD]' '[PAD]' '[PAD]'\n",
            " '[PAD]' '[PAD]' '[PAD]' '[PAD]' '[PAD]' '[PAD]' '[PAD]' '[PAD]' '[PAD]'\n",
            " '[PAD]' '[PAD]' '[PAD]' '[PAD]' '[PAD]' '[PAD]' '[PAD]' '[PAD]' '[PAD]'\n",
            " '[PAD]' '[PAD]' '[PAD]' '[PAD]' '[PAD]' '[PAD]' '[PAD]' '[PAD]' '[PAD]'\n",
            " '[PAD]' '[PAD]' '[PAD]' '[PAD]' '[PAD]' '[PAD]' '[PAD]' '[PAD]' '[PAD]']\n"
          ],
          "name": "stdout"
        }
      ]
    },
    {
      "cell_type": "code",
      "metadata": {
        "id": "l1vWuAvM9PVI",
        "colab": {
          "base_uri": "https://localhost:8080/",
          "height": 54
        },
        "outputId": "c8876b0a-8783-48d5-9b50-4a60f04d55db"
      },
      "source": [
        "sentences_converted = [tokenizer.convert_tokens_to_ids(s) for s in sentences_padded]\n",
        "print(sentences_converted[0])"
      ],
      "execution_count": null,
      "outputs": [
        {
          "output_type": "stream",
          "text": [
            "[101, 2482, 4687, 4372, 7138, 2368, 2482, 2156, 2154, 2341, 4368, 2482, 2298, 2397, 2220, 2655, 5318, 4115, 2341, 2235, 2804, 21519, 3584, 2717, 2303, 2113, 2425, 4168, 2944, 3194, 28699, 2015, 2095, 2537, 2482, 2381, 18558, 24151, 2298, 2482, 5653, 4067, 102, 0, 0, 0, 0, 0, 0, 0, 0, 0, 0, 0, 0, 0, 0, 0, 0, 0, 0, 0, 0, 0, 0, 0, 0, 0, 0, 0, 0, 0, 0, 0, 0, 0, 0, 0, 0, 0, 0, 0, 0, 0, 0, 0, 0, 0, 0, 0, 0, 0, 0, 0, 0, 0, 0, 0, 0, 0, 0, 0, 0, 0, 0, 0, 0, 0, 0, 0, 0, 0, 0, 0, 0, 0, 0, 0, 0, 0, 0, 0, 0, 0, 0, 0, 0, 0, 0, 0, 0, 0, 0, 0, 0, 0, 0, 0, 0, 0, 0, 0, 0, 0, 0, 0, 0, 0, 0, 0, 0, 0, 0, 0, 0, 0, 0, 0, 0, 0, 0, 0, 0, 0, 0, 0, 0, 0, 0, 0, 0, 0, 0, 0, 0, 0, 0, 0, 0, 0, 0, 0, 0, 0, 0, 0, 0, 0, 0, 0, 0, 0, 0, 0, 0, 0, 0, 0, 0, 0]\n"
          ],
          "name": "stdout"
        }
      ]
    },
    {
      "cell_type": "code",
      "metadata": {
        "id": "U50Qwxfq9kjf",
        "colab": {
          "base_uri": "https://localhost:8080/",
          "height": 339,
          "referenced_widgets": [
            "eb36db878e024b2298f52cae454ca6f7",
            "5ae611cbe6944f4ca0f7ce6929432151",
            "db73c43e70ca4e30b0933a3e1bf6e4c1",
            "aeb4049506184f85bf96320cb968ee60",
            "e0d8d24aba6346dba84dd29216a2fc53",
            "bf5e338d67684d01b248e6e9c213ed58",
            "3fa4a6550d44438c9f3867f6dde86b17",
            "4418622b6f0c49978dd63a232f5ef352",
            "776b948434e241cdae645ff9bfe960dc",
            "83feb69b0a3f44139da3b3d809206342",
            "7611499e04394d8098f0750f0b1148d6",
            "af37f67640ee46f0a0c9b6c9e103c514",
            "3d91d59885794c57955071121026ea04",
            "a76443ba198f40118826f62af81a8207",
            "1bbda75325054794993a82c2a0aa7095",
            "140145309a6f4e9b9241ec039ac8f973"
          ]
        },
        "outputId": "05fc7ab6-8f49-4698-c7e5-f5d5fdcd0f76"
      },
      "source": [
        "model= TFBertModel.from_pretrained('bert-base-uncased') \n",
        "input_ids=tf.cast(sentences_converted[0:10],tf.int32) \n",
        "outputs = model(input_ids)\n",
        "last_hidden_state = outputs[0]\n",
        "print(last_hidden_state)"
      ],
      "execution_count": null,
      "outputs": [
        {
          "output_type": "display_data",
          "data": {
            "application/vnd.jupyter.widget-view+json": {
              "model_id": "eb36db878e024b2298f52cae454ca6f7",
              "version_minor": 0,
              "version_major": 2
            },
            "text/plain": [
              "HBox(children=(FloatProgress(value=0.0, description='Downloading', max=433.0, style=ProgressStyle(description_…"
            ]
          },
          "metadata": {
            "tags": []
          }
        },
        {
          "output_type": "stream",
          "text": [
            "\n"
          ],
          "name": "stdout"
        },
        {
          "output_type": "display_data",
          "data": {
            "application/vnd.jupyter.widget-view+json": {
              "model_id": "776b948434e241cdae645ff9bfe960dc",
              "version_minor": 0,
              "version_major": 2
            },
            "text/plain": [
              "HBox(children=(FloatProgress(value=0.0, description='Downloading', max=536063208.0, style=ProgressStyle(descri…"
            ]
          },
          "metadata": {
            "tags": []
          }
        },
        {
          "output_type": "stream",
          "text": [
            "\n",
            "WARNING:tensorflow:From /usr/local/lib/python3.6/dist-packages/tensorflow/python/ops/resource_variable_ops.py:1666: calling BaseResourceVariable.__init__ (from tensorflow.python.ops.resource_variable_ops) with constraint is deprecated and will be removed in a future version.\n",
            "Instructions for updating:\n",
            "If using Keras pass *_constraint arguments to layers.\n"
          ],
          "name": "stdout"
        },
        {
          "output_type": "stream",
          "text": [
            "WARNING:tensorflow:From /usr/local/lib/python3.6/dist-packages/tensorflow/python/ops/resource_variable_ops.py:1666: calling BaseResourceVariable.__init__ (from tensorflow.python.ops.resource_variable_ops) with constraint is deprecated and will be removed in a future version.\n",
            "Instructions for updating:\n",
            "If using Keras pass *_constraint arguments to layers.\n",
            "WARNING:transformers.modeling_tf_utils:Some weights of the model checkpoint at bert-base-uncased were not used when initializing TFBertModel: ['mlm___cls', 'nsp___cls']\n",
            "- This IS expected if you are initializing TFBertModel from the checkpoint of a model trained on another task or with another architecture (e.g. initializing a BertForSequenceClassification model from a BertForPretraining model).\n",
            "- This IS NOT expected if you are initializing TFBertModel from the checkpoint of a model that you expect to be exactly identical (initializing a BertForSequenceClassification model from a BertForSequenceClassification model).\n",
            "WARNING:transformers.modeling_tf_utils:All the weights of TFBertModel were initialized from the model checkpoint at bert-base-uncased.\n",
            "If your task is similar to the task the model of the ckeckpoint was trained on, you can already use TFBertModel for predictions without further training.\n"
          ],
          "name": "stderr"
        },
        {
          "output_type": "stream",
          "text": [
            "Tensor(\"tf_bert_model_2/bert/encoder/layer_._11/output/LayerNorm/batchnorm/add_1:0\", shape=(10, 200, 768), dtype=float32)\n"
          ],
          "name": "stdout"
        }
      ]
    },
    {
      "cell_type": "code",
      "metadata": {
        "id": "RMbC7HzA9mkT",
        "colab": {
          "base_uri": "https://localhost:8080/",
          "height": 34
        },
        "outputId": "2e59dfbc-4f88-4962-fcd5-d142b530ab1b"
      },
      "source": [
        "mean_embeddings=tf.reduce_mean(last_hidden_state,1)\n",
        "print(mean_embeddings)"
      ],
      "execution_count": null,
      "outputs": [
        {
          "output_type": "stream",
          "text": [
            "Tensor(\"Mean:0\", shape=(10, 768), dtype=float32)\n"
          ],
          "name": "stdout"
        }
      ]
    },
    {
      "cell_type": "code",
      "metadata": {
        "id": "dBZQXi0B9yBz"
      },
      "source": [
        "init = tf.compat.v1.global_variables_initializer()\n",
        "with tf.compat.v1.Session() as sess: \n",
        "  sess.run(init)\n",
        "  result = sess.run(mean_embeddings)\n"
      ],
      "execution_count": null,
      "outputs": []
    },
    {
      "cell_type": "markdown",
      "metadata": {
        "id": "wfwI3R8Z90YP"
      },
      "source": [
        "Store result in a data frame and print its head. What does this object contain? How can you use it for further tasks?\n",
        "Note: you can use more than 10 documents, but make sure you distribute those in different sessions."
      ]
    },
    {
      "cell_type": "code",
      "metadata": {
        "id": "y2D41Pei91Hg",
        "colab": {
          "base_uri": "https://localhost:8080/",
          "height": 253
        },
        "outputId": "3508677f-ec98-44a1-ae39-962097d936ca"
      },
      "source": [
        "corpus_bert_df = pd.DataFrame(result)\n",
        "corpus_bert_df.head()"
      ],
      "execution_count": null,
      "outputs": [
        {
          "output_type": "execute_result",
          "data": {
            "text/html": [
              "<div>\n",
              "<style scoped>\n",
              "    .dataframe tbody tr th:only-of-type {\n",
              "        vertical-align: middle;\n",
              "    }\n",
              "\n",
              "    .dataframe tbody tr th {\n",
              "        vertical-align: top;\n",
              "    }\n",
              "\n",
              "    .dataframe thead th {\n",
              "        text-align: right;\n",
              "    }\n",
              "</style>\n",
              "<table border=\"1\" class=\"dataframe\">\n",
              "  <thead>\n",
              "    <tr style=\"text-align: right;\">\n",
              "      <th></th>\n",
              "      <th>0</th>\n",
              "      <th>1</th>\n",
              "      <th>2</th>\n",
              "      <th>3</th>\n",
              "      <th>4</th>\n",
              "      <th>5</th>\n",
              "      <th>6</th>\n",
              "      <th>7</th>\n",
              "      <th>8</th>\n",
              "      <th>9</th>\n",
              "      <th>10</th>\n",
              "      <th>11</th>\n",
              "      <th>12</th>\n",
              "      <th>13</th>\n",
              "      <th>14</th>\n",
              "      <th>15</th>\n",
              "      <th>16</th>\n",
              "      <th>17</th>\n",
              "      <th>18</th>\n",
              "      <th>19</th>\n",
              "      <th>20</th>\n",
              "      <th>21</th>\n",
              "      <th>22</th>\n",
              "      <th>23</th>\n",
              "      <th>24</th>\n",
              "      <th>25</th>\n",
              "      <th>26</th>\n",
              "      <th>27</th>\n",
              "      <th>28</th>\n",
              "      <th>29</th>\n",
              "      <th>30</th>\n",
              "      <th>31</th>\n",
              "      <th>32</th>\n",
              "      <th>33</th>\n",
              "      <th>34</th>\n",
              "      <th>35</th>\n",
              "      <th>36</th>\n",
              "      <th>37</th>\n",
              "      <th>38</th>\n",
              "      <th>39</th>\n",
              "      <th>...</th>\n",
              "      <th>728</th>\n",
              "      <th>729</th>\n",
              "      <th>730</th>\n",
              "      <th>731</th>\n",
              "      <th>732</th>\n",
              "      <th>733</th>\n",
              "      <th>734</th>\n",
              "      <th>735</th>\n",
              "      <th>736</th>\n",
              "      <th>737</th>\n",
              "      <th>738</th>\n",
              "      <th>739</th>\n",
              "      <th>740</th>\n",
              "      <th>741</th>\n",
              "      <th>742</th>\n",
              "      <th>743</th>\n",
              "      <th>744</th>\n",
              "      <th>745</th>\n",
              "      <th>746</th>\n",
              "      <th>747</th>\n",
              "      <th>748</th>\n",
              "      <th>749</th>\n",
              "      <th>750</th>\n",
              "      <th>751</th>\n",
              "      <th>752</th>\n",
              "      <th>753</th>\n",
              "      <th>754</th>\n",
              "      <th>755</th>\n",
              "      <th>756</th>\n",
              "      <th>757</th>\n",
              "      <th>758</th>\n",
              "      <th>759</th>\n",
              "      <th>760</th>\n",
              "      <th>761</th>\n",
              "      <th>762</th>\n",
              "      <th>763</th>\n",
              "      <th>764</th>\n",
              "      <th>765</th>\n",
              "      <th>766</th>\n",
              "      <th>767</th>\n",
              "    </tr>\n",
              "  </thead>\n",
              "  <tbody>\n",
              "    <tr>\n",
              "      <th>0</th>\n",
              "      <td>-0.170458</td>\n",
              "      <td>-0.653127</td>\n",
              "      <td>0.345098</td>\n",
              "      <td>-0.064987</td>\n",
              "      <td>-1.452454</td>\n",
              "      <td>-0.168962</td>\n",
              "      <td>0.686052</td>\n",
              "      <td>0.379111</td>\n",
              "      <td>0.522723</td>\n",
              "      <td>-0.053348</td>\n",
              "      <td>0.652380</td>\n",
              "      <td>0.587839</td>\n",
              "      <td>1.122612</td>\n",
              "      <td>-1.880497</td>\n",
              "      <td>-0.793651</td>\n",
              "      <td>-0.019234</td>\n",
              "      <td>1.056585</td>\n",
              "      <td>0.004015</td>\n",
              "      <td>1.315714</td>\n",
              "      <td>0.383291</td>\n",
              "      <td>1.209543</td>\n",
              "      <td>0.321897</td>\n",
              "      <td>-0.434226</td>\n",
              "      <td>-0.589653</td>\n",
              "      <td>-1.053622</td>\n",
              "      <td>-0.732756</td>\n",
              "      <td>0.297357</td>\n",
              "      <td>-0.359043</td>\n",
              "      <td>-0.410570</td>\n",
              "      <td>1.480325</td>\n",
              "      <td>1.040380</td>\n",
              "      <td>0.180598</td>\n",
              "      <td>1.147713</td>\n",
              "      <td>0.073048</td>\n",
              "      <td>0.932117</td>\n",
              "      <td>-1.508389</td>\n",
              "      <td>1.130614</td>\n",
              "      <td>1.203676</td>\n",
              "      <td>-1.490379</td>\n",
              "      <td>-0.590931</td>\n",
              "      <td>...</td>\n",
              "      <td>0.196813</td>\n",
              "      <td>0.475859</td>\n",
              "      <td>-0.163888</td>\n",
              "      <td>0.232128</td>\n",
              "      <td>0.266089</td>\n",
              "      <td>0.889039</td>\n",
              "      <td>0.132070</td>\n",
              "      <td>0.617506</td>\n",
              "      <td>1.787864</td>\n",
              "      <td>-0.517471</td>\n",
              "      <td>0.812471</td>\n",
              "      <td>1.053689</td>\n",
              "      <td>-0.257285</td>\n",
              "      <td>-0.217252</td>\n",
              "      <td>1.158489</td>\n",
              "      <td>-0.411412</td>\n",
              "      <td>0.358174</td>\n",
              "      <td>-0.040617</td>\n",
              "      <td>-0.999985</td>\n",
              "      <td>-0.812283</td>\n",
              "      <td>0.751829</td>\n",
              "      <td>-0.306615</td>\n",
              "      <td>-0.844451</td>\n",
              "      <td>0.285206</td>\n",
              "      <td>0.981825</td>\n",
              "      <td>-0.227392</td>\n",
              "      <td>-0.505802</td>\n",
              "      <td>0.280369</td>\n",
              "      <td>1.311274</td>\n",
              "      <td>0.738192</td>\n",
              "      <td>1.224730</td>\n",
              "      <td>-0.475266</td>\n",
              "      <td>-1.291861</td>\n",
              "      <td>0.081470</td>\n",
              "      <td>0.534557</td>\n",
              "      <td>-0.354931</td>\n",
              "      <td>0.918021</td>\n",
              "      <td>0.954238</td>\n",
              "      <td>-0.846923</td>\n",
              "      <td>0.782408</td>\n",
              "    </tr>\n",
              "    <tr>\n",
              "      <th>1</th>\n",
              "      <td>-0.253974</td>\n",
              "      <td>-0.673361</td>\n",
              "      <td>0.511080</td>\n",
              "      <td>-0.050205</td>\n",
              "      <td>-1.532552</td>\n",
              "      <td>-0.155999</td>\n",
              "      <td>0.710507</td>\n",
              "      <td>0.464843</td>\n",
              "      <td>0.450612</td>\n",
              "      <td>-0.028470</td>\n",
              "      <td>0.506875</td>\n",
              "      <td>0.598392</td>\n",
              "      <td>1.029074</td>\n",
              "      <td>-1.684195</td>\n",
              "      <td>-0.690386</td>\n",
              "      <td>0.140580</td>\n",
              "      <td>0.902768</td>\n",
              "      <td>-0.088746</td>\n",
              "      <td>1.147090</td>\n",
              "      <td>0.275583</td>\n",
              "      <td>1.216975</td>\n",
              "      <td>0.413588</td>\n",
              "      <td>-0.249957</td>\n",
              "      <td>-0.664633</td>\n",
              "      <td>-1.025091</td>\n",
              "      <td>-0.571542</td>\n",
              "      <td>0.378328</td>\n",
              "      <td>-0.424285</td>\n",
              "      <td>-0.324310</td>\n",
              "      <td>1.452877</td>\n",
              "      <td>0.899751</td>\n",
              "      <td>0.113077</td>\n",
              "      <td>1.230055</td>\n",
              "      <td>0.080670</td>\n",
              "      <td>0.988014</td>\n",
              "      <td>-1.455190</td>\n",
              "      <td>1.177265</td>\n",
              "      <td>1.225021</td>\n",
              "      <td>-1.595695</td>\n",
              "      <td>-0.483198</td>\n",
              "      <td>...</td>\n",
              "      <td>0.175497</td>\n",
              "      <td>0.646176</td>\n",
              "      <td>-0.130074</td>\n",
              "      <td>0.337264</td>\n",
              "      <td>0.309437</td>\n",
              "      <td>0.732836</td>\n",
              "      <td>0.117325</td>\n",
              "      <td>0.734559</td>\n",
              "      <td>1.727379</td>\n",
              "      <td>-0.445629</td>\n",
              "      <td>0.847046</td>\n",
              "      <td>1.029743</td>\n",
              "      <td>-0.155353</td>\n",
              "      <td>-0.222819</td>\n",
              "      <td>1.188308</td>\n",
              "      <td>-0.345413</td>\n",
              "      <td>0.354500</td>\n",
              "      <td>-0.113541</td>\n",
              "      <td>-0.934370</td>\n",
              "      <td>-0.664493</td>\n",
              "      <td>0.665019</td>\n",
              "      <td>-0.317215</td>\n",
              "      <td>-0.637114</td>\n",
              "      <td>0.204578</td>\n",
              "      <td>0.941765</td>\n",
              "      <td>-0.258261</td>\n",
              "      <td>-0.429321</td>\n",
              "      <td>0.148350</td>\n",
              "      <td>1.242222</td>\n",
              "      <td>0.757759</td>\n",
              "      <td>1.131970</td>\n",
              "      <td>-0.749254</td>\n",
              "      <td>-1.133600</td>\n",
              "      <td>0.052506</td>\n",
              "      <td>0.367574</td>\n",
              "      <td>-0.403532</td>\n",
              "      <td>0.878676</td>\n",
              "      <td>1.017440</td>\n",
              "      <td>-0.801245</td>\n",
              "      <td>0.763973</td>\n",
              "    </tr>\n",
              "    <tr>\n",
              "      <th>2</th>\n",
              "      <td>-0.172993</td>\n",
              "      <td>-1.019660</td>\n",
              "      <td>0.756207</td>\n",
              "      <td>0.131656</td>\n",
              "      <td>-1.612421</td>\n",
              "      <td>-0.010500</td>\n",
              "      <td>0.630341</td>\n",
              "      <td>0.901812</td>\n",
              "      <td>0.484832</td>\n",
              "      <td>-0.122190</td>\n",
              "      <td>0.274887</td>\n",
              "      <td>0.397976</td>\n",
              "      <td>0.662662</td>\n",
              "      <td>-1.077864</td>\n",
              "      <td>-0.503960</td>\n",
              "      <td>0.466283</td>\n",
              "      <td>0.521020</td>\n",
              "      <td>-0.383303</td>\n",
              "      <td>0.468499</td>\n",
              "      <td>0.232360</td>\n",
              "      <td>1.001407</td>\n",
              "      <td>0.772604</td>\n",
              "      <td>0.096413</td>\n",
              "      <td>-0.714483</td>\n",
              "      <td>-0.825668</td>\n",
              "      <td>-0.100099</td>\n",
              "      <td>0.530355</td>\n",
              "      <td>-0.570946</td>\n",
              "      <td>-0.052786</td>\n",
              "      <td>1.082864</td>\n",
              "      <td>0.506244</td>\n",
              "      <td>0.001263</td>\n",
              "      <td>1.408715</td>\n",
              "      <td>0.034017</td>\n",
              "      <td>1.025525</td>\n",
              "      <td>-1.165022</td>\n",
              "      <td>1.063148</td>\n",
              "      <td>1.027993</td>\n",
              "      <td>-1.665717</td>\n",
              "      <td>-0.306985</td>\n",
              "      <td>...</td>\n",
              "      <td>0.163915</td>\n",
              "      <td>0.889299</td>\n",
              "      <td>0.073236</td>\n",
              "      <td>0.475210</td>\n",
              "      <td>0.375816</td>\n",
              "      <td>0.491722</td>\n",
              "      <td>0.102273</td>\n",
              "      <td>0.681327</td>\n",
              "      <td>1.241831</td>\n",
              "      <td>-0.430871</td>\n",
              "      <td>0.842376</td>\n",
              "      <td>0.969332</td>\n",
              "      <td>-0.085378</td>\n",
              "      <td>0.013679</td>\n",
              "      <td>1.174982</td>\n",
              "      <td>-0.320897</td>\n",
              "      <td>0.388424</td>\n",
              "      <td>-0.548179</td>\n",
              "      <td>-0.699639</td>\n",
              "      <td>-0.334304</td>\n",
              "      <td>0.495946</td>\n",
              "      <td>-0.381873</td>\n",
              "      <td>-0.079468</td>\n",
              "      <td>-0.078580</td>\n",
              "      <td>0.722576</td>\n",
              "      <td>-0.388645</td>\n",
              "      <td>-0.190262</td>\n",
              "      <td>0.110425</td>\n",
              "      <td>1.043377</td>\n",
              "      <td>0.782169</td>\n",
              "      <td>0.832200</td>\n",
              "      <td>-1.298404</td>\n",
              "      <td>-0.758087</td>\n",
              "      <td>0.000477</td>\n",
              "      <td>0.201861</td>\n",
              "      <td>-0.520458</td>\n",
              "      <td>0.764087</td>\n",
              "      <td>0.952692</td>\n",
              "      <td>-0.623989</td>\n",
              "      <td>0.690643</td>\n",
              "    </tr>\n",
              "    <tr>\n",
              "      <th>3</th>\n",
              "      <td>-0.243290</td>\n",
              "      <td>-0.724696</td>\n",
              "      <td>0.516203</td>\n",
              "      <td>0.089570</td>\n",
              "      <td>-1.462053</td>\n",
              "      <td>-0.095110</td>\n",
              "      <td>0.694003</td>\n",
              "      <td>0.542176</td>\n",
              "      <td>0.446446</td>\n",
              "      <td>-0.048586</td>\n",
              "      <td>0.567066</td>\n",
              "      <td>0.556603</td>\n",
              "      <td>0.913316</td>\n",
              "      <td>-1.592775</td>\n",
              "      <td>-0.724172</td>\n",
              "      <td>0.149579</td>\n",
              "      <td>0.836860</td>\n",
              "      <td>-0.124864</td>\n",
              "      <td>0.991511</td>\n",
              "      <td>0.248721</td>\n",
              "      <td>1.128001</td>\n",
              "      <td>0.449874</td>\n",
              "      <td>-0.232177</td>\n",
              "      <td>-0.619936</td>\n",
              "      <td>-0.926255</td>\n",
              "      <td>-0.468638</td>\n",
              "      <td>0.426633</td>\n",
              "      <td>-0.462715</td>\n",
              "      <td>-0.247197</td>\n",
              "      <td>1.380158</td>\n",
              "      <td>0.879754</td>\n",
              "      <td>0.151052</td>\n",
              "      <td>1.255262</td>\n",
              "      <td>0.119380</td>\n",
              "      <td>0.964753</td>\n",
              "      <td>-1.349832</td>\n",
              "      <td>1.132657</td>\n",
              "      <td>1.148606</td>\n",
              "      <td>-1.610573</td>\n",
              "      <td>-0.556562</td>\n",
              "      <td>...</td>\n",
              "      <td>0.162831</td>\n",
              "      <td>0.605357</td>\n",
              "      <td>-0.071513</td>\n",
              "      <td>0.396362</td>\n",
              "      <td>0.387047</td>\n",
              "      <td>0.743945</td>\n",
              "      <td>0.093980</td>\n",
              "      <td>0.705977</td>\n",
              "      <td>1.583067</td>\n",
              "      <td>-0.487066</td>\n",
              "      <td>0.834493</td>\n",
              "      <td>1.060038</td>\n",
              "      <td>-0.180655</td>\n",
              "      <td>-0.198952</td>\n",
              "      <td>1.251622</td>\n",
              "      <td>-0.367737</td>\n",
              "      <td>0.420035</td>\n",
              "      <td>-0.165058</td>\n",
              "      <td>-1.004032</td>\n",
              "      <td>-0.604056</td>\n",
              "      <td>0.663242</td>\n",
              "      <td>-0.352892</td>\n",
              "      <td>-0.589845</td>\n",
              "      <td>0.157812</td>\n",
              "      <td>0.925024</td>\n",
              "      <td>-0.231996</td>\n",
              "      <td>-0.321238</td>\n",
              "      <td>0.188851</td>\n",
              "      <td>1.188400</td>\n",
              "      <td>0.755945</td>\n",
              "      <td>1.096868</td>\n",
              "      <td>-0.755400</td>\n",
              "      <td>-1.110425</td>\n",
              "      <td>0.072539</td>\n",
              "      <td>0.417367</td>\n",
              "      <td>-0.454594</td>\n",
              "      <td>0.930092</td>\n",
              "      <td>0.945061</td>\n",
              "      <td>-0.771752</td>\n",
              "      <td>0.713548</td>\n",
              "    </tr>\n",
              "    <tr>\n",
              "      <th>4</th>\n",
              "      <td>-0.193788</td>\n",
              "      <td>-0.891993</td>\n",
              "      <td>0.570361</td>\n",
              "      <td>0.038182</td>\n",
              "      <td>-1.505997</td>\n",
              "      <td>-0.168567</td>\n",
              "      <td>0.648142</td>\n",
              "      <td>0.597501</td>\n",
              "      <td>0.437459</td>\n",
              "      <td>-0.025764</td>\n",
              "      <td>0.455223</td>\n",
              "      <td>0.500430</td>\n",
              "      <td>0.960452</td>\n",
              "      <td>-1.500156</td>\n",
              "      <td>-0.731928</td>\n",
              "      <td>0.279215</td>\n",
              "      <td>0.701769</td>\n",
              "      <td>-0.220644</td>\n",
              "      <td>0.846265</td>\n",
              "      <td>0.287925</td>\n",
              "      <td>1.178856</td>\n",
              "      <td>0.547632</td>\n",
              "      <td>-0.261870</td>\n",
              "      <td>-0.590929</td>\n",
              "      <td>-0.958314</td>\n",
              "      <td>-0.391722</td>\n",
              "      <td>0.454164</td>\n",
              "      <td>-0.488057</td>\n",
              "      <td>-0.140341</td>\n",
              "      <td>1.345245</td>\n",
              "      <td>0.779324</td>\n",
              "      <td>0.099283</td>\n",
              "      <td>1.233431</td>\n",
              "      <td>0.166530</td>\n",
              "      <td>0.908874</td>\n",
              "      <td>-1.413623</td>\n",
              "      <td>1.154562</td>\n",
              "      <td>1.101865</td>\n",
              "      <td>-1.618606</td>\n",
              "      <td>-0.490500</td>\n",
              "      <td>...</td>\n",
              "      <td>0.193484</td>\n",
              "      <td>0.660452</td>\n",
              "      <td>-0.042251</td>\n",
              "      <td>0.306545</td>\n",
              "      <td>0.348327</td>\n",
              "      <td>0.738846</td>\n",
              "      <td>0.034003</td>\n",
              "      <td>0.704891</td>\n",
              "      <td>1.528556</td>\n",
              "      <td>-0.478298</td>\n",
              "      <td>0.815849</td>\n",
              "      <td>1.026460</td>\n",
              "      <td>-0.172018</td>\n",
              "      <td>-0.178020</td>\n",
              "      <td>1.233534</td>\n",
              "      <td>-0.340832</td>\n",
              "      <td>0.349809</td>\n",
              "      <td>-0.217813</td>\n",
              "      <td>-0.876745</td>\n",
              "      <td>-0.587159</td>\n",
              "      <td>0.566960</td>\n",
              "      <td>-0.341688</td>\n",
              "      <td>-0.502084</td>\n",
              "      <td>0.081650</td>\n",
              "      <td>0.892714</td>\n",
              "      <td>-0.250044</td>\n",
              "      <td>-0.317657</td>\n",
              "      <td>0.227114</td>\n",
              "      <td>1.178012</td>\n",
              "      <td>0.766620</td>\n",
              "      <td>1.044332</td>\n",
              "      <td>-0.877433</td>\n",
              "      <td>-0.942268</td>\n",
              "      <td>0.043021</td>\n",
              "      <td>0.345949</td>\n",
              "      <td>-0.512940</td>\n",
              "      <td>0.952721</td>\n",
              "      <td>0.992317</td>\n",
              "      <td>-0.712099</td>\n",
              "      <td>0.804638</td>\n",
              "    </tr>\n",
              "  </tbody>\n",
              "</table>\n",
              "<p>5 rows × 768 columns</p>\n",
              "</div>"
            ],
            "text/plain": [
              "        0         1         2    ...       765       766       767\n",
              "0 -0.170458 -0.653127  0.345098  ...  0.954238 -0.846923  0.782408\n",
              "1 -0.253974 -0.673361  0.511080  ...  1.017440 -0.801245  0.763973\n",
              "2 -0.172993 -1.019660  0.756207  ...  0.952692 -0.623989  0.690643\n",
              "3 -0.243290 -0.724696  0.516203  ...  0.945061 -0.771752  0.713548\n",
              "4 -0.193788 -0.891993  0.570361  ...  0.992317 -0.712099  0.804638\n",
              "\n",
              "[5 rows x 768 columns]"
            ]
          },
          "metadata": {
            "tags": []
          },
          "execution_count": 55
        }
      ]
    },
    {
      "cell_type": "code",
      "metadata": {
        "id": "2MW4qiTK-Tbd"
      },
      "source": [
        ""
      ],
      "execution_count": null,
      "outputs": []
    }
  ]
}